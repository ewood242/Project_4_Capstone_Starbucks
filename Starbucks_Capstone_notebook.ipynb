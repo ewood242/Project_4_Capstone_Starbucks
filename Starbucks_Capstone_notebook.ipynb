{
 "cells": [
  {
   "cell_type": "markdown",
   "metadata": {},
   "source": [
    "# Starbucks Capstone Challenge\n",
    "\n",
    "### Introduction\n",
    "\n",
    "This data set contains simulated data that mimics customer behavior on the Starbucks rewards mobile app. Once every few days, Starbucks sends out an offer to users of the mobile app. An offer can be merely an advertisement for a drink or an actual offer such as a discount or BOGO (buy one get one free). Some users might not receive any offer during certain weeks. \n",
    "\n",
    "Not all users receive the same offer, and that is the challenge to solve with this data set.\n",
    "\n",
    "Your task is to combine transaction, demographic and offer data to determine which demographic groups respond best to which offer type. This data set is a simplified version of the real Starbucks app because the underlying simulator only has one product whereas Starbucks actually sells dozens of products.\n",
    "\n",
    "Every offer has a validity period before the offer expires. As an example, a BOGO offer might be valid for only 5 days. You'll see in the data set that informational offers have a validity period even though these ads are merely providing information about a product; for example, if an informational offer has 7 days of validity, you can assume the customer is feeling the influence of the offer for 7 days after receiving the advertisement.\n",
    "\n",
    "You'll be given transactional data showing user purchases made on the app including the timestamp of purchase and the amount of money spent on a purchase. This transactional data also has a record for each offer that a user receives as well as a record for when a user actually views the offer. There are also records for when a user completes an offer. \n",
    "\n",
    "Keep in mind as well that someone using the app might make a purchase through the app without having received an offer or seen an offer.\n",
    "\n",
    "### Example\n",
    "\n",
    "To give an example, a user could receive a discount offer buy 10 dollars get 2 off on Monday. The offer is valid for 10 days from receipt. If the customer accumulates at least 10 dollars in purchases during the validity period, the customer completes the offer.\n",
    "\n",
    "However, there are a few things to watch out for in this data set. Customers do not opt into the offers that they receive; in other words, a user can receive an offer, never actually view the offer, and still complete the offer. For example, a user might receive the \"buy 10 dollars get 2 dollars off offer\", but the user never opens the offer during the 10 day validity period. The customer spends 15 dollars during those ten days. There will be an offer completion record in the data set; however, the customer was not influenced by the offer because the customer never viewed the offer.\n",
    "\n",
    "### Cleaning\n",
    "\n",
    "This makes data cleaning especially important and tricky.\n",
    "\n",
    "You'll also want to take into account that some demographic groups will make purchases even if they don't receive an offer. From a business perspective, if a customer is going to make a 10 dollar purchase without an offer anyway, you wouldn't want to send a buy 10 dollars get 2 dollars off offer. You'll want to try to assess what a certain demographic group will buy when not receiving any offers.\n",
    "\n",
    "### Final Advice\n",
    "\n",
    "Because this is a capstone project, you are free to analyze the data any way you see fit. For example, you could build a machine learning model that predicts how much someone will spend based on demographics and offer type. Or you could build a model that predicts whether or not someone will respond to an offer. Or, you don't need to build a machine learning model at all. You could develop a set of heuristics that determine what offer you should send to each customer (i.e., 75 percent of women customers who were 35 years old responded to offer A vs 40 percent from the same demographic to offer B, so send offer A)."
   ]
  },
  {
   "cell_type": "markdown",
   "metadata": {},
   "source": [
    "# Data Sets\n",
    "\n",
    "The data is contained in three files:\n",
    "\n",
    "* portfolio.json - containing offer ids and meta data about each offer (duration, type, etc.)\n",
    "* profile.json - demographic data for each customer\n",
    "* transcript.json - records for transactions, offers received, offers viewed, and offers completed\n",
    "\n",
    "Here is the schema and explanation of each variable in the files:\n",
    "\n",
    "**portfolio.json**\n",
    "* id (string) - offer id\n",
    "* offer_type (string) - type of offer ie BOGO, discount, informational\n",
    "* difficulty (int) - minimum required spend to complete an offer\n",
    "* reward (int) - reward given for completing an offer\n",
    "* duration (int) - time for offer to be open, in days\n",
    "* channels (list of strings)\n",
    "\n",
    "**profile.json**\n",
    "* age (int) - age of the customer \n",
    "* became_member_on (int) - date when customer created an app account\n",
    "* gender (str) - gender of the customer (note some entries contain 'O' for other rather than M or F)\n",
    "* id (str) - customer id\n",
    "* income (float) - customer's income\n",
    "\n",
    "**transcript.json**\n",
    "* event (str) - record description (ie transaction, offer received, offer viewed, etc.)\n",
    "* person (str) - customer id\n",
    "* time (int) - time in hours since start of test. The data begins at time t=0\n",
    "* value - (dict of strings) - either an offer id or transaction amount depending on the record\n",
    "\n",
    "**Note:** If you are using the workspace, you will need to go to the terminal and run the command `conda update pandas` before reading in the files. This is because the version of pandas in the workspace cannot read in the transcript.json file correctly, but the newest version of pandas can. You can access the termnal from the orange icon in the top left of this notebook.  \n",
    "\n",
    "You can see how to access the terminal and how the install works using the two images below.  First you need to access the terminal:\n",
    "\n",
    "<img src=\"pic1.png\"/>\n",
    "\n",
    "Then you will want to run the above command:\n",
    "\n",
    "<img src=\"pic2.png\"/>\n",
    "\n",
    "Finally, when you enter back into the notebook (use the jupyter icon again), you should be able to run the below cell without any errors."
   ]
  },
  {
   "cell_type": "markdown",
   "metadata": {},
   "source": [
    "# Section 1: Business Understanding"
   ]
  },
  {
   "cell_type": "markdown",
   "metadata": {},
   "source": [
    "### Import required packages."
   ]
  },
  {
   "cell_type": "code",
   "execution_count": 797,
   "metadata": {},
   "outputs": [],
   "source": [
    "import pandas as pd\n",
    "import numpy as np\n",
    "import matplotlib.pyplot as plt\n",
    "import math\n",
    "import json\n",
    "from datetime import datetime\n",
    "\n",
    "%matplotlib inline"
   ]
  },
  {
   "cell_type": "markdown",
   "metadata": {},
   "source": [
    "# Section 2: Data Exploration"
   ]
  },
  {
   "cell_type": "markdown",
   "metadata": {},
   "source": [
    "### Read in the datasets."
   ]
  },
  {
   "cell_type": "code",
   "execution_count": 798,
   "metadata": {},
   "outputs": [],
   "source": [
    "# read in the json files\n",
    "portfolio = pd.read_json('data/portfolio.json', orient='records', lines=True)\n",
    "profile = pd.read_json('data/profile.json', orient='records', lines=True)\n",
    "transcript = pd.read_json('data/transcript.json', orient='records', lines=True)"
   ]
  },
  {
   "cell_type": "markdown",
   "metadata": {},
   "source": [
    "### Create a function to summarize the details of each dataset."
   ]
  },
  {
   "cell_type": "code",
   "execution_count": 799,
   "metadata": {},
   "outputs": [],
   "source": [
    "# Define a function to answer: How large is the dataset? How many null values are there? What proportion of nulls? What are the column types?\n",
    "def df_info(df):\n",
    "    '''\n",
    "    Determine the size and shape of the dataset, the number and proportion of null values in each column, and the data type in each column.\n",
    "    ARGS: \n",
    "    df - dataframe of interest\n",
    "    OUTPUTS: \n",
    "    A string containing the Shape of the dataframe followed by a line for each column containing the \n",
    "    column name: number of null values, proportion of null values, and column type.\n",
    "    '''\n",
    "    print(\"Head:\")\n",
    "    print(df.head())\n",
    "    print()\n",
    "    print(\"Shape: \" + \"\\n\" + str(df.shape))\n",
    "    print()\n",
    "    print(\"Column Info:\")\n",
    "    for column in df.columns:\n",
    "        num_null = df[column].isnull().sum()\n",
    "        prop_null = df[column].isnull().mean()\n",
    "        col_type = df[column].dtype\n",
    "        try:\n",
    "            nunique = df[column].nunique()\n",
    "        except TypeError:\n",
    "            nunique = 'cannot compute for this data type'\n",
    "        print(\"    \" + column + \"\\n\" + \"        \" + str(num_null) + \" nulls, proportion of nulls = \" + \n",
    "              str(prop_null) + \", type = \" + str(col_type) + \", nunique = \" + str(nunique))\n",
    "    print(\"\\n\" + \"Descriptive Statistics:\")\n",
    "    print(df.describe())"
   ]
  },
  {
   "cell_type": "markdown",
   "metadata": {},
   "source": [
    "### Explore the portfolio dataset."
   ]
  },
  {
   "cell_type": "code",
   "execution_count": 800,
   "metadata": {},
   "outputs": [
    {
     "name": "stdout",
     "output_type": "stream",
     "text": [
      "Head:\n",
      "   reward                      channels  difficulty  duration     offer_type  \\\n",
      "0      10       [email, mobile, social]          10         7           bogo   \n",
      "1      10  [web, email, mobile, social]          10         5           bogo   \n",
      "2       0          [web, email, mobile]           0         4  informational   \n",
      "3       5          [web, email, mobile]           5         7           bogo   \n",
      "4       5                  [web, email]          20        10       discount   \n",
      "\n",
      "                                 id  \n",
      "0  ae264e3637204a6fb9bb56bc8210ddfd  \n",
      "1  4d5c57ea9a6940dd891ad53e9dbe8da0  \n",
      "2  3f207df678b143eea3cee63160fa8bed  \n",
      "3  9b98b8c7a33c4b65b9aebfe6a799e6d9  \n",
      "4  0b1e1539f2cc45b7b9fa7c272da2e1d7  \n",
      "\n",
      "Shape: \n",
      "(10, 6)\n",
      "\n",
      "Column Info:\n",
      "    reward\n",
      "        0 nulls, proportion of nulls = 0.0, type = int64, nunique = 5\n",
      "    channels\n",
      "        0 nulls, proportion of nulls = 0.0, type = object, nunique = cannot compute for this data type\n",
      "    difficulty\n",
      "        0 nulls, proportion of nulls = 0.0, type = int64, nunique = 5\n",
      "    duration\n",
      "        0 nulls, proportion of nulls = 0.0, type = int64, nunique = 5\n",
      "    offer_type\n",
      "        0 nulls, proportion of nulls = 0.0, type = object, nunique = 3\n",
      "    id\n",
      "        0 nulls, proportion of nulls = 0.0, type = object, nunique = 10\n",
      "\n",
      "Descriptive Statistics:\n",
      "          reward  difficulty   duration\n",
      "count  10.000000   10.000000  10.000000\n",
      "mean    4.200000    7.700000   6.500000\n",
      "std     3.583915    5.831905   2.321398\n",
      "min     0.000000    0.000000   3.000000\n",
      "25%     2.000000    5.000000   5.000000\n",
      "50%     4.000000    8.500000   7.000000\n",
      "75%     5.000000   10.000000   7.000000\n",
      "max    10.000000   20.000000  10.000000\n"
     ]
    }
   ],
   "source": [
    "df_info(portfolio)"
   ]
  },
  {
   "cell_type": "code",
   "execution_count": 801,
   "metadata": {},
   "outputs": [],
   "source": [
    "# portfolio.value_counts()"
   ]
  },
  {
   "cell_type": "markdown",
   "metadata": {},
   "source": [
    "That throws an error, because it looks like the \"channels\" column is a list. Let's see what we get if we ignore the \"channels\" column for now. We will need to work around this list in Section 3."
   ]
  },
  {
   "cell_type": "code",
   "execution_count": 802,
   "metadata": {},
   "outputs": [
    {
     "data": {
      "text/plain": [
       "offer_type     reward  difficulty  duration  id                              \n",
       "bogo           5       5           5         f19421c1d4aa40978ebb69ca19b0e20d    1\n",
       "                                   7         9b98b8c7a33c4b65b9aebfe6a799e6d9    1\n",
       "               10      10          5         4d5c57ea9a6940dd891ad53e9dbe8da0    1\n",
       "                                   7         ae264e3637204a6fb9bb56bc8210ddfd    1\n",
       "discount       2       10          7         2906b810c7d4411798c6938adc9daaa5    1\n",
       "                                   10        fafdcd668e3743c1bb461111dcafc2a4    1\n",
       "               3       7           7         2298d6c36e964ae4a3e7e9706d1fb8c2    1\n",
       "               5       20          10        0b1e1539f2cc45b7b9fa7c272da2e1d7    1\n",
       "informational  0       0           3         5a8bc65990b245e5a138643cd4eb9837    1\n",
       "                                   4         3f207df678b143eea3cee63160fa8bed    1\n",
       "Name: count, dtype: int64"
      ]
     },
     "execution_count": 802,
     "metadata": {},
     "output_type": "execute_result"
    }
   ],
   "source": [
    "portfolio[['reward', 'difficulty', 'duration', 'offer_type', 'id']].groupby('offer_type').value_counts()"
   ]
  },
  {
   "cell_type": "markdown",
   "metadata": {},
   "source": [
    "Let's visualize some of this. Do higher difficulty offers also tend to have a higher reward?"
   ]
  },
  {
   "cell_type": "code",
   "execution_count": 803,
   "metadata": {},
   "outputs": [
    {
     "data": {
      "text/plain": [
       "Text(0, 0.5, 'Reward ($)')"
      ]
     },
     "execution_count": 803,
     "metadata": {},
     "output_type": "execute_result"
    },
    {
     "data": {
      "image/png": "[encoded data removed]",
      "text/plain": [
       "<Figure size 640x480 with 1 Axes>"
      ]
     },
     "metadata": {},
     "output_type": "display_data"
    }
   ],
   "source": [
    "plt.scatter(portfolio['difficulty'], portfolio['reward']);\n",
    "plt.xlabel('Difficulty ($)')\n",
    "plt.ylabel('Reward ($)')"
   ]
  },
  {
   "cell_type": "markdown",
   "metadata": {},
   "source": [
    "There does appear to be some positive correlation, though this is a very small sample size and the correlation does not appear particularly strong."
   ]
  },
  {
   "cell_type": "markdown",
   "metadata": {},
   "source": [
    "### Explore the profile dataset."
   ]
  },
  {
   "cell_type": "code",
   "execution_count": 804,
   "metadata": {},
   "outputs": [
    {
     "name": "stdout",
     "output_type": "stream",
     "text": [
      "Head:\n",
      "  gender  age                                id  became_member_on    income\n",
      "0   None  118  68be06ca386d4c31939f3a4f0e3dd783          20170212       NaN\n",
      "1      F   55  0610b486422d4921ae7d2bf64640c50b          20170715  112000.0\n",
      "2   None  118  38fe809add3b4fcf9315a9694bb96ff5          20180712       NaN\n",
      "3      F   75  78afa995795e4d85b5d9ceeca43f5fef          20170509  100000.0\n",
      "4   None  118  a03223e636434f42ac4c3df47e8bac43          20170804       NaN\n",
      "\n",
      "Shape: \n",
      "(17000, 5)\n",
      "\n",
      "Column Info:\n",
      "    gender\n",
      "        2175 nulls, proportion of nulls = 0.12794117647058822, type = object, nunique = 3\n",
      "    age\n",
      "        0 nulls, proportion of nulls = 0.0, type = int64, nunique = 85\n",
      "    id\n",
      "        0 nulls, proportion of nulls = 0.0, type = object, nunique = 17000\n",
      "    became_member_on\n",
      "        0 nulls, proportion of nulls = 0.0, type = int64, nunique = 1716\n",
      "    income\n",
      "        2175 nulls, proportion of nulls = 0.12794117647058822, type = float64, nunique = 91\n",
      "\n",
      "Descriptive Statistics:\n",
      "                age  became_member_on         income\n",
      "count  17000.000000      1.700000e+04   14825.000000\n",
      "mean      62.531412      2.016703e+07   65404.991568\n",
      "std       26.738580      1.167750e+04   21598.299410\n",
      "min       18.000000      2.013073e+07   30000.000000\n",
      "25%       45.000000      2.016053e+07   49000.000000\n",
      "50%       58.000000      2.017080e+07   64000.000000\n",
      "75%       73.000000      2.017123e+07   80000.000000\n",
      "max      118.000000      2.018073e+07  120000.000000\n"
     ]
    }
   ],
   "source": [
    "df_info(profile)"
   ]
  },
  {
   "cell_type": "markdown",
   "metadata": {},
   "source": [
    "2,175 nulls for both gender and income. Is it the same people with null values in both fields?"
   ]
  },
  {
   "cell_type": "code",
   "execution_count": 805,
   "metadata": {},
   "outputs": [
    {
     "name": "stdout",
     "output_type": "stream",
     "text": [
      "(2175, 5)\n"
     ]
    },
    {
     "data": {
      "text/html": [
       "<div>\n",
       "<style scoped>\n",
       "    .dataframe tbody tr th:only-of-type {\n",
       "        vertical-align: middle;\n",
       "    }\n",
       "\n",
       "    .dataframe tbody tr th {\n",
       "        vertical-align: top;\n",
       "    }\n",
       "\n",
       "    .dataframe thead th {\n",
       "        text-align: right;\n",
       "    }\n",
       "</style>\n",
       "<table border=\"1\" class=\"dataframe\">\n",
       "  <thead>\n",
       "    <tr style=\"text-align: right;\">\n",
       "      <th></th>\n",
       "      <th>gender</th>\n",
       "      <th>age</th>\n",
       "      <th>id</th>\n",
       "      <th>became_member_on</th>\n",
       "      <th>income</th>\n",
       "    </tr>\n",
       "  </thead>\n",
       "  <tbody>\n",
       "    <tr>\n",
       "      <th>0</th>\n",
       "      <td>None</td>\n",
       "      <td>118</td>\n",
       "      <td>68be06ca386d4c31939f3a4f0e3dd783</td>\n",
       "      <td>20170212</td>\n",
       "      <td>NaN</td>\n",
       "    </tr>\n",
       "    <tr>\n",
       "      <th>2</th>\n",
       "      <td>None</td>\n",
       "      <td>118</td>\n",
       "      <td>38fe809add3b4fcf9315a9694bb96ff5</td>\n",
       "      <td>20180712</td>\n",
       "      <td>NaN</td>\n",
       "    </tr>\n",
       "    <tr>\n",
       "      <th>4</th>\n",
       "      <td>None</td>\n",
       "      <td>118</td>\n",
       "      <td>a03223e636434f42ac4c3df47e8bac43</td>\n",
       "      <td>20170804</td>\n",
       "      <td>NaN</td>\n",
       "    </tr>\n",
       "    <tr>\n",
       "      <th>6</th>\n",
       "      <td>None</td>\n",
       "      <td>118</td>\n",
       "      <td>8ec6ce2a7e7949b1bf142def7d0e0586</td>\n",
       "      <td>20170925</td>\n",
       "      <td>NaN</td>\n",
       "    </tr>\n",
       "    <tr>\n",
       "      <th>7</th>\n",
       "      <td>None</td>\n",
       "      <td>118</td>\n",
       "      <td>68617ca6246f4fbc85e91a2a49552598</td>\n",
       "      <td>20171002</td>\n",
       "      <td>NaN</td>\n",
       "    </tr>\n",
       "  </tbody>\n",
       "</table>\n",
       "</div>"
      ],
      "text/plain": [
       "  gender  age                                id  became_member_on  income\n",
       "0   None  118  68be06ca386d4c31939f3a4f0e3dd783          20170212     NaN\n",
       "2   None  118  38fe809add3b4fcf9315a9694bb96ff5          20180712     NaN\n",
       "4   None  118  a03223e636434f42ac4c3df47e8bac43          20170804     NaN\n",
       "6   None  118  8ec6ce2a7e7949b1bf142def7d0e0586          20170925     NaN\n",
       "7   None  118  68617ca6246f4fbc85e91a2a49552598          20171002     NaN"
      ]
     },
     "execution_count": 805,
     "metadata": {},
     "output_type": "execute_result"
    }
   ],
   "source": [
    "nulls = profile[profile[['gender', 'income']].isnull().all(axis=1)]\n",
    "print(nulls.shape)\n",
    "nulls.head()"
   ]
  },
  {
   "cell_type": "markdown",
   "metadata": {},
   "source": [
    "It looks like the same 2,175 people have null values for gender and income. Perhaps these people generally prefer to report as little data as possible. It may be interesting to look at this group more critically when assessing the effectiveness of the offers. If we decide to model later on, we may also choose to impute these data points in Section 3."
   ]
  },
  {
   "cell_type": "markdown",
   "metadata": {},
   "source": [
    "How many users are there in each gender group?"
   ]
  },
  {
   "cell_type": "code",
   "execution_count": 806,
   "metadata": {},
   "outputs": [
    {
     "data": {
      "image/png": "[encoded data removed]",
      "text/plain": [
       "<Figure size 640x480 with 1 Axes>"
      ]
     },
     "metadata": {},
     "output_type": "display_data"
    }
   ],
   "source": [
    "gender_counts = profile['gender'].value_counts()\n",
    "plt.bar(gender_counts.index, gender_counts.values)\n",
    "plt.xlabel('Gender')\n",
    "plt.ylabel('Number of Customers')\n",
    "for i in range(len(gender_counts.index)):\n",
    "    plt.text(i, gender_counts.values[i], str(gender_counts.values[i]), ha='center', va='bottom')"
   ]
  },
  {
   "cell_type": "markdown",
   "metadata": {},
   "source": [
    "There are 2,355 more male than female users and only 212 users that identify as 'Other'."
   ]
  },
  {
   "cell_type": "markdown",
   "metadata": {},
   "source": [
    "What about age? In the descriptive statistics above, the max age is 118. That seems high. "
   ]
  },
  {
   "cell_type": "code",
   "execution_count": 807,
   "metadata": {},
   "outputs": [
    {
     "data": {
      "text/plain": [
       "Text(0, 0.5, 'Frequency')"
      ]
     },
     "execution_count": 807,
     "metadata": {},
     "output_type": "execute_result"
    },
    {
     "data": {
      "image/png": "[encoded data removed]",
      "text/plain": [
       "<Figure size 640x480 with 1 Axes>"
      ]
     },
     "metadata": {},
     "output_type": "display_data"
    }
   ],
   "source": [
    "plt.hist(profile['age'], bins=24)\n",
    "plt.xlabel('Age')\n",
    "plt.ylabel('Frequency')"
   ]
  },
  {
   "cell_type": "markdown",
   "metadata": {},
   "source": [
    "The highest frequency age is around 118. That seems highly unusual and unlikely. What are the age ranges allowed in the app? Perhaps these users selected the oldest age possible as a way to maintain privacy around their true age. "
   ]
  },
  {
   "cell_type": "markdown",
   "metadata": {},
   "source": [
    "Of the reasonable ages reported, the largest number of users appear to be in the 50-60 year old range. The average given above was 62, but we know that is skewed high due to the number of users reporting an age of 118. "
   ]
  },
  {
   "cell_type": "markdown",
   "metadata": {},
   "source": [
    "Let's take a look at the income distribution. From above, we know that the average income is about $65,405 with a minimum of $30,000 and a maximum of $120,000. "
   ]
  },
  {
   "cell_type": "code",
   "execution_count": 808,
   "metadata": {},
   "outputs": [
    {
     "data": {
      "image/png": "[encoded data removed]",
      "text/plain": [
       "<Figure size 640x480 with 1 Axes>"
      ]
     },
     "metadata": {},
     "output_type": "display_data"
    }
   ],
   "source": [
    "plt.hist(profile['income'], bins=30);"
   ]
  },
  {
   "cell_type": "markdown",
   "metadata": {},
   "source": [
    "Most users make less than $80,000 and there are no obvious outliers here. "
   ]
  },
  {
   "cell_type": "markdown",
   "metadata": {},
   "source": [
    "### Explore the transcript dataset."
   ]
  },
  {
   "cell_type": "code",
   "execution_count": 809,
   "metadata": {},
   "outputs": [
    {
     "name": "stdout",
     "output_type": "stream",
     "text": [
      "Head:\n",
      "                             person           event  \\\n",
      "0  78afa995795e4d85b5d9ceeca43f5fef  offer received   \n",
      "1  a03223e636434f42ac4c3df47e8bac43  offer received   \n",
      "2  e2127556f4f64592b11af22de27a7932  offer received   \n",
      "3  8ec6ce2a7e7949b1bf142def7d0e0586  offer received   \n",
      "4  68617ca6246f4fbc85e91a2a49552598  offer received   \n",
      "\n",
      "                                              value  time  \n",
      "0  {'offer id': '9b98b8c7a33c4b65b9aebfe6a799e6d9'}     0  \n",
      "1  {'offer id': '0b1e1539f2cc45b7b9fa7c272da2e1d7'}     0  \n",
      "2  {'offer id': '2906b810c7d4411798c6938adc9daaa5'}     0  \n",
      "3  {'offer id': 'fafdcd668e3743c1bb461111dcafc2a4'}     0  \n",
      "4  {'offer id': '4d5c57ea9a6940dd891ad53e9dbe8da0'}     0  \n",
      "\n",
      "Shape: \n",
      "(306534, 4)\n",
      "\n",
      "Column Info:\n",
      "    person\n",
      "        0 nulls, proportion of nulls = 0.0, type = object, nunique = 17000\n",
      "    event\n",
      "        0 nulls, proportion of nulls = 0.0, type = object, nunique = 4\n",
      "    value\n",
      "        0 nulls, proportion of nulls = 0.0, type = object, nunique = cannot compute for this data type\n",
      "    time\n",
      "        0 nulls, proportion of nulls = 0.0, type = int64, nunique = 120\n",
      "\n",
      "Descriptive Statistics:\n",
      "                time\n",
      "count  306534.000000\n",
      "mean      366.382940\n",
      "std       200.326314\n",
      "min         0.000000\n",
      "25%       186.000000\n",
      "50%       408.000000\n",
      "75%       528.000000\n",
      "max       714.000000\n"
     ]
    }
   ],
   "source": [
    "df_info(transcript)"
   ]
  },
  {
   "cell_type": "code",
   "execution_count": 810,
   "metadata": {},
   "outputs": [],
   "source": [
    "# transcript.value_counts()"
   ]
  },
  {
   "cell_type": "markdown",
   "metadata": {},
   "source": [
    "The above line of code throws an error due to the 'value' field being a dictionary. Let's try again, ignoring the 'value' field for the time being. We will need to work around this dictionary in Section 3."
   ]
  },
  {
   "cell_type": "code",
   "execution_count": 811,
   "metadata": {},
   "outputs": [],
   "source": [
    "events = transcript['event'].value_counts()"
   ]
  },
  {
   "cell_type": "markdown",
   "metadata": {},
   "source": [
    "Let's visualize that."
   ]
  },
  {
   "cell_type": "code",
   "execution_count": 812,
   "metadata": {},
   "outputs": [
    {
     "data": {
      "image/png": "[encoded data removed]",
      "text/plain": [
       "<Figure size 640x480 with 1 Axes>"
      ]
     },
     "metadata": {},
     "output_type": "display_data"
    }
   ],
   "source": [
    "plt.bar(events.index, events.values)\n",
    "plt.xlabel('Event')\n",
    "plt.ylabel('Count')\n",
    "for i in range(len(events.index)):\n",
    "    plt.text(i, events.values[i], str(events.values[i]), ha='center', va='bottom')"
   ]
  },
  {
   "cell_type": "markdown",
   "metadata": {},
   "source": [
    "There are significantly more transactions than offers received, viewed, and completed. This is in line with what we would expect given that many users will buy regardless of potential offers. "
   ]
  },
  {
   "cell_type": "markdown",
   "metadata": {},
   "source": [
    "## Section 3: Data Preparation"
   ]
  },
  {
   "cell_type": "markdown",
   "metadata": {},
   "source": [
    "In the portfolio dataset, the 'channels' field is a list. Let's break each component of the list into separate columns so that they are easier to work with. "
   ]
  },
  {
   "cell_type": "code",
   "execution_count": 813,
   "metadata": {},
   "outputs": [
    {
     "name": "stdout",
     "output_type": "stream",
     "text": [
      "   reward  difficulty  duration     offer_type  \\\n",
      "0      10          10         7           bogo   \n",
      "1      10          10         5           bogo   \n",
      "2       0           0         4  informational   \n",
      "3       5           5         7           bogo   \n",
      "4       5          20        10       discount   \n",
      "5       3           7         7       discount   \n",
      "6       2          10        10       discount   \n",
      "7       0           0         3  informational   \n",
      "8       5           5         5           bogo   \n",
      "9       2          10         7       discount   \n",
      "\n",
      "                                 id  email  mobile  social    web  \n",
      "0  ae264e3637204a6fb9bb56bc8210ddfd   True    True    True  False  \n",
      "1  4d5c57ea9a6940dd891ad53e9dbe8da0   True    True    True   True  \n",
      "2  3f207df678b143eea3cee63160fa8bed   True    True   False   True  \n",
      "3  9b98b8c7a33c4b65b9aebfe6a799e6d9   True    True   False   True  \n",
      "4  0b1e1539f2cc45b7b9fa7c272da2e1d7   True   False   False   True  \n",
      "5  2298d6c36e964ae4a3e7e9706d1fb8c2   True    True    True   True  \n",
      "6  fafdcd668e3743c1bb461111dcafc2a4   True    True    True   True  \n",
      "7  5a8bc65990b245e5a138643cd4eb9837   True    True    True  False  \n",
      "8  f19421c1d4aa40978ebb69ca19b0e20d   True    True    True   True  \n",
      "9  2906b810c7d4411798c6938adc9daaa5   True    True   False   True  \n"
     ]
    }
   ],
   "source": [
    "# Explode the list into rows\n",
    "portfolio_exploded = portfolio.explode('channels')\n",
    "\n",
    "# Create dummy variables (binary columns)\n",
    "portfolio_dummies = pd.get_dummies(portfolio_exploded, columns=['channels'], prefix='', prefix_sep='')\n",
    "\n",
    "# Aggregate back to original rows, keeping max value (1 if present, 0 if not)\n",
    "portfolio_new = portfolio_dummies.groupby(portfolio_dummies.index).max()\n",
    "\n",
    "# Print result\n",
    "print(portfolio_new)"
   ]
  },
  {
   "cell_type": "markdown",
   "metadata": {},
   "source": [
    "The profile dataset has 'became_member_on' categorized as an integer field. Let's correct it to a date field. "
   ]
  },
  {
   "cell_type": "code",
   "execution_count": 814,
   "metadata": {},
   "outputs": [],
   "source": [
    "def int_to_date(date_int):\n",
    "    date_str = str(date_int)\n",
    "    date_object = datetime.strptime(date_str, \"%Y%m%d\").date()\n",
    "    return date_object"
   ]
  },
  {
   "cell_type": "code",
   "execution_count": 815,
   "metadata": {},
   "outputs": [
    {
     "data": {
      "text/html": [
       "<div>\n",
       "<style scoped>\n",
       "    .dataframe tbody tr th:only-of-type {\n",
       "        vertical-align: middle;\n",
       "    }\n",
       "\n",
       "    .dataframe tbody tr th {\n",
       "        vertical-align: top;\n",
       "    }\n",
       "\n",
       "    .dataframe thead th {\n",
       "        text-align: right;\n",
       "    }\n",
       "</style>\n",
       "<table border=\"1\" class=\"dataframe\">\n",
       "  <thead>\n",
       "    <tr style=\"text-align: right;\">\n",
       "      <th></th>\n",
       "      <th>gender</th>\n",
       "      <th>age</th>\n",
       "      <th>id</th>\n",
       "      <th>became_member_on</th>\n",
       "      <th>income</th>\n",
       "    </tr>\n",
       "  </thead>\n",
       "  <tbody>\n",
       "    <tr>\n",
       "      <th>0</th>\n",
       "      <td>None</td>\n",
       "      <td>118</td>\n",
       "      <td>68be06ca386d4c31939f3a4f0e3dd783</td>\n",
       "      <td>2017-02-12</td>\n",
       "      <td>NaN</td>\n",
       "    </tr>\n",
       "    <tr>\n",
       "      <th>1</th>\n",
       "      <td>F</td>\n",
       "      <td>55</td>\n",
       "      <td>0610b486422d4921ae7d2bf64640c50b</td>\n",
       "      <td>2017-07-15</td>\n",
       "      <td>112000.0</td>\n",
       "    </tr>\n",
       "    <tr>\n",
       "      <th>2</th>\n",
       "      <td>None</td>\n",
       "      <td>118</td>\n",
       "      <td>38fe809add3b4fcf9315a9694bb96ff5</td>\n",
       "      <td>2018-07-12</td>\n",
       "      <td>NaN</td>\n",
       "    </tr>\n",
       "    <tr>\n",
       "      <th>3</th>\n",
       "      <td>F</td>\n",
       "      <td>75</td>\n",
       "      <td>78afa995795e4d85b5d9ceeca43f5fef</td>\n",
       "      <td>2017-05-09</td>\n",
       "      <td>100000.0</td>\n",
       "    </tr>\n",
       "    <tr>\n",
       "      <th>4</th>\n",
       "      <td>None</td>\n",
       "      <td>118</td>\n",
       "      <td>a03223e636434f42ac4c3df47e8bac43</td>\n",
       "      <td>2017-08-04</td>\n",
       "      <td>NaN</td>\n",
       "    </tr>\n",
       "  </tbody>\n",
       "</table>\n",
       "</div>"
      ],
      "text/plain": [
       "  gender  age                                id became_member_on    income\n",
       "0   None  118  68be06ca386d4c31939f3a4f0e3dd783       2017-02-12       NaN\n",
       "1      F   55  0610b486422d4921ae7d2bf64640c50b       2017-07-15  112000.0\n",
       "2   None  118  38fe809add3b4fcf9315a9694bb96ff5       2018-07-12       NaN\n",
       "3      F   75  78afa995795e4d85b5d9ceeca43f5fef       2017-05-09  100000.0\n",
       "4   None  118  a03223e636434f42ac4c3df47e8bac43       2017-08-04       NaN"
      ]
     },
     "execution_count": 815,
     "metadata": {},
     "output_type": "execute_result"
    }
   ],
   "source": [
    "profile['became_member_on'] = pd.to_datetime(profile['became_member_on'], format='%Y%m%d')\n",
    "profile.head()"
   ]
  },
  {
   "cell_type": "markdown",
   "metadata": {},
   "source": [
    "Now let's visualize membership join dates. "
   ]
  },
  {
   "cell_type": "code",
   "execution_count": 816,
   "metadata": {},
   "outputs": [
    {
     "data": {
      "text/plain": [
       "dtype('<M8[ns]')"
      ]
     },
     "execution_count": 816,
     "metadata": {},
     "output_type": "execute_result"
    }
   ],
   "source": [
    "profile['became_member_on'].dtype"
   ]
  },
  {
   "cell_type": "code",
   "execution_count": 776,
   "metadata": {},
   "outputs": [
    {
     "ename": "AttributeError",
     "evalue": "'Series' object has no attribute 'year'",
     "output_type": "error",
     "traceback": [
      "\u001b[1;31m---------------------------------------------------------------------------\u001b[0m",
      "\u001b[1;31mAttributeError\u001b[0m                            Traceback (most recent call last)",
      "\u001b[1;32m~\\AppData\\Local\\Temp\\ipykernel_4352\\2718616843.py\u001b[0m in \u001b[0;36m?\u001b[1;34m()\u001b[0m\n\u001b[1;32m----> 1\u001b[1;33m \u001b[0mplt\u001b[0m\u001b[1;33m.\u001b[0m\u001b[0mbar\u001b[0m\u001b[1;33m(\u001b[0m\u001b[0mprofile\u001b[0m\u001b[1;33m[\u001b[0m\u001b[1;34m'became_member_on'\u001b[0m\u001b[1;33m]\u001b[0m\u001b[1;33m.\u001b[0m\u001b[0myear\u001b[0m\u001b[1;33m,\u001b[0m \u001b[0mprofile\u001b[0m\u001b[1;33m[\u001b[0m\u001b[1;34m'became_member_on'\u001b[0m\u001b[1;33m]\u001b[0m\u001b[1;33m)\u001b[0m\u001b[1;33m\u001b[0m\u001b[1;33m\u001b[0m\u001b[0m\n\u001b[0m",
      "\u001b[1;32mc:\\Users\\emma1\\Project_4_Capstone_Starbucks\\.venv\\Lib\\site-packages\\pandas\\core\\generic.py\u001b[0m in \u001b[0;36m?\u001b[1;34m(self, name)\u001b[0m\n\u001b[0;32m   6295\u001b[0m             \u001b[1;32mand\u001b[0m \u001b[0mname\u001b[0m \u001b[1;32mnot\u001b[0m \u001b[1;32min\u001b[0m \u001b[0mself\u001b[0m\u001b[1;33m.\u001b[0m\u001b[0m_accessors\u001b[0m\u001b[1;33m\u001b[0m\u001b[1;33m\u001b[0m\u001b[0m\n\u001b[0;32m   6296\u001b[0m             \u001b[1;32mand\u001b[0m \u001b[0mself\u001b[0m\u001b[1;33m.\u001b[0m\u001b[0m_info_axis\u001b[0m\u001b[1;33m.\u001b[0m\u001b[0m_can_hold_identifiers_and_holds_name\u001b[0m\u001b[1;33m(\u001b[0m\u001b[0mname\u001b[0m\u001b[1;33m)\u001b[0m\u001b[1;33m\u001b[0m\u001b[1;33m\u001b[0m\u001b[0m\n\u001b[0;32m   6297\u001b[0m         \u001b[1;33m)\u001b[0m\u001b[1;33m:\u001b[0m\u001b[1;33m\u001b[0m\u001b[1;33m\u001b[0m\u001b[0m\n\u001b[0;32m   6298\u001b[0m             \u001b[1;32mreturn\u001b[0m \u001b[0mself\u001b[0m\u001b[1;33m[\u001b[0m\u001b[0mname\u001b[0m\u001b[1;33m]\u001b[0m\u001b[1;33m\u001b[0m\u001b[1;33m\u001b[0m\u001b[0m\n\u001b[1;32m-> 6299\u001b[1;33m         \u001b[1;32mreturn\u001b[0m \u001b[0mobject\u001b[0m\u001b[1;33m.\u001b[0m\u001b[0m__getattribute__\u001b[0m\u001b[1;33m(\u001b[0m\u001b[0mself\u001b[0m\u001b[1;33m,\u001b[0m \u001b[0mname\u001b[0m\u001b[1;33m)\u001b[0m\u001b[1;33m\u001b[0m\u001b[1;33m\u001b[0m\u001b[0m\n\u001b[0m",
      "\u001b[1;31mAttributeError\u001b[0m: 'Series' object has no attribute 'year'"
     ]
    }
   ],
   "source": [
    "plt.bar(profile['became_member_on'].year, profile['became_member_on'])"
   ]
  },
  {
   "cell_type": "markdown",
   "metadata": {},
   "source": [
    "In the transcript dataset, 'value' is a dictionary. Let's break that up to be more workable."
   ]
  },
  {
   "cell_type": "markdown",
   "metadata": {},
   "source": [
    "First, notice that the dictionary has two different keys indicating the same thing: 'offer id' and 'offer_id'. Let's correct the keys so that there is only one version: 'offer_id'. "
   ]
  },
  {
   "cell_type": "code",
   "execution_count": null,
   "metadata": {},
   "outputs": [],
   "source": [
    "# Function to correct the key 'offer id' to 'offer_id'\n",
    "def correct_key(dictionary):\n",
    "    if 'offer id' in dictionary:\n",
    "        dictionary['offer_id'] = dictionary.pop('offer id')\n",
    "    return dictionary"
   ]
  },
  {
   "cell_type": "code",
   "execution_count": null,
   "metadata": {},
   "outputs": [],
   "source": [
    "# Apply the function to the dictionary column\n",
    "transcript['value'] = transcript['value'].apply(correct_key)"
   ]
  },
  {
   "cell_type": "markdown",
   "metadata": {},
   "source": [
    "Let's expand the dictionary 'value' column into multiple columns representing each key and the respective values. We will keep the original 'value' column for reference. "
   ]
  },
  {
   "cell_type": "code",
   "execution_count": null,
   "metadata": {},
   "outputs": [],
   "source": [
    "# Function to expand dictionary into columns\n",
    "def expand_dict_columns(df, column_name):\n",
    "    new_cols = df[column_name].apply(pd.Series)\n",
    "    df = pd.concat([df, new_cols], axis=1)\n",
    "    #df = df.drop(column_name, axis=1)\n",
    "    return df\n",
    "\n",
    "# Expand the 'details' column\n",
    "transcript_new = expand_dict_columns(transcript, 'value')\n",
    "\n",
    "# Display the modified DataFrame\n",
    "transcript_new"
   ]
  },
  {
   "cell_type": "markdown",
   "metadata": {},
   "source": [
    "## Section 4: Data Modeling"
   ]
  },
  {
   "cell_type": "markdown",
   "metadata": {},
   "source": [
    "Questions posed:\n",
    "1. Does one gender take greater advantage of offers than another?\n",
    "2. Does one age group take advantage of more offers?\n",
    "3. Do newer members take advantage of more offers?\n",
    "4. Do higher reward offers tend to be utilized more than lower reward offers?\n",
    "5. Are higher difficulty offers utilized less than lower difficulty offers?\n",
    "6. Do higher income individuals use more or less offers?\n",
    "7. What type of offer is used more?\n",
    "8. Do longer duration offers get used more?\n",
    "9. What is the average spend in the transcript dataset?"
   ]
  },
  {
   "cell_type": "markdown",
   "metadata": {},
   "source": [
    "## Section 5: Evaluate the Results"
   ]
  }
 ],
 "metadata": {
  "kernelspec": {
   "display_name": ".venv",
   "language": "python",
   "name": "python3"
  },
  "language_info": {
   "codemirror_mode": {
    "name": "ipython",
    "version": 3
   },
   "file_extension": ".py",
   "mimetype": "text/x-python",
   "name": "python",
   "nbconvert_exporter": "python",
   "pygments_lexer": "ipython3",
   "version": "3.13.2"
  }
 },
 "nbformat": 4,
 "nbformat_minor": 2
}
