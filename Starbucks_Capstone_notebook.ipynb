{
 "cells": [
  {
   "cell_type": "markdown",
   "metadata": {},
   "source": [
    "# Starbucks Capstone Challenge\n",
    "\n",
    "### Introduction\n",
    "\n",
    "This data set contains simulated data that mimics customer behavior on the Starbucks rewards mobile app. Once every few days, Starbucks sends out an offer to users of the mobile app. An offer can be merely an advertisement for a drink or an actual offer such as a discount or BOGO (buy one get one free). Some users might not receive any offer during certain weeks. \n",
    "\n",
    "Not all users receive the same offer, and that is the challenge to solve with this data set.\n",
    "\n",
    "Your task is to combine transaction, demographic and offer data to determine which demographic groups respond best to which offer type. This data set is a simplified version of the real Starbucks app because the underlying simulator only has one product whereas Starbucks actually sells dozens of products.\n",
    "\n",
    "Every offer has a validity period before the offer expires. As an example, a BOGO offer might be valid for only 5 days. You'll see in the data set that informational offers have a validity period even though these ads are merely providing information about a product; for example, if an informational offer has 7 days of validity, you can assume the customer is feeling the influence of the offer for 7 days after receiving the advertisement.\n",
    "\n",
    "You'll be given transactional data showing user purchases made on the app including the timestamp of purchase and the amount of money spent on a purchase. This transactional data also has a record for each offer that a user receives as well as a record for when a user actually views the offer. There are also records for when a user completes an offer. \n",
    "\n",
    "Keep in mind as well that someone using the app might make a purchase through the app without having received an offer or seen an offer.\n",
    "\n",
    "### Example\n",
    "\n",
    "To give an example, a user could receive a discount offer buy 10 dollars get 2 off on Monday. The offer is valid for 10 days from receipt. If the customer accumulates at least 10 dollars in purchases during the validity period, the customer completes the offer.\n",
    "\n",
    "However, there are a few things to watch out for in this data set. Customers do not opt into the offers that they receive; in other words, a user can receive an offer, never actually view the offer, and still complete the offer. For example, a user might receive the \"buy 10 dollars get 2 dollars off offer\", but the user never opens the offer during the 10 day validity period. The customer spends 15 dollars during those ten days. There will be an offer completion record in the data set; however, the customer was not influenced by the offer because the customer never viewed the offer.\n",
    "\n",
    "### Cleaning\n",
    "\n",
    "This makes data cleaning especially important and tricky.\n",
    "\n",
    "You'll also want to take into account that some demographic groups will make purchases even if they don't receive an offer. From a business perspective, if a customer is going to make a 10 dollar purchase without an offer anyway, you wouldn't want to send a buy 10 dollars get 2 dollars off offer. You'll want to try to assess what a certain demographic group will buy when not receiving any offers.\n",
    "\n",
    "### Final Advice\n",
    "\n",
    "Because this is a capstone project, you are free to analyze the data any way you see fit. For example, you could build a machine learning model that predicts how much someone will spend based on demographics and offer type. Or you could build a model that predicts whether or not someone will respond to an offer. Or, you don't need to build a machine learning model at all. You could develop a set of heuristics that determine what offer you should send to each customer (i.e., 75 percent of women customers who were 35 years old responded to offer A vs 40 percent from the same demographic to offer B, so send offer A)."
   ]
  },
  {
   "cell_type": "markdown",
   "metadata": {},
   "source": [
    "# Data Sets\n",
    "\n",
    "The data is contained in three files:\n",
    "\n",
    "* portfolio.json - containing offer ids and meta data about each offer (duration, type, etc.)\n",
    "* profile.json - demographic data for each customer\n",
    "* transcript.json - records for transactions, offers received, offers viewed, and offers completed\n",
    "\n",
    "Here is the schema and explanation of each variable in the files:\n",
    "\n",
    "**portfolio.json**\n",
    "* id (string) - offer id\n",
    "* offer_type (string) - type of offer ie BOGO, discount, informational\n",
    "* difficulty (int) - minimum required spend to complete an offer\n",
    "* reward (int) - reward given for completing an offer\n",
    "* duration (int) - time for offer to be open, in days\n",
    "* channels (list of strings)\n",
    "\n",
    "**profile.json**\n",
    "* age (int) - age of the customer \n",
    "* became_member_on (int) - date when customer created an app account\n",
    "* gender (str) - gender of the customer (note some entries contain 'O' for other rather than M or F)\n",
    "* id (str) - customer id\n",
    "* income (float) - customer's income\n",
    "\n",
    "**transcript.json**\n",
    "* event (str) - record description (ie transaction, offer received, offer viewed, etc.)\n",
    "* person (str) - customer id\n",
    "* time (int) - time in hours since start of test. The data begins at time t=0\n",
    "* value - (dict of strings) - either an offer id or transaction amount depending on the record\n",
    "\n",
    "**Note:** If you are using the workspace, you will need to go to the terminal and run the command `conda update pandas` before reading in the files. This is because the version of pandas in the workspace cannot read in the transcript.json file correctly, but the newest version of pandas can. You can access the termnal from the orange icon in the top left of this notebook.  \n",
    "\n",
    "You can see how to access the terminal and how the install works using the two images below.  First you need to access the terminal:\n",
    "\n",
    "<img src=\"pic1.png\"/>\n",
    "\n",
    "Then you will want to run the above command:\n",
    "\n",
    "<img src=\"pic2.png\"/>\n",
    "\n",
    "Finally, when you enter back into the notebook (use the jupyter icon again), you should be able to run the below cell without any errors."
   ]
  },
  {
   "cell_type": "markdown",
   "metadata": {},
   "source": [
    "# Section 1: Business Understanding"
   ]
  },
  {
   "cell_type": "markdown",
   "metadata": {},
   "source": [
    "### Import required packages."
   ]
  },
  {
   "cell_type": "code",
   "execution_count": 1282,
   "metadata": {},
   "outputs": [],
   "source": [
    "import pandas as pd\n",
    "import numpy as np\n",
    "import matplotlib.pyplot as plt\n",
    "import seaborn as sns\n",
    "import math\n",
    "import json\n",
    "from datetime import datetime\n",
    "\n",
    "%matplotlib inline"
   ]
  },
  {
   "cell_type": "markdown",
   "metadata": {},
   "source": [
    "# Section 2: Data Exploration"
   ]
  },
  {
   "cell_type": "markdown",
   "metadata": {},
   "source": [
    "### Read in the datasets."
   ]
  },
  {
   "cell_type": "code",
   "execution_count": 1283,
   "metadata": {},
   "outputs": [],
   "source": [
    "# read in the json files\n",
    "portfolio = pd.read_json('data/portfolio.json', orient='records', lines=True)\n",
    "profile = pd.read_json('data/profile.json', orient='records', lines=True)\n",
    "transcript = pd.read_json('data/transcript.json', orient='records', lines=True)"
   ]
  },
  {
   "cell_type": "markdown",
   "metadata": {},
   "source": [
    "### Create a function to summarize the details of each dataset."
   ]
  },
  {
   "cell_type": "code",
   "execution_count": 1284,
   "metadata": {},
   "outputs": [],
   "source": [
    "# Define a function to answer: How large is the dataset? How many null values are there? What proportion of nulls? What are the column types?\n",
    "def df_info(df):\n",
    "    '''\n",
    "    Determine the size and shape of the dataset, the number and proportion of null values in each column, and the data type in each column.\n",
    "    ARGS: \n",
    "    df - dataframe of interest\n",
    "    OUTPUTS: \n",
    "    A string containing the Shape of the dataframe followed by a line for each column containing the \n",
    "    column name: number of null values, proportion of null values, and column type.\n",
    "    '''\n",
    "    print(\"Head:\")\n",
    "    print(df.head())\n",
    "    print()\n",
    "    print(\"Shape: \" + \"\\n\" + str(df.shape))\n",
    "    print()\n",
    "    print(\"Column Info:\")\n",
    "    for column in df.columns:\n",
    "        num_null = df[column].isnull().sum()\n",
    "        prop_null = df[column].isnull().mean()\n",
    "        col_type = df[column].dtype\n",
    "        try:\n",
    "            nunique = df[column].nunique()\n",
    "        except TypeError:\n",
    "            nunique = 'cannot compute for this data type'\n",
    "        print(\"    \" + column + \"\\n\" + \"        \" + str(num_null) + \" nulls, proportion of nulls = \" + \n",
    "              str(prop_null) + \", type = \" + str(col_type) + \", nunique = \" + str(nunique))\n",
    "    print(\"\\n\" + \"Descriptive Statistics:\")\n",
    "    print(df.describe())"
   ]
  },
  {
   "cell_type": "markdown",
   "metadata": {},
   "source": [
    "### Explore the portfolio dataset."
   ]
  },
  {
   "cell_type": "code",
   "execution_count": 1285,
   "metadata": {},
   "outputs": [
    {
     "name": "stdout",
     "output_type": "stream",
     "text": [
      "Head:\n",
      "   reward                      channels  difficulty  duration     offer_type  \\\n",
      "0      10       [email, mobile, social]          10         7           bogo   \n",
      "1      10  [web, email, mobile, social]          10         5           bogo   \n",
      "2       0          [web, email, mobile]           0         4  informational   \n",
      "3       5          [web, email, mobile]           5         7           bogo   \n",
      "4       5                  [web, email]          20        10       discount   \n",
      "\n",
      "                                 id  \n",
      "0  ae264e3637204a6fb9bb56bc8210ddfd  \n",
      "1  4d5c57ea9a6940dd891ad53e9dbe8da0  \n",
      "2  3f207df678b143eea3cee63160fa8bed  \n",
      "3  9b98b8c7a33c4b65b9aebfe6a799e6d9  \n",
      "4  0b1e1539f2cc45b7b9fa7c272da2e1d7  \n",
      "\n",
      "Shape: \n",
      "(10, 6)\n",
      "\n",
      "Column Info:\n",
      "    reward\n",
      "        0 nulls, proportion of nulls = 0.0, type = int64, nunique = 5\n",
      "    channels\n",
      "        0 nulls, proportion of nulls = 0.0, type = object, nunique = cannot compute for this data type\n",
      "    difficulty\n",
      "        0 nulls, proportion of nulls = 0.0, type = int64, nunique = 5\n",
      "    duration\n",
      "        0 nulls, proportion of nulls = 0.0, type = int64, nunique = 5\n",
      "    offer_type\n",
      "        0 nulls, proportion of nulls = 0.0, type = object, nunique = 3\n",
      "    id\n",
      "        0 nulls, proportion of nulls = 0.0, type = object, nunique = 10\n",
      "\n",
      "Descriptive Statistics:\n",
      "          reward  difficulty   duration\n",
      "count  10.000000   10.000000  10.000000\n",
      "mean    4.200000    7.700000   6.500000\n",
      "std     3.583915    5.831905   2.321398\n",
      "min     0.000000    0.000000   3.000000\n",
      "25%     2.000000    5.000000   5.000000\n",
      "50%     4.000000    8.500000   7.000000\n",
      "75%     5.000000   10.000000   7.000000\n",
      "max    10.000000   20.000000  10.000000\n"
     ]
    }
   ],
   "source": [
    "df_info(portfolio)"
   ]
  },
  {
   "cell_type": "code",
   "execution_count": 1286,
   "metadata": {},
   "outputs": [],
   "source": [
    "# portfolio.value_counts()"
   ]
  },
  {
   "cell_type": "markdown",
   "metadata": {},
   "source": [
    "That throws an error, because it looks like the \"channels\" column is a list. Let's see what we get if we ignore the \"channels\" column for now. We will need to work around this list in Section 3."
   ]
  },
  {
   "cell_type": "code",
   "execution_count": 1287,
   "metadata": {},
   "outputs": [
    {
     "data": {
      "text/plain": [
       "offer_type     reward  difficulty  duration  id                              \n",
       "bogo           5       5           5         f19421c1d4aa40978ebb69ca19b0e20d    1\n",
       "                                   7         9b98b8c7a33c4b65b9aebfe6a799e6d9    1\n",
       "               10      10          5         4d5c57ea9a6940dd891ad53e9dbe8da0    1\n",
       "                                   7         ae264e3637204a6fb9bb56bc8210ddfd    1\n",
       "discount       2       10          7         2906b810c7d4411798c6938adc9daaa5    1\n",
       "                                   10        fafdcd668e3743c1bb461111dcafc2a4    1\n",
       "               3       7           7         2298d6c36e964ae4a3e7e9706d1fb8c2    1\n",
       "               5       20          10        0b1e1539f2cc45b7b9fa7c272da2e1d7    1\n",
       "informational  0       0           3         5a8bc65990b245e5a138643cd4eb9837    1\n",
       "                                   4         3f207df678b143eea3cee63160fa8bed    1\n",
       "Name: count, dtype: int64"
      ]
     },
     "execution_count": 1287,
     "metadata": {},
     "output_type": "execute_result"
    }
   ],
   "source": [
    "portfolio[['reward', 'difficulty', 'duration', 'offer_type', 'id']].groupby('offer_type').value_counts()"
   ]
  },
  {
   "cell_type": "markdown",
   "metadata": {},
   "source": [
    "Let's visualize some of this. Do higher difficulty offers also tend to have a higher reward?"
   ]
  },
  {
   "cell_type": "code",
   "execution_count": 1288,
   "metadata": {},
   "outputs": [
    {
     "data": {
      "text/plain": [
       "Text(0, 0.5, 'Reward ($)')"
      ]
     },
     "execution_count": 1288,
     "metadata": {},
     "output_type": "execute_result"
    },
    {
     "data": {
      "image/png": "[encoded data removed]",
      "text/plain": [
       "<Figure size 640x480 with 1 Axes>"
      ]
     },
     "metadata": {},
     "output_type": "display_data"
    }
   ],
   "source": [
    "plt.scatter(portfolio['difficulty'], portfolio['reward']);\n",
    "plt.xlabel('Difficulty ($)')\n",
    "plt.ylabel('Reward ($)')"
   ]
  },
  {
   "cell_type": "markdown",
   "metadata": {},
   "source": [
    "There does appear to be some positive correlation, though this is a very small sample size and the correlation does not appear particularly strong."
   ]
  },
  {
   "cell_type": "markdown",
   "metadata": {},
   "source": [
    "### Explore the profile dataset."
   ]
  },
  {
   "cell_type": "code",
   "execution_count": 1289,
   "metadata": {},
   "outputs": [
    {
     "name": "stdout",
     "output_type": "stream",
     "text": [
      "Head:\n",
      "  gender  age                                id  became_member_on    income\n",
      "0   None  118  68be06ca386d4c31939f3a4f0e3dd783          20170212       NaN\n",
      "1      F   55  0610b486422d4921ae7d2bf64640c50b          20170715  112000.0\n",
      "2   None  118  38fe809add3b4fcf9315a9694bb96ff5          20180712       NaN\n",
      "3      F   75  78afa995795e4d85b5d9ceeca43f5fef          20170509  100000.0\n",
      "4   None  118  a03223e636434f42ac4c3df47e8bac43          20170804       NaN\n",
      "\n",
      "Shape: \n",
      "(17000, 5)\n",
      "\n",
      "Column Info:\n",
      "    gender\n",
      "        2175 nulls, proportion of nulls = 0.12794117647058822, type = object, nunique = 3\n",
      "    age\n",
      "        0 nulls, proportion of nulls = 0.0, type = int64, nunique = 85\n",
      "    id\n",
      "        0 nulls, proportion of nulls = 0.0, type = object, nunique = 17000\n",
      "    became_member_on\n",
      "        0 nulls, proportion of nulls = 0.0, type = int64, nunique = 1716\n",
      "    income\n",
      "        2175 nulls, proportion of nulls = 0.12794117647058822, type = float64, nunique = 91\n",
      "\n",
      "Descriptive Statistics:\n",
      "                age  became_member_on         income\n",
      "count  17000.000000      1.700000e+04   14825.000000\n",
      "mean      62.531412      2.016703e+07   65404.991568\n",
      "std       26.738580      1.167750e+04   21598.299410\n",
      "min       18.000000      2.013073e+07   30000.000000\n",
      "25%       45.000000      2.016053e+07   49000.000000\n",
      "50%       58.000000      2.017080e+07   64000.000000\n",
      "75%       73.000000      2.017123e+07   80000.000000\n",
      "max      118.000000      2.018073e+07  120000.000000\n"
     ]
    }
   ],
   "source": [
    "df_info(profile)"
   ]
  },
  {
   "cell_type": "markdown",
   "metadata": {},
   "source": [
    "2,175 nulls for both gender and income. Is it the same people with null values in both fields?"
   ]
  },
  {
   "cell_type": "code",
   "execution_count": 1290,
   "metadata": {},
   "outputs": [
    {
     "name": "stdout",
     "output_type": "stream",
     "text": [
      "(2175, 5)\n"
     ]
    },
    {
     "data": {
      "text/html": [
       "<div>\n",
       "<style scoped>\n",
       "    .dataframe tbody tr th:only-of-type {\n",
       "        vertical-align: middle;\n",
       "    }\n",
       "\n",
       "    .dataframe tbody tr th {\n",
       "        vertical-align: top;\n",
       "    }\n",
       "\n",
       "    .dataframe thead th {\n",
       "        text-align: right;\n",
       "    }\n",
       "</style>\n",
       "<table border=\"1\" class=\"dataframe\">\n",
       "  <thead>\n",
       "    <tr style=\"text-align: right;\">\n",
       "      <th></th>\n",
       "      <th>gender</th>\n",
       "      <th>age</th>\n",
       "      <th>id</th>\n",
       "      <th>became_member_on</th>\n",
       "      <th>income</th>\n",
       "    </tr>\n",
       "  </thead>\n",
       "  <tbody>\n",
       "    <tr>\n",
       "      <th>0</th>\n",
       "      <td>None</td>\n",
       "      <td>118</td>\n",
       "      <td>68be06ca386d4c31939f3a4f0e3dd783</td>\n",
       "      <td>20170212</td>\n",
       "      <td>NaN</td>\n",
       "    </tr>\n",
       "    <tr>\n",
       "      <th>2</th>\n",
       "      <td>None</td>\n",
       "      <td>118</td>\n",
       "      <td>38fe809add3b4fcf9315a9694bb96ff5</td>\n",
       "      <td>20180712</td>\n",
       "      <td>NaN</td>\n",
       "    </tr>\n",
       "    <tr>\n",
       "      <th>4</th>\n",
       "      <td>None</td>\n",
       "      <td>118</td>\n",
       "      <td>a03223e636434f42ac4c3df47e8bac43</td>\n",
       "      <td>20170804</td>\n",
       "      <td>NaN</td>\n",
       "    </tr>\n",
       "    <tr>\n",
       "      <th>6</th>\n",
       "      <td>None</td>\n",
       "      <td>118</td>\n",
       "      <td>8ec6ce2a7e7949b1bf142def7d0e0586</td>\n",
       "      <td>20170925</td>\n",
       "      <td>NaN</td>\n",
       "    </tr>\n",
       "    <tr>\n",
       "      <th>7</th>\n",
       "      <td>None</td>\n",
       "      <td>118</td>\n",
       "      <td>68617ca6246f4fbc85e91a2a49552598</td>\n",
       "      <td>20171002</td>\n",
       "      <td>NaN</td>\n",
       "    </tr>\n",
       "  </tbody>\n",
       "</table>\n",
       "</div>"
      ],
      "text/plain": [
       "  gender  age                                id  became_member_on  income\n",
       "0   None  118  68be06ca386d4c31939f3a4f0e3dd783          20170212     NaN\n",
       "2   None  118  38fe809add3b4fcf9315a9694bb96ff5          20180712     NaN\n",
       "4   None  118  a03223e636434f42ac4c3df47e8bac43          20170804     NaN\n",
       "6   None  118  8ec6ce2a7e7949b1bf142def7d0e0586          20170925     NaN\n",
       "7   None  118  68617ca6246f4fbc85e91a2a49552598          20171002     NaN"
      ]
     },
     "execution_count": 1290,
     "metadata": {},
     "output_type": "execute_result"
    }
   ],
   "source": [
    "nulls = profile[profile[['gender', 'income']].isnull().all(axis=1)]\n",
    "print(nulls.shape)\n",
    "nulls.head()"
   ]
  },
  {
   "cell_type": "markdown",
   "metadata": {},
   "source": [
    "It looks like the same 2,175 people have null values for gender and income. Perhaps these people generally prefer to report as little data as possible. It may be interesting to look at this group more critically when assessing the effectiveness of the offers. If we decide to model later on, we may also choose to impute these data points in Section 3."
   ]
  },
  {
   "cell_type": "markdown",
   "metadata": {},
   "source": [
    "How many users are there in each gender group?"
   ]
  },
  {
   "cell_type": "code",
   "execution_count": 1291,
   "metadata": {},
   "outputs": [
    {
     "data": {
      "image/png": "[encoded data removed]",
      "text/plain": [
       "<Figure size 640x480 with 1 Axes>"
      ]
     },
     "metadata": {},
     "output_type": "display_data"
    }
   ],
   "source": [
    "gender_counts = profile['gender'].value_counts()\n",
    "plt.bar(gender_counts.index, gender_counts.values)\n",
    "plt.xlabel('Gender')\n",
    "plt.ylabel('Number of Customers')\n",
    "for i in range(len(gender_counts.index)):\n",
    "    plt.text(i, gender_counts.values[i], str(gender_counts.values[i]), ha='center', va='bottom')"
   ]
  },
  {
   "cell_type": "markdown",
   "metadata": {},
   "source": [
    "There are 2,355 more male than female users and only 212 users that identify as 'Other'."
   ]
  },
  {
   "cell_type": "markdown",
   "metadata": {},
   "source": [
    "What about age? In the descriptive statistics above, the max age is 118. That seems high. "
   ]
  },
  {
   "cell_type": "code",
   "execution_count": 1292,
   "metadata": {},
   "outputs": [
    {
     "data": {
      "text/plain": [
       "Text(0, 0.5, 'Frequency')"
      ]
     },
     "execution_count": 1292,
     "metadata": {},
     "output_type": "execute_result"
    },
    {
     "data": {
      "image/png": "[encoded data removed]",
      "text/plain": [
       "<Figure size 640x480 with 1 Axes>"
      ]
     },
     "metadata": {},
     "output_type": "display_data"
    }
   ],
   "source": [
    "plt.hist(profile['age'], bins=24)\n",
    "plt.xlabel('Age')\n",
    "plt.ylabel('Frequency')"
   ]
  },
  {
   "cell_type": "markdown",
   "metadata": {},
   "source": [
    "The highest frequency age is around 118. That seems highly unusual and unlikely. What are the age ranges allowed in the app? Perhaps these users selected the oldest age possible as a way to maintain privacy around their true age. Exactly how many users listed age as 118?"
   ]
  },
  {
   "cell_type": "code",
   "execution_count": 1293,
   "metadata": {},
   "outputs": [
    {
     "data": {
      "text/plain": [
       "np.int64(2175)"
      ]
     },
     "execution_count": 1293,
     "metadata": {},
     "output_type": "execute_result"
    }
   ],
   "source": [
    "(profile['age']== 118).sum()"
   ]
  },
  {
   "cell_type": "markdown",
   "metadata": {},
   "source": [
    "Odd...there are 2175 users with age 118. That's the same number of users with null values for gender and income. Is it the same 2175 users?"
   ]
  },
  {
   "cell_type": "code",
   "execution_count": 1294,
   "metadata": {},
   "outputs": [
    {
     "data": {
      "text/plain": [
       "np.int64(2175)"
      ]
     },
     "execution_count": 1294,
     "metadata": {},
     "output_type": "execute_result"
    }
   ],
   "source": [
    "((profile['age']== 118) & (profile[['gender', 'income']].isnull().all(axis=1))).sum()"
   ]
  },
  {
   "cell_type": "markdown",
   "metadata": {},
   "source": [
    "The same 2,175 users with null gender and income have listed age as 118. These users may be reluctant to share their real information. How does that translate to their likelihood to engage with offers?"
   ]
  },
  {
   "cell_type": "markdown",
   "metadata": {},
   "source": [
    "In the next section, we'll make a dataframe of just these users for further exploration. "
   ]
  },
  {
   "cell_type": "markdown",
   "metadata": {},
   "source": [
    "Of the reasonable ages reported, the largest number of users appear to be in the 50-60 year old range. The average given above was 62, but we know that is skewed high due to the number of users reporting an age of 118. "
   ]
  },
  {
   "cell_type": "markdown",
   "metadata": {},
   "source": [
    "Let's take a look at the income distribution. From above, we know that the average income is about $65,405 with a minimum of $30,000 and a maximum of $120,000. "
   ]
  },
  {
   "cell_type": "code",
   "execution_count": 1295,
   "metadata": {},
   "outputs": [
    {
     "data": {
      "image/png": "[encoded data removed]",
      "text/plain": [
       "<Figure size 640x480 with 1 Axes>"
      ]
     },
     "metadata": {},
     "output_type": "display_data"
    }
   ],
   "source": [
    "plt.hist(profile['income'], bins=30);"
   ]
  },
  {
   "cell_type": "markdown",
   "metadata": {},
   "source": [
    "Most users make less than $80,000 and there are no obvious outliers here. "
   ]
  },
  {
   "cell_type": "markdown",
   "metadata": {},
   "source": [
    "### Explore the transcript dataset."
   ]
  },
  {
   "cell_type": "code",
   "execution_count": 1296,
   "metadata": {},
   "outputs": [
    {
     "name": "stdout",
     "output_type": "stream",
     "text": [
      "Head:\n",
      "                             person           event  \\\n",
      "0  78afa995795e4d85b5d9ceeca43f5fef  offer received   \n",
      "1  a03223e636434f42ac4c3df47e8bac43  offer received   \n",
      "2  e2127556f4f64592b11af22de27a7932  offer received   \n",
      "3  8ec6ce2a7e7949b1bf142def7d0e0586  offer received   \n",
      "4  68617ca6246f4fbc85e91a2a49552598  offer received   \n",
      "\n",
      "                                              value  time  \n",
      "0  {'offer id': '9b98b8c7a33c4b65b9aebfe6a799e6d9'}     0  \n",
      "1  {'offer id': '0b1e1539f2cc45b7b9fa7c272da2e1d7'}     0  \n",
      "2  {'offer id': '2906b810c7d4411798c6938adc9daaa5'}     0  \n",
      "3  {'offer id': 'fafdcd668e3743c1bb461111dcafc2a4'}     0  \n",
      "4  {'offer id': '4d5c57ea9a6940dd891ad53e9dbe8da0'}     0  \n",
      "\n",
      "Shape: \n",
      "(306534, 4)\n",
      "\n",
      "Column Info:\n",
      "    person\n",
      "        0 nulls, proportion of nulls = 0.0, type = object, nunique = 17000\n",
      "    event\n",
      "        0 nulls, proportion of nulls = 0.0, type = object, nunique = 4\n",
      "    value\n",
      "        0 nulls, proportion of nulls = 0.0, type = object, nunique = cannot compute for this data type\n",
      "    time\n",
      "        0 nulls, proportion of nulls = 0.0, type = int64, nunique = 120\n",
      "\n",
      "Descriptive Statistics:\n",
      "                time\n",
      "count  306534.000000\n",
      "mean      366.382940\n",
      "std       200.326314\n",
      "min         0.000000\n",
      "25%       186.000000\n",
      "50%       408.000000\n",
      "75%       528.000000\n",
      "max       714.000000\n"
     ]
    }
   ],
   "source": [
    "df_info(transcript)"
   ]
  },
  {
   "cell_type": "code",
   "execution_count": 1297,
   "metadata": {},
   "outputs": [],
   "source": [
    "# transcript.value_counts()"
   ]
  },
  {
   "cell_type": "markdown",
   "metadata": {},
   "source": [
    "The above line of code throws an error due to the 'value' field being a dictionary. Let's try again, ignoring the 'value' field for the time being. We will need to work around this dictionary in Section 3."
   ]
  },
  {
   "cell_type": "code",
   "execution_count": 1298,
   "metadata": {},
   "outputs": [],
   "source": [
    "events = transcript['event'].value_counts()"
   ]
  },
  {
   "cell_type": "markdown",
   "metadata": {},
   "source": [
    "Let's visualize that."
   ]
  },
  {
   "cell_type": "code",
   "execution_count": null,
   "metadata": {},
   "outputs": [
    {
     "data": {
      "image/png": "[encoded data removed]",
      "text/plain": [
       "<Figure size 640x480 with 1 Axes>"
      ]
     },
     "metadata": {},
     "output_type": "display_data"
    }
   ],
   "source": [
    "plt.bar(events.index, events.values)\n",
    "plt.xlabel('Event')\n",
    "plt.ylabel('Count')\n",
    "for i in range(len(events.index)):\n",
    "    plt.text(i, events.values[i], str(events.values[i]), ha='center', va='bottom')"
   ]
  },
  {
   "cell_type": "markdown",
   "metadata": {},
   "source": [
    "There are significantly more transactions than offers received, viewed, and completed. This is in line with what we would expect given that many users will buy regardless of potential offers. "
   ]
  },
  {
   "cell_type": "markdown",
   "metadata": {},
   "source": [
    "## Section 3: Data Preparation"
   ]
  },
  {
   "cell_type": "markdown",
   "metadata": {},
   "source": [
    "#### Portfolio Dataset:"
   ]
  },
  {
   "cell_type": "markdown",
   "metadata": {},
   "source": [
    "Rename fields to reflect these are characteristics of the offer to prevent confusion later on."
   ]
  },
  {
   "cell_type": "code",
   "execution_count": 1300,
   "metadata": {},
   "outputs": [],
   "source": [
    "portfolio = portfolio.rename(columns = {'id': 'offer_id', 'reward': 'offer_reward', 'difficulty': 'offer_difficulty', 'duration': 'offer_duration'})"
   ]
  },
  {
   "cell_type": "markdown",
   "metadata": {},
   "source": [
    "In the portfolio dataset, the 'channels' field is a list. Let's break each component of the list into separate columns so that they are easier to work with. "
   ]
  },
  {
   "cell_type": "code",
   "execution_count": 1301,
   "metadata": {},
   "outputs": [
    {
     "name": "stdout",
     "output_type": "stream",
     "text": [
      "   offer_reward  offer_difficulty  offer_duration     offer_type  \\\n",
      "0            10                10               7           bogo   \n",
      "1            10                10               5           bogo   \n",
      "2             0                 0               4  informational   \n",
      "3             5                 5               7           bogo   \n",
      "4             5                20              10       discount   \n",
      "5             3                 7               7       discount   \n",
      "6             2                10              10       discount   \n",
      "7             0                 0               3  informational   \n",
      "8             5                 5               5           bogo   \n",
      "9             2                10               7       discount   \n",
      "\n",
      "                           offer_id  email  mobile  social    web  \n",
      "0  ae264e3637204a6fb9bb56bc8210ddfd   True    True    True  False  \n",
      "1  4d5c57ea9a6940dd891ad53e9dbe8da0   True    True    True   True  \n",
      "2  3f207df678b143eea3cee63160fa8bed   True    True   False   True  \n",
      "3  9b98b8c7a33c4b65b9aebfe6a799e6d9   True    True   False   True  \n",
      "4  0b1e1539f2cc45b7b9fa7c272da2e1d7   True   False   False   True  \n",
      "5  2298d6c36e964ae4a3e7e9706d1fb8c2   True    True    True   True  \n",
      "6  fafdcd668e3743c1bb461111dcafc2a4   True    True    True   True  \n",
      "7  5a8bc65990b245e5a138643cd4eb9837   True    True    True  False  \n",
      "8  f19421c1d4aa40978ebb69ca19b0e20d   True    True    True   True  \n",
      "9  2906b810c7d4411798c6938adc9daaa5   True    True   False   True  \n"
     ]
    }
   ],
   "source": [
    "# Explode the list into rows\n",
    "portfolio_exploded = portfolio.explode('channels')\n",
    "\n",
    "# Create dummy variables (binary columns)\n",
    "portfolio_dummies = pd.get_dummies(portfolio_exploded, columns=['channels'], prefix='', prefix_sep='')\n",
    "\n",
    "# Aggregate back to original rows, keeping max value (1 if present, 0 if not)\n",
    "portfolio_new = portfolio_dummies.groupby(portfolio_dummies.index).max()\n",
    "\n",
    "# Print result\n",
    "print(portfolio_new)"
   ]
  },
  {
   "cell_type": "markdown",
   "metadata": {},
   "source": [
    "#### Profile Dataset:"
   ]
  },
  {
   "cell_type": "markdown",
   "metadata": {},
   "source": [
    "Rename 'id' to 'customer_id' for clarity. "
   ]
  },
  {
   "cell_type": "code",
   "execution_count": 1302,
   "metadata": {},
   "outputs": [],
   "source": [
    "profile = profile.rename(columns = {'id': 'customer_id'})"
   ]
  },
  {
   "cell_type": "markdown",
   "metadata": {},
   "source": [
    "The profile dataset has 'became_member_on' categorized as an integer field. Let's correct it to a date field. "
   ]
  },
  {
   "cell_type": "code",
   "execution_count": 1303,
   "metadata": {},
   "outputs": [],
   "source": [
    "profile['became_member_on'] = pd.to_datetime(profile['became_member_on'], format='%Y%m%d')"
   ]
  },
  {
   "cell_type": "markdown",
   "metadata": {},
   "source": [
    "Now let's visualize membership join dates. "
   ]
  },
  {
   "cell_type": "code",
   "execution_count": 1304,
   "metadata": {},
   "outputs": [
    {
     "data": {
      "text/html": [
       "<div>\n",
       "<style scoped>\n",
       "    .dataframe tbody tr th:only-of-type {\n",
       "        vertical-align: middle;\n",
       "    }\n",
       "\n",
       "    .dataframe tbody tr th {\n",
       "        vertical-align: top;\n",
       "    }\n",
       "\n",
       "    .dataframe thead th {\n",
       "        text-align: right;\n",
       "    }\n",
       "</style>\n",
       "<table border=\"1\" class=\"dataframe\">\n",
       "  <thead>\n",
       "    <tr style=\"text-align: right;\">\n",
       "      <th></th>\n",
       "      <th>gender</th>\n",
       "      <th>age</th>\n",
       "      <th>customer_id</th>\n",
       "      <th>became_member_on</th>\n",
       "      <th>income</th>\n",
       "      <th>member_join_year</th>\n",
       "    </tr>\n",
       "  </thead>\n",
       "  <tbody>\n",
       "    <tr>\n",
       "      <th>0</th>\n",
       "      <td>None</td>\n",
       "      <td>118</td>\n",
       "      <td>68be06ca386d4c31939f3a4f0e3dd783</td>\n",
       "      <td>2017-02-12</td>\n",
       "      <td>NaN</td>\n",
       "      <td>2017</td>\n",
       "    </tr>\n",
       "    <tr>\n",
       "      <th>1</th>\n",
       "      <td>F</td>\n",
       "      <td>55</td>\n",
       "      <td>0610b486422d4921ae7d2bf64640c50b</td>\n",
       "      <td>2017-07-15</td>\n",
       "      <td>112000.0</td>\n",
       "      <td>2017</td>\n",
       "    </tr>\n",
       "    <tr>\n",
       "      <th>2</th>\n",
       "      <td>None</td>\n",
       "      <td>118</td>\n",
       "      <td>38fe809add3b4fcf9315a9694bb96ff5</td>\n",
       "      <td>2018-07-12</td>\n",
       "      <td>NaN</td>\n",
       "      <td>2018</td>\n",
       "    </tr>\n",
       "    <tr>\n",
       "      <th>3</th>\n",
       "      <td>F</td>\n",
       "      <td>75</td>\n",
       "      <td>78afa995795e4d85b5d9ceeca43f5fef</td>\n",
       "      <td>2017-05-09</td>\n",
       "      <td>100000.0</td>\n",
       "      <td>2017</td>\n",
       "    </tr>\n",
       "    <tr>\n",
       "      <th>4</th>\n",
       "      <td>None</td>\n",
       "      <td>118</td>\n",
       "      <td>a03223e636434f42ac4c3df47e8bac43</td>\n",
       "      <td>2017-08-04</td>\n",
       "      <td>NaN</td>\n",
       "      <td>2017</td>\n",
       "    </tr>\n",
       "  </tbody>\n",
       "</table>\n",
       "</div>"
      ],
      "text/plain": [
       "  gender  age                       customer_id became_member_on    income  \\\n",
       "0   None  118  68be06ca386d4c31939f3a4f0e3dd783       2017-02-12       NaN   \n",
       "1      F   55  0610b486422d4921ae7d2bf64640c50b       2017-07-15  112000.0   \n",
       "2   None  118  38fe809add3b4fcf9315a9694bb96ff5       2018-07-12       NaN   \n",
       "3      F   75  78afa995795e4d85b5d9ceeca43f5fef       2017-05-09  100000.0   \n",
       "4   None  118  a03223e636434f42ac4c3df47e8bac43       2017-08-04       NaN   \n",
       "\n",
       "  member_join_year  \n",
       "0             2017  \n",
       "1             2017  \n",
       "2             2018  \n",
       "3             2017  \n",
       "4             2017  "
      ]
     },
     "execution_count": 1304,
     "metadata": {},
     "output_type": "execute_result"
    }
   ],
   "source": [
    "# Extract the full date (YYYY-MM-DD), year-month (YYYY-MM), and month (MM)\n",
    "profile['member_join_year'] = profile['became_member_on'].dt.strftime('%Y')\n",
    "profile.head()"
   ]
  },
  {
   "cell_type": "code",
   "execution_count": 1305,
   "metadata": {},
   "outputs": [
    {
     "data": {
      "image/png": "[encoded data removed]",
      "text/plain": [
       "<Figure size 640x480 with 1 Axes>"
      ]
     },
     "metadata": {},
     "output_type": "display_data"
    }
   ],
   "source": [
    "sns.countplot(data = profile, x = 'member_join_year', order = profile.sort_values(['member_join_year'], ascending=True).set_index('member_join_year').index);"
   ]
  },
  {
   "cell_type": "markdown",
   "metadata": {},
   "source": [
    "It looks like new memberships increased year over year from 2013 to a peak in 2017, followed by fewer new members in 2018. "
   ]
  },
  {
   "cell_type": "markdown",
   "metadata": {},
   "source": [
    "Let's make a dataframe of the profiles with null gender and income and age 118."
   ]
  },
  {
   "cell_type": "code",
   "execution_count": 1306,
   "metadata": {},
   "outputs": [
    {
     "name": "stdout",
     "output_type": "stream",
     "text": [
      "  gender  age                       customer_id became_member_on  income  \\\n",
      "0   None  118  68be06ca386d4c31939f3a4f0e3dd783       2017-02-12     NaN   \n",
      "2   None  118  38fe809add3b4fcf9315a9694bb96ff5       2018-07-12     NaN   \n",
      "4   None  118  a03223e636434f42ac4c3df47e8bac43       2017-08-04     NaN   \n",
      "6   None  118  8ec6ce2a7e7949b1bf142def7d0e0586       2017-09-25     NaN   \n",
      "7   None  118  68617ca6246f4fbc85e91a2a49552598       2017-10-02     NaN   \n",
      "\n",
      "  member_join_year  \n",
      "0             2017  \n",
      "2             2018  \n",
      "4             2017  \n",
      "6             2017  \n",
      "7             2017  \n"
     ]
    },
    {
     "data": {
      "text/plain": [
       "(2175, 6)"
      ]
     },
     "execution_count": 1306,
     "metadata": {},
     "output_type": "execute_result"
    }
   ],
   "source": [
    "null_profiles = profile[(profile['age']== 118) & (profile['gender'].isnull()) & (profile['income'].isnull())]\n",
    "print(null_profiles.head())\n",
    "null_profiles.shape"
   ]
  },
  {
   "cell_type": "markdown",
   "metadata": {},
   "source": [
    "#### Transcript Dataset:"
   ]
  },
  {
   "cell_type": "markdown",
   "metadata": {},
   "source": [
    "Rename 'person' to 'customer_id' to align with the profile dataset. "
   ]
  },
  {
   "cell_type": "code",
   "execution_count": 1307,
   "metadata": {},
   "outputs": [],
   "source": [
    "transcript = transcript.rename(columns = {'person': 'customer_id'})"
   ]
  },
  {
   "cell_type": "markdown",
   "metadata": {},
   "source": [
    "In the transcript dataset, 'value' is a dictionary. Let's break that up to be more workable."
   ]
  },
  {
   "cell_type": "markdown",
   "metadata": {},
   "source": [
    "First, notice that the dictionary has two different keys indicating the same thing: 'offer id' and 'offer_id'. Let's correct the keys so that there is only one version: 'offer_id'. "
   ]
  },
  {
   "cell_type": "code",
   "execution_count": 1308,
   "metadata": {},
   "outputs": [],
   "source": [
    "# Function to correct the key 'offer id' to 'offer_id'\n",
    "def correct_key(dictionary):\n",
    "    if 'offer id' in dictionary:\n",
    "        dictionary['offer_id'] = dictionary.pop('offer id')\n",
    "    return dictionary"
   ]
  },
  {
   "cell_type": "code",
   "execution_count": 1309,
   "metadata": {},
   "outputs": [],
   "source": [
    "# Apply the function to the dictionary column\n",
    "transcript['value'] = transcript['value'].apply(correct_key)"
   ]
  },
  {
   "cell_type": "markdown",
   "metadata": {},
   "source": [
    "Let's expand the dictionary 'value' column into multiple columns representing each key and the respective values. We will keep the original 'value' column for reference. "
   ]
  },
  {
   "cell_type": "code",
   "execution_count": 1310,
   "metadata": {},
   "outputs": [
    {
     "data": {
      "text/html": [
       "<div>\n",
       "<style scoped>\n",
       "    .dataframe tbody tr th:only-of-type {\n",
       "        vertical-align: middle;\n",
       "    }\n",
       "\n",
       "    .dataframe tbody tr th {\n",
       "        vertical-align: top;\n",
       "    }\n",
       "\n",
       "    .dataframe thead th {\n",
       "        text-align: right;\n",
       "    }\n",
       "</style>\n",
       "<table border=\"1\" class=\"dataframe\">\n",
       "  <thead>\n",
       "    <tr style=\"text-align: right;\">\n",
       "      <th></th>\n",
       "      <th>customer_id</th>\n",
       "      <th>event</th>\n",
       "      <th>value</th>\n",
       "      <th>time</th>\n",
       "      <th>offer_id</th>\n",
       "      <th>amount</th>\n",
       "      <th>reward</th>\n",
       "    </tr>\n",
       "  </thead>\n",
       "  <tbody>\n",
       "    <tr>\n",
       "      <th>0</th>\n",
       "      <td>78afa995795e4d85b5d9ceeca43f5fef</td>\n",
       "      <td>offer received</td>\n",
       "      <td>{'offer_id': '9b98b8c7a33c4b65b9aebfe6a799e6d9'}</td>\n",
       "      <td>0</td>\n",
       "      <td>9b98b8c7a33c4b65b9aebfe6a799e6d9</td>\n",
       "      <td>NaN</td>\n",
       "      <td>NaN</td>\n",
       "    </tr>\n",
       "    <tr>\n",
       "      <th>1</th>\n",
       "      <td>a03223e636434f42ac4c3df47e8bac43</td>\n",
       "      <td>offer received</td>\n",
       "      <td>{'offer_id': '0b1e1539f2cc45b7b9fa7c272da2e1d7'}</td>\n",
       "      <td>0</td>\n",
       "      <td>0b1e1539f2cc45b7b9fa7c272da2e1d7</td>\n",
       "      <td>NaN</td>\n",
       "      <td>NaN</td>\n",
       "    </tr>\n",
       "    <tr>\n",
       "      <th>2</th>\n",
       "      <td>e2127556f4f64592b11af22de27a7932</td>\n",
       "      <td>offer received</td>\n",
       "      <td>{'offer_id': '2906b810c7d4411798c6938adc9daaa5'}</td>\n",
       "      <td>0</td>\n",
       "      <td>2906b810c7d4411798c6938adc9daaa5</td>\n",
       "      <td>NaN</td>\n",
       "      <td>NaN</td>\n",
       "    </tr>\n",
       "    <tr>\n",
       "      <th>3</th>\n",
       "      <td>8ec6ce2a7e7949b1bf142def7d0e0586</td>\n",
       "      <td>offer received</td>\n",
       "      <td>{'offer_id': 'fafdcd668e3743c1bb461111dcafc2a4'}</td>\n",
       "      <td>0</td>\n",
       "      <td>fafdcd668e3743c1bb461111dcafc2a4</td>\n",
       "      <td>NaN</td>\n",
       "      <td>NaN</td>\n",
       "    </tr>\n",
       "    <tr>\n",
       "      <th>4</th>\n",
       "      <td>68617ca6246f4fbc85e91a2a49552598</td>\n",
       "      <td>offer received</td>\n",
       "      <td>{'offer_id': '4d5c57ea9a6940dd891ad53e9dbe8da0'}</td>\n",
       "      <td>0</td>\n",
       "      <td>4d5c57ea9a6940dd891ad53e9dbe8da0</td>\n",
       "      <td>NaN</td>\n",
       "      <td>NaN</td>\n",
       "    </tr>\n",
       "    <tr>\n",
       "      <th>...</th>\n",
       "      <td>...</td>\n",
       "      <td>...</td>\n",
       "      <td>...</td>\n",
       "      <td>...</td>\n",
       "      <td>...</td>\n",
       "      <td>...</td>\n",
       "      <td>...</td>\n",
       "    </tr>\n",
       "    <tr>\n",
       "      <th>306529</th>\n",
       "      <td>b3a1272bc9904337b331bf348c3e8c17</td>\n",
       "      <td>transaction</td>\n",
       "      <td>{'amount': 1.5899999999999999}</td>\n",
       "      <td>714</td>\n",
       "      <td>NaN</td>\n",
       "      <td>1.59</td>\n",
       "      <td>NaN</td>\n",
       "    </tr>\n",
       "    <tr>\n",
       "      <th>306530</th>\n",
       "      <td>68213b08d99a4ae1b0dcb72aebd9aa35</td>\n",
       "      <td>transaction</td>\n",
       "      <td>{'amount': 9.53}</td>\n",
       "      <td>714</td>\n",
       "      <td>NaN</td>\n",
       "      <td>9.53</td>\n",
       "      <td>NaN</td>\n",
       "    </tr>\n",
       "    <tr>\n",
       "      <th>306531</th>\n",
       "      <td>a00058cf10334a308c68e7631c529907</td>\n",
       "      <td>transaction</td>\n",
       "      <td>{'amount': 3.61}</td>\n",
       "      <td>714</td>\n",
       "      <td>NaN</td>\n",
       "      <td>3.61</td>\n",
       "      <td>NaN</td>\n",
       "    </tr>\n",
       "    <tr>\n",
       "      <th>306532</th>\n",
       "      <td>76ddbd6576844afe811f1a3c0fbb5bec</td>\n",
       "      <td>transaction</td>\n",
       "      <td>{'amount': 3.5300000000000002}</td>\n",
       "      <td>714</td>\n",
       "      <td>NaN</td>\n",
       "      <td>3.53</td>\n",
       "      <td>NaN</td>\n",
       "    </tr>\n",
       "    <tr>\n",
       "      <th>306533</th>\n",
       "      <td>c02b10e8752c4d8e9b73f918558531f7</td>\n",
       "      <td>transaction</td>\n",
       "      <td>{'amount': 4.05}</td>\n",
       "      <td>714</td>\n",
       "      <td>NaN</td>\n",
       "      <td>4.05</td>\n",
       "      <td>NaN</td>\n",
       "    </tr>\n",
       "  </tbody>\n",
       "</table>\n",
       "<p>306534 rows × 7 columns</p>\n",
       "</div>"
      ],
      "text/plain": [
       "                             customer_id           event  \\\n",
       "0       78afa995795e4d85b5d9ceeca43f5fef  offer received   \n",
       "1       a03223e636434f42ac4c3df47e8bac43  offer received   \n",
       "2       e2127556f4f64592b11af22de27a7932  offer received   \n",
       "3       8ec6ce2a7e7949b1bf142def7d0e0586  offer received   \n",
       "4       68617ca6246f4fbc85e91a2a49552598  offer received   \n",
       "...                                  ...             ...   \n",
       "306529  b3a1272bc9904337b331bf348c3e8c17     transaction   \n",
       "306530  68213b08d99a4ae1b0dcb72aebd9aa35     transaction   \n",
       "306531  a00058cf10334a308c68e7631c529907     transaction   \n",
       "306532  76ddbd6576844afe811f1a3c0fbb5bec     transaction   \n",
       "306533  c02b10e8752c4d8e9b73f918558531f7     transaction   \n",
       "\n",
       "                                                   value  time  \\\n",
       "0       {'offer_id': '9b98b8c7a33c4b65b9aebfe6a799e6d9'}     0   \n",
       "1       {'offer_id': '0b1e1539f2cc45b7b9fa7c272da2e1d7'}     0   \n",
       "2       {'offer_id': '2906b810c7d4411798c6938adc9daaa5'}     0   \n",
       "3       {'offer_id': 'fafdcd668e3743c1bb461111dcafc2a4'}     0   \n",
       "4       {'offer_id': '4d5c57ea9a6940dd891ad53e9dbe8da0'}     0   \n",
       "...                                                  ...   ...   \n",
       "306529                    {'amount': 1.5899999999999999}   714   \n",
       "306530                                  {'amount': 9.53}   714   \n",
       "306531                                  {'amount': 3.61}   714   \n",
       "306532                    {'amount': 3.5300000000000002}   714   \n",
       "306533                                  {'amount': 4.05}   714   \n",
       "\n",
       "                                offer_id  amount  reward  \n",
       "0       9b98b8c7a33c4b65b9aebfe6a799e6d9     NaN     NaN  \n",
       "1       0b1e1539f2cc45b7b9fa7c272da2e1d7     NaN     NaN  \n",
       "2       2906b810c7d4411798c6938adc9daaa5     NaN     NaN  \n",
       "3       fafdcd668e3743c1bb461111dcafc2a4     NaN     NaN  \n",
       "4       4d5c57ea9a6940dd891ad53e9dbe8da0     NaN     NaN  \n",
       "...                                  ...     ...     ...  \n",
       "306529                               NaN    1.59     NaN  \n",
       "306530                               NaN    9.53     NaN  \n",
       "306531                               NaN    3.61     NaN  \n",
       "306532                               NaN    3.53     NaN  \n",
       "306533                               NaN    4.05     NaN  \n",
       "\n",
       "[306534 rows x 7 columns]"
      ]
     },
     "execution_count": 1310,
     "metadata": {},
     "output_type": "execute_result"
    }
   ],
   "source": [
    "# Function to expand dictionary into columns\n",
    "def expand_dict_columns(df, column_name):\n",
    "    new_cols = df[column_name].apply(pd.Series)\n",
    "    df = pd.concat([df, new_cols], axis=1)\n",
    "    #df = df.drop(column_name, axis=1)\n",
    "    return df\n",
    "\n",
    "# Expand the 'details' column\n",
    "transcript_new = expand_dict_columns(transcript, 'value')\n",
    "\n",
    "# Display the modified DataFrame\n",
    "transcript_new"
   ]
  },
  {
   "cell_type": "markdown",
   "metadata": {},
   "source": [
    "Rename 'reward' to 'reward_earned' to differentiate from 'reward' in the portfolio dataset."
   ]
  },
  {
   "cell_type": "code",
   "execution_count": 1311,
   "metadata": {},
   "outputs": [
    {
     "data": {
      "text/html": [
       "<div>\n",
       "<style scoped>\n",
       "    .dataframe tbody tr th:only-of-type {\n",
       "        vertical-align: middle;\n",
       "    }\n",
       "\n",
       "    .dataframe tbody tr th {\n",
       "        vertical-align: top;\n",
       "    }\n",
       "\n",
       "    .dataframe thead th {\n",
       "        text-align: right;\n",
       "    }\n",
       "</style>\n",
       "<table border=\"1\" class=\"dataframe\">\n",
       "  <thead>\n",
       "    <tr style=\"text-align: right;\">\n",
       "      <th></th>\n",
       "      <th>customer_id</th>\n",
       "      <th>event</th>\n",
       "      <th>value</th>\n",
       "      <th>time</th>\n",
       "      <th>offer_id</th>\n",
       "      <th>amount</th>\n",
       "      <th>reward_earned</th>\n",
       "    </tr>\n",
       "  </thead>\n",
       "  <tbody>\n",
       "    <tr>\n",
       "      <th>0</th>\n",
       "      <td>78afa995795e4d85b5d9ceeca43f5fef</td>\n",
       "      <td>offer received</td>\n",
       "      <td>{'offer_id': '9b98b8c7a33c4b65b9aebfe6a799e6d9'}</td>\n",
       "      <td>0</td>\n",
       "      <td>9b98b8c7a33c4b65b9aebfe6a799e6d9</td>\n",
       "      <td>NaN</td>\n",
       "      <td>NaN</td>\n",
       "    </tr>\n",
       "    <tr>\n",
       "      <th>1</th>\n",
       "      <td>a03223e636434f42ac4c3df47e8bac43</td>\n",
       "      <td>offer received</td>\n",
       "      <td>{'offer_id': '0b1e1539f2cc45b7b9fa7c272da2e1d7'}</td>\n",
       "      <td>0</td>\n",
       "      <td>0b1e1539f2cc45b7b9fa7c272da2e1d7</td>\n",
       "      <td>NaN</td>\n",
       "      <td>NaN</td>\n",
       "    </tr>\n",
       "    <tr>\n",
       "      <th>2</th>\n",
       "      <td>e2127556f4f64592b11af22de27a7932</td>\n",
       "      <td>offer received</td>\n",
       "      <td>{'offer_id': '2906b810c7d4411798c6938adc9daaa5'}</td>\n",
       "      <td>0</td>\n",
       "      <td>2906b810c7d4411798c6938adc9daaa5</td>\n",
       "      <td>NaN</td>\n",
       "      <td>NaN</td>\n",
       "    </tr>\n",
       "    <tr>\n",
       "      <th>3</th>\n",
       "      <td>8ec6ce2a7e7949b1bf142def7d0e0586</td>\n",
       "      <td>offer received</td>\n",
       "      <td>{'offer_id': 'fafdcd668e3743c1bb461111dcafc2a4'}</td>\n",
       "      <td>0</td>\n",
       "      <td>fafdcd668e3743c1bb461111dcafc2a4</td>\n",
       "      <td>NaN</td>\n",
       "      <td>NaN</td>\n",
       "    </tr>\n",
       "    <tr>\n",
       "      <th>4</th>\n",
       "      <td>68617ca6246f4fbc85e91a2a49552598</td>\n",
       "      <td>offer received</td>\n",
       "      <td>{'offer_id': '4d5c57ea9a6940dd891ad53e9dbe8da0'}</td>\n",
       "      <td>0</td>\n",
       "      <td>4d5c57ea9a6940dd891ad53e9dbe8da0</td>\n",
       "      <td>NaN</td>\n",
       "      <td>NaN</td>\n",
       "    </tr>\n",
       "  </tbody>\n",
       "</table>\n",
       "</div>"
      ],
      "text/plain": [
       "                        customer_id           event  \\\n",
       "0  78afa995795e4d85b5d9ceeca43f5fef  offer received   \n",
       "1  a03223e636434f42ac4c3df47e8bac43  offer received   \n",
       "2  e2127556f4f64592b11af22de27a7932  offer received   \n",
       "3  8ec6ce2a7e7949b1bf142def7d0e0586  offer received   \n",
       "4  68617ca6246f4fbc85e91a2a49552598  offer received   \n",
       "\n",
       "                                              value  time  \\\n",
       "0  {'offer_id': '9b98b8c7a33c4b65b9aebfe6a799e6d9'}     0   \n",
       "1  {'offer_id': '0b1e1539f2cc45b7b9fa7c272da2e1d7'}     0   \n",
       "2  {'offer_id': '2906b810c7d4411798c6938adc9daaa5'}     0   \n",
       "3  {'offer_id': 'fafdcd668e3743c1bb461111dcafc2a4'}     0   \n",
       "4  {'offer_id': '4d5c57ea9a6940dd891ad53e9dbe8da0'}     0   \n",
       "\n",
       "                           offer_id  amount  reward_earned  \n",
       "0  9b98b8c7a33c4b65b9aebfe6a799e6d9     NaN            NaN  \n",
       "1  0b1e1539f2cc45b7b9fa7c272da2e1d7     NaN            NaN  \n",
       "2  2906b810c7d4411798c6938adc9daaa5     NaN            NaN  \n",
       "3  fafdcd668e3743c1bb461111dcafc2a4     NaN            NaN  \n",
       "4  4d5c57ea9a6940dd891ad53e9dbe8da0     NaN            NaN  "
      ]
     },
     "execution_count": 1311,
     "metadata": {},
     "output_type": "execute_result"
    }
   ],
   "source": [
    "transcript_new = transcript_new.rename(columns = {'reward': 'reward_earned'})\n",
    "transcript_new.head() # confirm change was successful"
   ]
  },
  {
   "cell_type": "markdown",
   "metadata": {},
   "source": [
    "#### Combine datasets into one dataframe."
   ]
  },
  {
   "cell_type": "code",
   "execution_count": 1312,
   "metadata": {},
   "outputs": [
    {
     "data": {
      "text/html": [
       "<div>\n",
       "<style scoped>\n",
       "    .dataframe tbody tr th:only-of-type {\n",
       "        vertical-align: middle;\n",
       "    }\n",
       "\n",
       "    .dataframe tbody tr th {\n",
       "        vertical-align: top;\n",
       "    }\n",
       "\n",
       "    .dataframe thead th {\n",
       "        text-align: right;\n",
       "    }\n",
       "</style>\n",
       "<table border=\"1\" class=\"dataframe\">\n",
       "  <thead>\n",
       "    <tr style=\"text-align: right;\">\n",
       "      <th></th>\n",
       "      <th>customer_id</th>\n",
       "      <th>event</th>\n",
       "      <th>value</th>\n",
       "      <th>time</th>\n",
       "      <th>offer_id</th>\n",
       "      <th>amount</th>\n",
       "      <th>reward_earned</th>\n",
       "      <th>gender</th>\n",
       "      <th>age</th>\n",
       "      <th>became_member_on</th>\n",
       "      <th>income</th>\n",
       "      <th>member_join_year</th>\n",
       "    </tr>\n",
       "  </thead>\n",
       "  <tbody>\n",
       "    <tr>\n",
       "      <th>0</th>\n",
       "      <td>78afa995795e4d85b5d9ceeca43f5fef</td>\n",
       "      <td>offer received</td>\n",
       "      <td>{'offer_id': '9b98b8c7a33c4b65b9aebfe6a799e6d9'}</td>\n",
       "      <td>0</td>\n",
       "      <td>9b98b8c7a33c4b65b9aebfe6a799e6d9</td>\n",
       "      <td>NaN</td>\n",
       "      <td>NaN</td>\n",
       "      <td>F</td>\n",
       "      <td>75</td>\n",
       "      <td>2017-05-09</td>\n",
       "      <td>100000.0</td>\n",
       "      <td>2017</td>\n",
       "    </tr>\n",
       "    <tr>\n",
       "      <th>1</th>\n",
       "      <td>a03223e636434f42ac4c3df47e8bac43</td>\n",
       "      <td>offer received</td>\n",
       "      <td>{'offer_id': '0b1e1539f2cc45b7b9fa7c272da2e1d7'}</td>\n",
       "      <td>0</td>\n",
       "      <td>0b1e1539f2cc45b7b9fa7c272da2e1d7</td>\n",
       "      <td>NaN</td>\n",
       "      <td>NaN</td>\n",
       "      <td>None</td>\n",
       "      <td>118</td>\n",
       "      <td>2017-08-04</td>\n",
       "      <td>NaN</td>\n",
       "      <td>2017</td>\n",
       "    </tr>\n",
       "    <tr>\n",
       "      <th>2</th>\n",
       "      <td>e2127556f4f64592b11af22de27a7932</td>\n",
       "      <td>offer received</td>\n",
       "      <td>{'offer_id': '2906b810c7d4411798c6938adc9daaa5'}</td>\n",
       "      <td>0</td>\n",
       "      <td>2906b810c7d4411798c6938adc9daaa5</td>\n",
       "      <td>NaN</td>\n",
       "      <td>NaN</td>\n",
       "      <td>M</td>\n",
       "      <td>68</td>\n",
       "      <td>2018-04-26</td>\n",
       "      <td>70000.0</td>\n",
       "      <td>2018</td>\n",
       "    </tr>\n",
       "    <tr>\n",
       "      <th>3</th>\n",
       "      <td>8ec6ce2a7e7949b1bf142def7d0e0586</td>\n",
       "      <td>offer received</td>\n",
       "      <td>{'offer_id': 'fafdcd668e3743c1bb461111dcafc2a4'}</td>\n",
       "      <td>0</td>\n",
       "      <td>fafdcd668e3743c1bb461111dcafc2a4</td>\n",
       "      <td>NaN</td>\n",
       "      <td>NaN</td>\n",
       "      <td>None</td>\n",
       "      <td>118</td>\n",
       "      <td>2017-09-25</td>\n",
       "      <td>NaN</td>\n",
       "      <td>2017</td>\n",
       "    </tr>\n",
       "    <tr>\n",
       "      <th>4</th>\n",
       "      <td>68617ca6246f4fbc85e91a2a49552598</td>\n",
       "      <td>offer received</td>\n",
       "      <td>{'offer_id': '4d5c57ea9a6940dd891ad53e9dbe8da0'}</td>\n",
       "      <td>0</td>\n",
       "      <td>4d5c57ea9a6940dd891ad53e9dbe8da0</td>\n",
       "      <td>NaN</td>\n",
       "      <td>NaN</td>\n",
       "      <td>None</td>\n",
       "      <td>118</td>\n",
       "      <td>2017-10-02</td>\n",
       "      <td>NaN</td>\n",
       "      <td>2017</td>\n",
       "    </tr>\n",
       "  </tbody>\n",
       "</table>\n",
       "</div>"
      ],
      "text/plain": [
       "                        customer_id           event  \\\n",
       "0  78afa995795e4d85b5d9ceeca43f5fef  offer received   \n",
       "1  a03223e636434f42ac4c3df47e8bac43  offer received   \n",
       "2  e2127556f4f64592b11af22de27a7932  offer received   \n",
       "3  8ec6ce2a7e7949b1bf142def7d0e0586  offer received   \n",
       "4  68617ca6246f4fbc85e91a2a49552598  offer received   \n",
       "\n",
       "                                              value  time  \\\n",
       "0  {'offer_id': '9b98b8c7a33c4b65b9aebfe6a799e6d9'}     0   \n",
       "1  {'offer_id': '0b1e1539f2cc45b7b9fa7c272da2e1d7'}     0   \n",
       "2  {'offer_id': '2906b810c7d4411798c6938adc9daaa5'}     0   \n",
       "3  {'offer_id': 'fafdcd668e3743c1bb461111dcafc2a4'}     0   \n",
       "4  {'offer_id': '4d5c57ea9a6940dd891ad53e9dbe8da0'}     0   \n",
       "\n",
       "                           offer_id  amount  reward_earned gender  age  \\\n",
       "0  9b98b8c7a33c4b65b9aebfe6a799e6d9     NaN            NaN      F   75   \n",
       "1  0b1e1539f2cc45b7b9fa7c272da2e1d7     NaN            NaN   None  118   \n",
       "2  2906b810c7d4411798c6938adc9daaa5     NaN            NaN      M   68   \n",
       "3  fafdcd668e3743c1bb461111dcafc2a4     NaN            NaN   None  118   \n",
       "4  4d5c57ea9a6940dd891ad53e9dbe8da0     NaN            NaN   None  118   \n",
       "\n",
       "  became_member_on    income member_join_year  \n",
       "0       2017-05-09  100000.0             2017  \n",
       "1       2017-08-04       NaN             2017  \n",
       "2       2018-04-26   70000.0             2018  \n",
       "3       2017-09-25       NaN             2017  \n",
       "4       2017-10-02       NaN             2017  "
      ]
     },
     "execution_count": 1312,
     "metadata": {},
     "output_type": "execute_result"
    }
   ],
   "source": [
    "full_df = pd.merge(transcript_new, profile, how = 'left', on = 'customer_id')\n",
    "full_df.head()"
   ]
  },
  {
   "cell_type": "code",
   "execution_count": 1313,
   "metadata": {},
   "outputs": [
    {
     "data": {
      "text/html": [
       "<div>\n",
       "<style scoped>\n",
       "    .dataframe tbody tr th:only-of-type {\n",
       "        vertical-align: middle;\n",
       "    }\n",
       "\n",
       "    .dataframe tbody tr th {\n",
       "        vertical-align: top;\n",
       "    }\n",
       "\n",
       "    .dataframe thead th {\n",
       "        text-align: right;\n",
       "    }\n",
       "</style>\n",
       "<table border=\"1\" class=\"dataframe\">\n",
       "  <thead>\n",
       "    <tr style=\"text-align: right;\">\n",
       "      <th></th>\n",
       "      <th>customer_id</th>\n",
       "      <th>event</th>\n",
       "      <th>value</th>\n",
       "      <th>time</th>\n",
       "      <th>offer_id</th>\n",
       "      <th>amount</th>\n",
       "      <th>reward_earned</th>\n",
       "      <th>gender</th>\n",
       "      <th>age</th>\n",
       "      <th>became_member_on</th>\n",
       "      <th>income</th>\n",
       "      <th>member_join_year</th>\n",
       "      <th>offer_reward</th>\n",
       "      <th>offer_difficulty</th>\n",
       "      <th>offer_duration</th>\n",
       "      <th>offer_type</th>\n",
       "      <th>email</th>\n",
       "      <th>mobile</th>\n",
       "      <th>social</th>\n",
       "      <th>web</th>\n",
       "    </tr>\n",
       "  </thead>\n",
       "  <tbody>\n",
       "    <tr>\n",
       "      <th>0</th>\n",
       "      <td>78afa995795e4d85b5d9ceeca43f5fef</td>\n",
       "      <td>offer received</td>\n",
       "      <td>{'offer_id': '9b98b8c7a33c4b65b9aebfe6a799e6d9'}</td>\n",
       "      <td>0</td>\n",
       "      <td>9b98b8c7a33c4b65b9aebfe6a799e6d9</td>\n",
       "      <td>NaN</td>\n",
       "      <td>NaN</td>\n",
       "      <td>F</td>\n",
       "      <td>75</td>\n",
       "      <td>2017-05-09</td>\n",
       "      <td>100000.0</td>\n",
       "      <td>2017</td>\n",
       "      <td>5.0</td>\n",
       "      <td>5.0</td>\n",
       "      <td>7.0</td>\n",
       "      <td>bogo</td>\n",
       "      <td>True</td>\n",
       "      <td>True</td>\n",
       "      <td>False</td>\n",
       "      <td>True</td>\n",
       "    </tr>\n",
       "    <tr>\n",
       "      <th>1</th>\n",
       "      <td>a03223e636434f42ac4c3df47e8bac43</td>\n",
       "      <td>offer received</td>\n",
       "      <td>{'offer_id': '0b1e1539f2cc45b7b9fa7c272da2e1d7'}</td>\n",
       "      <td>0</td>\n",
       "      <td>0b1e1539f2cc45b7b9fa7c272da2e1d7</td>\n",
       "      <td>NaN</td>\n",
       "      <td>NaN</td>\n",
       "      <td>None</td>\n",
       "      <td>118</td>\n",
       "      <td>2017-08-04</td>\n",
       "      <td>NaN</td>\n",
       "      <td>2017</td>\n",
       "      <td>5.0</td>\n",
       "      <td>20.0</td>\n",
       "      <td>10.0</td>\n",
       "      <td>discount</td>\n",
       "      <td>True</td>\n",
       "      <td>False</td>\n",
       "      <td>False</td>\n",
       "      <td>True</td>\n",
       "    </tr>\n",
       "    <tr>\n",
       "      <th>2</th>\n",
       "      <td>e2127556f4f64592b11af22de27a7932</td>\n",
       "      <td>offer received</td>\n",
       "      <td>{'offer_id': '2906b810c7d4411798c6938adc9daaa5'}</td>\n",
       "      <td>0</td>\n",
       "      <td>2906b810c7d4411798c6938adc9daaa5</td>\n",
       "      <td>NaN</td>\n",
       "      <td>NaN</td>\n",
       "      <td>M</td>\n",
       "      <td>68</td>\n",
       "      <td>2018-04-26</td>\n",
       "      <td>70000.0</td>\n",
       "      <td>2018</td>\n",
       "      <td>2.0</td>\n",
       "      <td>10.0</td>\n",
       "      <td>7.0</td>\n",
       "      <td>discount</td>\n",
       "      <td>True</td>\n",
       "      <td>True</td>\n",
       "      <td>False</td>\n",
       "      <td>True</td>\n",
       "    </tr>\n",
       "    <tr>\n",
       "      <th>3</th>\n",
       "      <td>8ec6ce2a7e7949b1bf142def7d0e0586</td>\n",
       "      <td>offer received</td>\n",
       "      <td>{'offer_id': 'fafdcd668e3743c1bb461111dcafc2a4'}</td>\n",
       "      <td>0</td>\n",
       "      <td>fafdcd668e3743c1bb461111dcafc2a4</td>\n",
       "      <td>NaN</td>\n",
       "      <td>NaN</td>\n",
       "      <td>None</td>\n",
       "      <td>118</td>\n",
       "      <td>2017-09-25</td>\n",
       "      <td>NaN</td>\n",
       "      <td>2017</td>\n",
       "      <td>2.0</td>\n",
       "      <td>10.0</td>\n",
       "      <td>10.0</td>\n",
       "      <td>discount</td>\n",
       "      <td>True</td>\n",
       "      <td>True</td>\n",
       "      <td>True</td>\n",
       "      <td>True</td>\n",
       "    </tr>\n",
       "    <tr>\n",
       "      <th>4</th>\n",
       "      <td>68617ca6246f4fbc85e91a2a49552598</td>\n",
       "      <td>offer received</td>\n",
       "      <td>{'offer_id': '4d5c57ea9a6940dd891ad53e9dbe8da0'}</td>\n",
       "      <td>0</td>\n",
       "      <td>4d5c57ea9a6940dd891ad53e9dbe8da0</td>\n",
       "      <td>NaN</td>\n",
       "      <td>NaN</td>\n",
       "      <td>None</td>\n",
       "      <td>118</td>\n",
       "      <td>2017-10-02</td>\n",
       "      <td>NaN</td>\n",
       "      <td>2017</td>\n",
       "      <td>10.0</td>\n",
       "      <td>10.0</td>\n",
       "      <td>5.0</td>\n",
       "      <td>bogo</td>\n",
       "      <td>True</td>\n",
       "      <td>True</td>\n",
       "      <td>True</td>\n",
       "      <td>True</td>\n",
       "    </tr>\n",
       "  </tbody>\n",
       "</table>\n",
       "</div>"
      ],
      "text/plain": [
       "                        customer_id           event  \\\n",
       "0  78afa995795e4d85b5d9ceeca43f5fef  offer received   \n",
       "1  a03223e636434f42ac4c3df47e8bac43  offer received   \n",
       "2  e2127556f4f64592b11af22de27a7932  offer received   \n",
       "3  8ec6ce2a7e7949b1bf142def7d0e0586  offer received   \n",
       "4  68617ca6246f4fbc85e91a2a49552598  offer received   \n",
       "\n",
       "                                              value  time  \\\n",
       "0  {'offer_id': '9b98b8c7a33c4b65b9aebfe6a799e6d9'}     0   \n",
       "1  {'offer_id': '0b1e1539f2cc45b7b9fa7c272da2e1d7'}     0   \n",
       "2  {'offer_id': '2906b810c7d4411798c6938adc9daaa5'}     0   \n",
       "3  {'offer_id': 'fafdcd668e3743c1bb461111dcafc2a4'}     0   \n",
       "4  {'offer_id': '4d5c57ea9a6940dd891ad53e9dbe8da0'}     0   \n",
       "\n",
       "                           offer_id  amount  reward_earned gender  age  \\\n",
       "0  9b98b8c7a33c4b65b9aebfe6a799e6d9     NaN            NaN      F   75   \n",
       "1  0b1e1539f2cc45b7b9fa7c272da2e1d7     NaN            NaN   None  118   \n",
       "2  2906b810c7d4411798c6938adc9daaa5     NaN            NaN      M   68   \n",
       "3  fafdcd668e3743c1bb461111dcafc2a4     NaN            NaN   None  118   \n",
       "4  4d5c57ea9a6940dd891ad53e9dbe8da0     NaN            NaN   None  118   \n",
       "\n",
       "  became_member_on    income member_join_year  offer_reward  offer_difficulty  \\\n",
       "0       2017-05-09  100000.0             2017           5.0               5.0   \n",
       "1       2017-08-04       NaN             2017           5.0              20.0   \n",
       "2       2018-04-26   70000.0             2018           2.0              10.0   \n",
       "3       2017-09-25       NaN             2017           2.0              10.0   \n",
       "4       2017-10-02       NaN             2017          10.0              10.0   \n",
       "\n",
       "   offer_duration offer_type email mobile social   web  \n",
       "0             7.0       bogo  True   True  False  True  \n",
       "1            10.0   discount  True  False  False  True  \n",
       "2             7.0   discount  True   True  False  True  \n",
       "3            10.0   discount  True   True   True  True  \n",
       "4             5.0       bogo  True   True   True  True  "
      ]
     },
     "execution_count": 1313,
     "metadata": {},
     "output_type": "execute_result"
    }
   ],
   "source": [
    "full_df = pd.merge(full_df, portfolio_new, how = 'left', on = 'offer_id')\n",
    "full_df.head()"
   ]
  },
  {
   "cell_type": "code",
   "execution_count": 1155,
   "metadata": {},
   "outputs": [
    {
     "name": "stdout",
     "output_type": "stream",
     "text": [
      "Head:\n",
      "                        customer_id           event  \\\n",
      "0  78afa995795e4d85b5d9ceeca43f5fef  offer received   \n",
      "1  a03223e636434f42ac4c3df47e8bac43  offer received   \n",
      "2  e2127556f4f64592b11af22de27a7932  offer received   \n",
      "3  8ec6ce2a7e7949b1bf142def7d0e0586  offer received   \n",
      "4  68617ca6246f4fbc85e91a2a49552598  offer received   \n",
      "\n",
      "                                              value  time  \\\n",
      "0  {'offer_id': '9b98b8c7a33c4b65b9aebfe6a799e6d9'}     0   \n",
      "1  {'offer_id': '0b1e1539f2cc45b7b9fa7c272da2e1d7'}     0   \n",
      "2  {'offer_id': '2906b810c7d4411798c6938adc9daaa5'}     0   \n",
      "3  {'offer_id': 'fafdcd668e3743c1bb461111dcafc2a4'}     0   \n",
      "4  {'offer_id': '4d5c57ea9a6940dd891ad53e9dbe8da0'}     0   \n",
      "\n",
      "                           offer_id  amount  reward_earned gender  age  \\\n",
      "0  9b98b8c7a33c4b65b9aebfe6a799e6d9     NaN            NaN      F   75   \n",
      "1  0b1e1539f2cc45b7b9fa7c272da2e1d7     NaN            NaN   None  118   \n",
      "2  2906b810c7d4411798c6938adc9daaa5     NaN            NaN      M   68   \n",
      "3  fafdcd668e3743c1bb461111dcafc2a4     NaN            NaN   None  118   \n",
      "4  4d5c57ea9a6940dd891ad53e9dbe8da0     NaN            NaN   None  118   \n",
      "\n",
      "  became_member_on    income member_join_year  offer_reward  offer_difficulty  \\\n",
      "0       2017-05-09  100000.0             2017           5.0               5.0   \n",
      "1       2017-08-04       NaN             2017           5.0              20.0   \n",
      "2       2018-04-26   70000.0             2018           2.0              10.0   \n",
      "3       2017-09-25       NaN             2017           2.0              10.0   \n",
      "4       2017-10-02       NaN             2017          10.0              10.0   \n",
      "\n",
      "   offer_duration offer_type email mobile social   web  \n",
      "0             7.0       bogo  True   True  False  True  \n",
      "1            10.0   discount  True  False  False  True  \n",
      "2             7.0   discount  True   True  False  True  \n",
      "3            10.0   discount  True   True   True  True  \n",
      "4             5.0       bogo  True   True   True  True  \n",
      "\n",
      "Shape: \n",
      "(306534, 20)\n",
      "\n",
      "Column Info:\n",
      "    customer_id\n",
      "        0 nulls, proportion of nulls = 0.0, type = object, nunique = 17000\n",
      "    event\n",
      "        0 nulls, proportion of nulls = 0.0, type = object, nunique = 4\n",
      "    value\n",
      "        0 nulls, proportion of nulls = 0.0, type = object, nunique = cannot compute for this data type\n",
      "    time\n",
      "        0 nulls, proportion of nulls = 0.0, type = int64, nunique = 120\n",
      "    offer_id\n",
      "        138953 nulls, proportion of nulls = 0.45330371182315826, type = object, nunique = 10\n",
      "    amount\n",
      "        167581 nulls, proportion of nulls = 0.5466962881768417, type = float64, nunique = 5103\n",
      "    reward_earned\n",
      "        272955 nulls, proportion of nulls = 0.8904558711268571, type = float64, nunique = 4\n",
      "    gender\n",
      "        33772 nulls, proportion of nulls = 0.11017374907840566, type = object, nunique = 3\n",
      "    age\n",
      "        0 nulls, proportion of nulls = 0.0, type = int64, nunique = 85\n",
      "    became_member_on\n",
      "        0 nulls, proportion of nulls = 0.0, type = datetime64[ns], nunique = 1716\n",
      "    income\n",
      "        33772 nulls, proportion of nulls = 0.11017374907840566, type = float64, nunique = 91\n",
      "    member_join_year\n",
      "        0 nulls, proportion of nulls = 0.0, type = object, nunique = 6\n",
      "    offer_reward\n",
      "        138953 nulls, proportion of nulls = 0.45330371182315826, type = float64, nunique = 5\n",
      "    offer_difficulty\n",
      "        138953 nulls, proportion of nulls = 0.45330371182315826, type = float64, nunique = 5\n",
      "    offer_duration\n",
      "        138953 nulls, proportion of nulls = 0.45330371182315826, type = float64, nunique = 5\n",
      "    offer_type\n",
      "        138953 nulls, proportion of nulls = 0.45330371182315826, type = object, nunique = 3\n",
      "    email\n",
      "        138953 nulls, proportion of nulls = 0.45330371182315826, type = object, nunique = 1\n",
      "    mobile\n",
      "        138953 nulls, proportion of nulls = 0.45330371182315826, type = object, nunique = 2\n",
      "    social\n",
      "        138953 nulls, proportion of nulls = 0.45330371182315826, type = object, nunique = 2\n",
      "    web\n",
      "        138953 nulls, proportion of nulls = 0.45330371182315826, type = object, nunique = 2\n",
      "\n",
      "Descriptive Statistics:\n",
      "                time         amount  reward_earned            age  \\\n",
      "count  306534.000000  138953.000000   33579.000000  306534.000000   \n",
      "mean      366.382940      12.777356       4.904137      60.909367   \n",
      "min         0.000000       0.050000       2.000000      18.000000   \n",
      "25%       186.000000       2.780000       2.000000      43.000000   \n",
      "50%       408.000000       8.890000       5.000000      57.000000   \n",
      "75%       528.000000      18.070000       5.000000      72.000000   \n",
      "max       714.000000    1062.280000      10.000000     118.000000   \n",
      "std       200.326314      30.250529       2.886647      26.032030   \n",
      "\n",
      "                    became_member_on         income  offer_reward  \\\n",
      "count                         306534  272762.000000  167581.00000   \n",
      "mean   2016-12-28 01:22:03.830961664   64337.000755       4.41991   \n",
      "min              2013-07-29 00:00:00   30000.000000       0.00000   \n",
      "25%              2016-03-22 00:00:00   48000.000000       2.00000   \n",
      "50%              2017-04-13 00:00:00   62000.000000       5.00000   \n",
      "75%              2017-11-26 00:00:00   78000.000000       5.00000   \n",
      "max              2018-07-26 00:00:00  120000.000000      10.00000   \n",
      "std                              NaN   21243.762941       3.37336   \n",
      "\n",
      "       offer_difficulty  offer_duration  \n",
      "count     167581.000000   167581.000000  \n",
      "mean           7.850401        6.610737  \n",
      "min            0.000000        3.000000  \n",
      "25%            5.000000        5.000000  \n",
      "50%           10.000000        7.000000  \n",
      "75%           10.000000        7.000000  \n",
      "max           20.000000       10.000000  \n",
      "std            5.048944        2.136130  \n"
     ]
    }
   ],
   "source": [
    "df_info(full_df)"
   ]
  },
  {
   "cell_type": "code",
   "execution_count": 1321,
   "metadata": {},
   "outputs": [
    {
     "data": {
      "image/png": "[encoded data removed]",
      "text/plain": [
       "<Figure size 640x480 with 1 Axes>"
      ]
     },
     "metadata": {},
     "output_type": "display_data"
    }
   ],
   "source": [
    "events_all = full_df['event'].value_counts()\n",
    "plt.bar(events_all.index, events_all.values)\n",
    "plt.xlabel('Event')\n",
    "plt.ylabel('Count')\n",
    "for i in range(len(events_all.index)):\n",
    "    plt.text(i, events_all.values[i], str(events_all.values[i]), ha='center', va='bottom')"
   ]
  },
  {
   "cell_type": "code",
   "execution_count": 1352,
   "metadata": {},
   "outputs": [
    {
     "data": {
      "text/plain": [
       "np.float64(0.10954412887314295)"
      ]
     },
     "execution_count": 1352,
     "metadata": {},
     "output_type": "execute_result"
    }
   ],
   "source": [
    "all_ratio_completed_v_all_events = events_all['offer completed'] / full_df.shape[0]\n",
    "all_ratio_completed_v_all_events"
   ]
  },
  {
   "cell_type": "markdown",
   "metadata": {},
   "source": [
    "When looking at the entire dataset, about 11% of events are offer completions. "
   ]
  },
  {
   "cell_type": "markdown",
   "metadata": {},
   "source": [
    "What if we look at only the portion of users with complete profiles?"
   ]
  },
  {
   "cell_type": "code",
   "execution_count": 1368,
   "metadata": {},
   "outputs": [
    {
     "name": "stdout",
     "output_type": "stream",
     "text": [
      "   gender  age                       customer_id became_member_on    income  \\\n",
      "1       F   55  0610b486422d4921ae7d2bf64640c50b       2017-07-15  112000.0   \n",
      "3       F   75  78afa995795e4d85b5d9ceeca43f5fef       2017-05-09  100000.0   \n",
      "5       M   68  e2127556f4f64592b11af22de27a7932       2018-04-26   70000.0   \n",
      "8       M   65  389bc3fa690240e798340f5a15918d5c       2018-02-09   53000.0   \n",
      "12      M   58  2eeac8d8feae4a8cad5a6af0499a211d       2017-11-11   51000.0   \n",
      "\n",
      "   member_join_year  \n",
      "1              2017  \n",
      "3              2017  \n",
      "5              2018  \n",
      "8              2018  \n",
      "12             2017  \n"
     ]
    },
    {
     "data": {
      "text/plain": [
       "(14825, 6)"
      ]
     },
     "execution_count": 1368,
     "metadata": {},
     "output_type": "execute_result"
    }
   ],
   "source": [
    "complete_profiles = profile[(profile['gender'].notnull()) & (profile['income'].notnull())]\n",
    "print(complete_profiles.head())\n",
    "complete_profiles.shape"
   ]
  },
  {
   "cell_type": "code",
   "execution_count": 1375,
   "metadata": {},
   "outputs": [
    {
     "data": {
      "text/html": [
       "<div>\n",
       "<style scoped>\n",
       "    .dataframe tbody tr th:only-of-type {\n",
       "        vertical-align: middle;\n",
       "    }\n",
       "\n",
       "    .dataframe tbody tr th {\n",
       "        vertical-align: top;\n",
       "    }\n",
       "\n",
       "    .dataframe thead th {\n",
       "        text-align: right;\n",
       "    }\n",
       "</style>\n",
       "<table border=\"1\" class=\"dataframe\">\n",
       "  <thead>\n",
       "    <tr style=\"text-align: right;\">\n",
       "      <th></th>\n",
       "      <th>customer_id</th>\n",
       "      <th>event</th>\n",
       "      <th>value</th>\n",
       "      <th>time</th>\n",
       "      <th>offer_id</th>\n",
       "      <th>amount</th>\n",
       "      <th>reward_earned</th>\n",
       "      <th>gender</th>\n",
       "      <th>age</th>\n",
       "      <th>became_member_on</th>\n",
       "      <th>income</th>\n",
       "      <th>member_join_year</th>\n",
       "    </tr>\n",
       "  </thead>\n",
       "  <tbody>\n",
       "    <tr>\n",
       "      <th>0</th>\n",
       "      <td>78afa995795e4d85b5d9ceeca43f5fef</td>\n",
       "      <td>offer received</td>\n",
       "      <td>{'offer_id': '9b98b8c7a33c4b65b9aebfe6a799e6d9'}</td>\n",
       "      <td>0</td>\n",
       "      <td>9b98b8c7a33c4b65b9aebfe6a799e6d9</td>\n",
       "      <td>NaN</td>\n",
       "      <td>NaN</td>\n",
       "      <td>F</td>\n",
       "      <td>75</td>\n",
       "      <td>2017-05-09</td>\n",
       "      <td>100000.0</td>\n",
       "      <td>2017</td>\n",
       "    </tr>\n",
       "    <tr>\n",
       "      <th>1</th>\n",
       "      <td>e2127556f4f64592b11af22de27a7932</td>\n",
       "      <td>offer received</td>\n",
       "      <td>{'offer_id': '2906b810c7d4411798c6938adc9daaa5'}</td>\n",
       "      <td>0</td>\n",
       "      <td>2906b810c7d4411798c6938adc9daaa5</td>\n",
       "      <td>NaN</td>\n",
       "      <td>NaN</td>\n",
       "      <td>M</td>\n",
       "      <td>68</td>\n",
       "      <td>2018-04-26</td>\n",
       "      <td>70000.0</td>\n",
       "      <td>2018</td>\n",
       "    </tr>\n",
       "    <tr>\n",
       "      <th>2</th>\n",
       "      <td>389bc3fa690240e798340f5a15918d5c</td>\n",
       "      <td>offer received</td>\n",
       "      <td>{'offer_id': 'f19421c1d4aa40978ebb69ca19b0e20d'}</td>\n",
       "      <td>0</td>\n",
       "      <td>f19421c1d4aa40978ebb69ca19b0e20d</td>\n",
       "      <td>NaN</td>\n",
       "      <td>NaN</td>\n",
       "      <td>M</td>\n",
       "      <td>65</td>\n",
       "      <td>2018-02-09</td>\n",
       "      <td>53000.0</td>\n",
       "      <td>2018</td>\n",
       "    </tr>\n",
       "    <tr>\n",
       "      <th>3</th>\n",
       "      <td>2eeac8d8feae4a8cad5a6af0499a211d</td>\n",
       "      <td>offer received</td>\n",
       "      <td>{'offer_id': '3f207df678b143eea3cee63160fa8bed'}</td>\n",
       "      <td>0</td>\n",
       "      <td>3f207df678b143eea3cee63160fa8bed</td>\n",
       "      <td>NaN</td>\n",
       "      <td>NaN</td>\n",
       "      <td>M</td>\n",
       "      <td>58</td>\n",
       "      <td>2017-11-11</td>\n",
       "      <td>51000.0</td>\n",
       "      <td>2017</td>\n",
       "    </tr>\n",
       "    <tr>\n",
       "      <th>4</th>\n",
       "      <td>aa4862eba776480b8bb9c68455b8c2e1</td>\n",
       "      <td>offer received</td>\n",
       "      <td>{'offer_id': '0b1e1539f2cc45b7b9fa7c272da2e1d7'}</td>\n",
       "      <td>0</td>\n",
       "      <td>0b1e1539f2cc45b7b9fa7c272da2e1d7</td>\n",
       "      <td>NaN</td>\n",
       "      <td>NaN</td>\n",
       "      <td>F</td>\n",
       "      <td>61</td>\n",
       "      <td>2017-09-11</td>\n",
       "      <td>57000.0</td>\n",
       "      <td>2017</td>\n",
       "    </tr>\n",
       "  </tbody>\n",
       "</table>\n",
       "</div>"
      ],
      "text/plain": [
       "                        customer_id           event  \\\n",
       "0  78afa995795e4d85b5d9ceeca43f5fef  offer received   \n",
       "1  e2127556f4f64592b11af22de27a7932  offer received   \n",
       "2  389bc3fa690240e798340f5a15918d5c  offer received   \n",
       "3  2eeac8d8feae4a8cad5a6af0499a211d  offer received   \n",
       "4  aa4862eba776480b8bb9c68455b8c2e1  offer received   \n",
       "\n",
       "                                              value  time  \\\n",
       "0  {'offer_id': '9b98b8c7a33c4b65b9aebfe6a799e6d9'}     0   \n",
       "1  {'offer_id': '2906b810c7d4411798c6938adc9daaa5'}     0   \n",
       "2  {'offer_id': 'f19421c1d4aa40978ebb69ca19b0e20d'}     0   \n",
       "3  {'offer_id': '3f207df678b143eea3cee63160fa8bed'}     0   \n",
       "4  {'offer_id': '0b1e1539f2cc45b7b9fa7c272da2e1d7'}     0   \n",
       "\n",
       "                           offer_id  amount  reward_earned gender  age  \\\n",
       "0  9b98b8c7a33c4b65b9aebfe6a799e6d9     NaN            NaN      F   75   \n",
       "1  2906b810c7d4411798c6938adc9daaa5     NaN            NaN      M   68   \n",
       "2  f19421c1d4aa40978ebb69ca19b0e20d     NaN            NaN      M   65   \n",
       "3  3f207df678b143eea3cee63160fa8bed     NaN            NaN      M   58   \n",
       "4  0b1e1539f2cc45b7b9fa7c272da2e1d7     NaN            NaN      F   61   \n",
       "\n",
       "  became_member_on    income member_join_year  \n",
       "0       2017-05-09  100000.0             2017  \n",
       "1       2018-04-26   70000.0             2018  \n",
       "2       2018-02-09   53000.0             2018  \n",
       "3       2017-11-11   51000.0             2017  \n",
       "4       2017-09-11   57000.0             2017  "
      ]
     },
     "execution_count": 1375,
     "metadata": {},
     "output_type": "execute_result"
    }
   ],
   "source": [
    "complete_df = pd.merge(transcript_new, complete_profiles, how = 'inner', on = 'customer_id')\n",
    "complete_df.head()"
   ]
  },
  {
   "cell_type": "code",
   "execution_count": 1383,
   "metadata": {},
   "outputs": [
    {
     "data": {
      "text/html": [
       "<div>\n",
       "<style scoped>\n",
       "    .dataframe tbody tr th:only-of-type {\n",
       "        vertical-align: middle;\n",
       "    }\n",
       "\n",
       "    .dataframe tbody tr th {\n",
       "        vertical-align: top;\n",
       "    }\n",
       "\n",
       "    .dataframe thead th {\n",
       "        text-align: right;\n",
       "    }\n",
       "</style>\n",
       "<table border=\"1\" class=\"dataframe\">\n",
       "  <thead>\n",
       "    <tr style=\"text-align: right;\">\n",
       "      <th></th>\n",
       "      <th>customer_id</th>\n",
       "      <th>event</th>\n",
       "      <th>value</th>\n",
       "      <th>time</th>\n",
       "      <th>offer_id</th>\n",
       "      <th>amount</th>\n",
       "      <th>reward_earned</th>\n",
       "      <th>gender</th>\n",
       "      <th>age</th>\n",
       "      <th>became_member_on</th>\n",
       "      <th>income</th>\n",
       "      <th>member_join_year</th>\n",
       "      <th>offer_reward</th>\n",
       "      <th>offer_difficulty</th>\n",
       "      <th>offer_duration</th>\n",
       "      <th>offer_type</th>\n",
       "      <th>email</th>\n",
       "      <th>mobile</th>\n",
       "      <th>social</th>\n",
       "      <th>web</th>\n",
       "    </tr>\n",
       "  </thead>\n",
       "  <tbody>\n",
       "    <tr>\n",
       "      <th>0</th>\n",
       "      <td>78afa995795e4d85b5d9ceeca43f5fef</td>\n",
       "      <td>offer received</td>\n",
       "      <td>{'offer_id': '9b98b8c7a33c4b65b9aebfe6a799e6d9'}</td>\n",
       "      <td>0</td>\n",
       "      <td>9b98b8c7a33c4b65b9aebfe6a799e6d9</td>\n",
       "      <td>NaN</td>\n",
       "      <td>NaN</td>\n",
       "      <td>F</td>\n",
       "      <td>75</td>\n",
       "      <td>2017-05-09</td>\n",
       "      <td>100000.0</td>\n",
       "      <td>2017</td>\n",
       "      <td>5</td>\n",
       "      <td>5</td>\n",
       "      <td>7</td>\n",
       "      <td>bogo</td>\n",
       "      <td>True</td>\n",
       "      <td>True</td>\n",
       "      <td>False</td>\n",
       "      <td>True</td>\n",
       "    </tr>\n",
       "    <tr>\n",
       "      <th>1</th>\n",
       "      <td>e2127556f4f64592b11af22de27a7932</td>\n",
       "      <td>offer received</td>\n",
       "      <td>{'offer_id': '2906b810c7d4411798c6938adc9daaa5'}</td>\n",
       "      <td>0</td>\n",
       "      <td>2906b810c7d4411798c6938adc9daaa5</td>\n",
       "      <td>NaN</td>\n",
       "      <td>NaN</td>\n",
       "      <td>M</td>\n",
       "      <td>68</td>\n",
       "      <td>2018-04-26</td>\n",
       "      <td>70000.0</td>\n",
       "      <td>2018</td>\n",
       "      <td>2</td>\n",
       "      <td>10</td>\n",
       "      <td>7</td>\n",
       "      <td>discount</td>\n",
       "      <td>True</td>\n",
       "      <td>True</td>\n",
       "      <td>False</td>\n",
       "      <td>True</td>\n",
       "    </tr>\n",
       "    <tr>\n",
       "      <th>2</th>\n",
       "      <td>389bc3fa690240e798340f5a15918d5c</td>\n",
       "      <td>offer received</td>\n",
       "      <td>{'offer_id': 'f19421c1d4aa40978ebb69ca19b0e20d'}</td>\n",
       "      <td>0</td>\n",
       "      <td>f19421c1d4aa40978ebb69ca19b0e20d</td>\n",
       "      <td>NaN</td>\n",
       "      <td>NaN</td>\n",
       "      <td>M</td>\n",
       "      <td>65</td>\n",
       "      <td>2018-02-09</td>\n",
       "      <td>53000.0</td>\n",
       "      <td>2018</td>\n",
       "      <td>5</td>\n",
       "      <td>5</td>\n",
       "      <td>5</td>\n",
       "      <td>bogo</td>\n",
       "      <td>True</td>\n",
       "      <td>True</td>\n",
       "      <td>True</td>\n",
       "      <td>True</td>\n",
       "    </tr>\n",
       "    <tr>\n",
       "      <th>3</th>\n",
       "      <td>2eeac8d8feae4a8cad5a6af0499a211d</td>\n",
       "      <td>offer received</td>\n",
       "      <td>{'offer_id': '3f207df678b143eea3cee63160fa8bed'}</td>\n",
       "      <td>0</td>\n",
       "      <td>3f207df678b143eea3cee63160fa8bed</td>\n",
       "      <td>NaN</td>\n",
       "      <td>NaN</td>\n",
       "      <td>M</td>\n",
       "      <td>58</td>\n",
       "      <td>2017-11-11</td>\n",
       "      <td>51000.0</td>\n",
       "      <td>2017</td>\n",
       "      <td>0</td>\n",
       "      <td>0</td>\n",
       "      <td>4</td>\n",
       "      <td>informational</td>\n",
       "      <td>True</td>\n",
       "      <td>True</td>\n",
       "      <td>False</td>\n",
       "      <td>True</td>\n",
       "    </tr>\n",
       "    <tr>\n",
       "      <th>4</th>\n",
       "      <td>aa4862eba776480b8bb9c68455b8c2e1</td>\n",
       "      <td>offer received</td>\n",
       "      <td>{'offer_id': '0b1e1539f2cc45b7b9fa7c272da2e1d7'}</td>\n",
       "      <td>0</td>\n",
       "      <td>0b1e1539f2cc45b7b9fa7c272da2e1d7</td>\n",
       "      <td>NaN</td>\n",
       "      <td>NaN</td>\n",
       "      <td>F</td>\n",
       "      <td>61</td>\n",
       "      <td>2017-09-11</td>\n",
       "      <td>57000.0</td>\n",
       "      <td>2017</td>\n",
       "      <td>5</td>\n",
       "      <td>20</td>\n",
       "      <td>10</td>\n",
       "      <td>discount</td>\n",
       "      <td>True</td>\n",
       "      <td>False</td>\n",
       "      <td>False</td>\n",
       "      <td>True</td>\n",
       "    </tr>\n",
       "  </tbody>\n",
       "</table>\n",
       "</div>"
      ],
      "text/plain": [
       "                        customer_id           event  \\\n",
       "0  78afa995795e4d85b5d9ceeca43f5fef  offer received   \n",
       "1  e2127556f4f64592b11af22de27a7932  offer received   \n",
       "2  389bc3fa690240e798340f5a15918d5c  offer received   \n",
       "3  2eeac8d8feae4a8cad5a6af0499a211d  offer received   \n",
       "4  aa4862eba776480b8bb9c68455b8c2e1  offer received   \n",
       "\n",
       "                                              value  time  \\\n",
       "0  {'offer_id': '9b98b8c7a33c4b65b9aebfe6a799e6d9'}     0   \n",
       "1  {'offer_id': '2906b810c7d4411798c6938adc9daaa5'}     0   \n",
       "2  {'offer_id': 'f19421c1d4aa40978ebb69ca19b0e20d'}     0   \n",
       "3  {'offer_id': '3f207df678b143eea3cee63160fa8bed'}     0   \n",
       "4  {'offer_id': '0b1e1539f2cc45b7b9fa7c272da2e1d7'}     0   \n",
       "\n",
       "                           offer_id  amount  reward_earned gender  age  \\\n",
       "0  9b98b8c7a33c4b65b9aebfe6a799e6d9     NaN            NaN      F   75   \n",
       "1  2906b810c7d4411798c6938adc9daaa5     NaN            NaN      M   68   \n",
       "2  f19421c1d4aa40978ebb69ca19b0e20d     NaN            NaN      M   65   \n",
       "3  3f207df678b143eea3cee63160fa8bed     NaN            NaN      M   58   \n",
       "4  0b1e1539f2cc45b7b9fa7c272da2e1d7     NaN            NaN      F   61   \n",
       "\n",
       "  became_member_on    income member_join_year  offer_reward  offer_difficulty  \\\n",
       "0       2017-05-09  100000.0             2017             5                 5   \n",
       "1       2018-04-26   70000.0             2018             2                10   \n",
       "2       2018-02-09   53000.0             2018             5                 5   \n",
       "3       2017-11-11   51000.0             2017             0                 0   \n",
       "4       2017-09-11   57000.0             2017             5                20   \n",
       "\n",
       "   offer_duration     offer_type  email  mobile  social   web  \n",
       "0               7           bogo   True    True   False  True  \n",
       "1               7       discount   True    True   False  True  \n",
       "2               5           bogo   True    True    True  True  \n",
       "3               4  informational   True    True   False  True  \n",
       "4              10       discount   True   False   False  True  "
      ]
     },
     "execution_count": 1383,
     "metadata": {},
     "output_type": "execute_result"
    }
   ],
   "source": [
    "complete_df = pd.merge(complete_df, portfolio_new, how = 'inner', on = 'offer_id')\n",
    "complete_df.head()"
   ]
  },
  {
   "cell_type": "code",
   "execution_count": 1391,
   "metadata": {},
   "outputs": [
    {
     "data": {
      "image/png": "[encoded data removed]",
      "text/plain": [
       "<Figure size 640x480 with 1 Axes>"
      ]
     },
     "metadata": {},
     "output_type": "display_data"
    }
   ],
   "source": [
    "events_complete = complete_df['event'].value_counts()\n",
    "plt.bar(events_complete.index, events_complete.values)\n",
    "plt.xlabel('Event')\n",
    "plt.ylabel('Count')\n",
    "for i in range(len(events_complete.index)):\n",
    "    plt.text(i, events_complete.values[i], str(events_complete.values[i]), ha='center', va='bottom')"
   ]
  },
  {
   "cell_type": "code",
   "execution_count": 1398,
   "metadata": {},
   "outputs": [
    {
     "data": {
      "text/plain": [
       "np.float64(0.2180303081213669)"
      ]
     },
     "execution_count": 1398,
     "metadata": {},
     "output_type": "execute_result"
    }
   ],
   "source": [
    "complete_ratio_completed_v_all_events = events_complete['offer completed'] / complete_df.shape[0]\n",
    "complete_ratio_completed_v_all_events"
   ]
  },
  {
   "cell_type": "markdown",
   "metadata": {},
   "source": [
    "Wow! When looking at only complete profiles, the percentage of all events representing offer completions is 21.8%!"
   ]
  },
  {
   "cell_type": "markdown",
   "metadata": {},
   "source": [
    "Let's compare with our dataframe of null profiles. "
   ]
  },
  {
   "cell_type": "code",
   "execution_count": 1399,
   "metadata": {},
   "outputs": [
    {
     "data": {
      "text/html": [
       "<div>\n",
       "<style scoped>\n",
       "    .dataframe tbody tr th:only-of-type {\n",
       "        vertical-align: middle;\n",
       "    }\n",
       "\n",
       "    .dataframe tbody tr th {\n",
       "        vertical-align: top;\n",
       "    }\n",
       "\n",
       "    .dataframe thead th {\n",
       "        text-align: right;\n",
       "    }\n",
       "</style>\n",
       "<table border=\"1\" class=\"dataframe\">\n",
       "  <thead>\n",
       "    <tr style=\"text-align: right;\">\n",
       "      <th></th>\n",
       "      <th>customer_id</th>\n",
       "      <th>event</th>\n",
       "      <th>value</th>\n",
       "      <th>time</th>\n",
       "      <th>offer_id</th>\n",
       "      <th>amount</th>\n",
       "      <th>reward_earned</th>\n",
       "      <th>gender</th>\n",
       "      <th>age</th>\n",
       "      <th>became_member_on</th>\n",
       "      <th>income</th>\n",
       "      <th>member_join_year</th>\n",
       "    </tr>\n",
       "  </thead>\n",
       "  <tbody>\n",
       "    <tr>\n",
       "      <th>0</th>\n",
       "      <td>a03223e636434f42ac4c3df47e8bac43</td>\n",
       "      <td>offer received</td>\n",
       "      <td>{'offer_id': '0b1e1539f2cc45b7b9fa7c272da2e1d7'}</td>\n",
       "      <td>0</td>\n",
       "      <td>0b1e1539f2cc45b7b9fa7c272da2e1d7</td>\n",
       "      <td>NaN</td>\n",
       "      <td>NaN</td>\n",
       "      <td>None</td>\n",
       "      <td>118</td>\n",
       "      <td>2017-08-04</td>\n",
       "      <td>NaN</td>\n",
       "      <td>2017</td>\n",
       "    </tr>\n",
       "    <tr>\n",
       "      <th>1</th>\n",
       "      <td>8ec6ce2a7e7949b1bf142def7d0e0586</td>\n",
       "      <td>offer received</td>\n",
       "      <td>{'offer_id': 'fafdcd668e3743c1bb461111dcafc2a4'}</td>\n",
       "      <td>0</td>\n",
       "      <td>fafdcd668e3743c1bb461111dcafc2a4</td>\n",
       "      <td>NaN</td>\n",
       "      <td>NaN</td>\n",
       "      <td>None</td>\n",
       "      <td>118</td>\n",
       "      <td>2017-09-25</td>\n",
       "      <td>NaN</td>\n",
       "      <td>2017</td>\n",
       "    </tr>\n",
       "    <tr>\n",
       "      <th>2</th>\n",
       "      <td>68617ca6246f4fbc85e91a2a49552598</td>\n",
       "      <td>offer received</td>\n",
       "      <td>{'offer_id': '4d5c57ea9a6940dd891ad53e9dbe8da0'}</td>\n",
       "      <td>0</td>\n",
       "      <td>4d5c57ea9a6940dd891ad53e9dbe8da0</td>\n",
       "      <td>NaN</td>\n",
       "      <td>NaN</td>\n",
       "      <td>None</td>\n",
       "      <td>118</td>\n",
       "      <td>2017-10-02</td>\n",
       "      <td>NaN</td>\n",
       "      <td>2017</td>\n",
       "    </tr>\n",
       "    <tr>\n",
       "      <th>3</th>\n",
       "      <td>c4863c7985cf408faee930f111475da3</td>\n",
       "      <td>offer received</td>\n",
       "      <td>{'offer_id': '2298d6c36e964ae4a3e7e9706d1fb8c2'}</td>\n",
       "      <td>0</td>\n",
       "      <td>2298d6c36e964ae4a3e7e9706d1fb8c2</td>\n",
       "      <td>NaN</td>\n",
       "      <td>NaN</td>\n",
       "      <td>None</td>\n",
       "      <td>118</td>\n",
       "      <td>2017-08-24</td>\n",
       "      <td>NaN</td>\n",
       "      <td>2017</td>\n",
       "    </tr>\n",
       "    <tr>\n",
       "      <th>4</th>\n",
       "      <td>744d603ef08c4f33af5a61c8c7628d1c</td>\n",
       "      <td>offer received</td>\n",
       "      <td>{'offer_id': '0b1e1539f2cc45b7b9fa7c272da2e1d7'}</td>\n",
       "      <td>0</td>\n",
       "      <td>0b1e1539f2cc45b7b9fa7c272da2e1d7</td>\n",
       "      <td>NaN</td>\n",
       "      <td>NaN</td>\n",
       "      <td>None</td>\n",
       "      <td>118</td>\n",
       "      <td>2017-08-01</td>\n",
       "      <td>NaN</td>\n",
       "      <td>2017</td>\n",
       "    </tr>\n",
       "  </tbody>\n",
       "</table>\n",
       "</div>"
      ],
      "text/plain": [
       "                        customer_id           event  \\\n",
       "0  a03223e636434f42ac4c3df47e8bac43  offer received   \n",
       "1  8ec6ce2a7e7949b1bf142def7d0e0586  offer received   \n",
       "2  68617ca6246f4fbc85e91a2a49552598  offer received   \n",
       "3  c4863c7985cf408faee930f111475da3  offer received   \n",
       "4  744d603ef08c4f33af5a61c8c7628d1c  offer received   \n",
       "\n",
       "                                              value  time  \\\n",
       "0  {'offer_id': '0b1e1539f2cc45b7b9fa7c272da2e1d7'}     0   \n",
       "1  {'offer_id': 'fafdcd668e3743c1bb461111dcafc2a4'}     0   \n",
       "2  {'offer_id': '4d5c57ea9a6940dd891ad53e9dbe8da0'}     0   \n",
       "3  {'offer_id': '2298d6c36e964ae4a3e7e9706d1fb8c2'}     0   \n",
       "4  {'offer_id': '0b1e1539f2cc45b7b9fa7c272da2e1d7'}     0   \n",
       "\n",
       "                           offer_id  amount  reward_earned gender  age  \\\n",
       "0  0b1e1539f2cc45b7b9fa7c272da2e1d7     NaN            NaN   None  118   \n",
       "1  fafdcd668e3743c1bb461111dcafc2a4     NaN            NaN   None  118   \n",
       "2  4d5c57ea9a6940dd891ad53e9dbe8da0     NaN            NaN   None  118   \n",
       "3  2298d6c36e964ae4a3e7e9706d1fb8c2     NaN            NaN   None  118   \n",
       "4  0b1e1539f2cc45b7b9fa7c272da2e1d7     NaN            NaN   None  118   \n",
       "\n",
       "  became_member_on  income member_join_year  \n",
       "0       2017-08-04     NaN             2017  \n",
       "1       2017-09-25     NaN             2017  \n",
       "2       2017-10-02     NaN             2017  \n",
       "3       2017-08-24     NaN             2017  \n",
       "4       2017-08-01     NaN             2017  "
      ]
     },
     "execution_count": 1399,
     "metadata": {},
     "output_type": "execute_result"
    }
   ],
   "source": [
    "null_df = pd.merge(transcript_new, null_profiles, how = 'inner', on = 'customer_id')\n",
    "null_df.head()"
   ]
  },
  {
   "cell_type": "code",
   "execution_count": 1400,
   "metadata": {},
   "outputs": [
    {
     "data": {
      "text/html": [
       "<div>\n",
       "<style scoped>\n",
       "    .dataframe tbody tr th:only-of-type {\n",
       "        vertical-align: middle;\n",
       "    }\n",
       "\n",
       "    .dataframe tbody tr th {\n",
       "        vertical-align: top;\n",
       "    }\n",
       "\n",
       "    .dataframe thead th {\n",
       "        text-align: right;\n",
       "    }\n",
       "</style>\n",
       "<table border=\"1\" class=\"dataframe\">\n",
       "  <thead>\n",
       "    <tr style=\"text-align: right;\">\n",
       "      <th></th>\n",
       "      <th>customer_id</th>\n",
       "      <th>event</th>\n",
       "      <th>value</th>\n",
       "      <th>time</th>\n",
       "      <th>offer_id</th>\n",
       "      <th>amount</th>\n",
       "      <th>reward_earned</th>\n",
       "      <th>gender</th>\n",
       "      <th>age</th>\n",
       "      <th>became_member_on</th>\n",
       "      <th>income</th>\n",
       "      <th>member_join_year</th>\n",
       "      <th>offer_reward</th>\n",
       "      <th>offer_difficulty</th>\n",
       "      <th>offer_duration</th>\n",
       "      <th>offer_type</th>\n",
       "      <th>email</th>\n",
       "      <th>mobile</th>\n",
       "      <th>social</th>\n",
       "      <th>web</th>\n",
       "    </tr>\n",
       "  </thead>\n",
       "  <tbody>\n",
       "    <tr>\n",
       "      <th>0</th>\n",
       "      <td>a03223e636434f42ac4c3df47e8bac43</td>\n",
       "      <td>offer received</td>\n",
       "      <td>{'offer_id': '0b1e1539f2cc45b7b9fa7c272da2e1d7'}</td>\n",
       "      <td>0</td>\n",
       "      <td>0b1e1539f2cc45b7b9fa7c272da2e1d7</td>\n",
       "      <td>NaN</td>\n",
       "      <td>NaN</td>\n",
       "      <td>None</td>\n",
       "      <td>118</td>\n",
       "      <td>2017-08-04</td>\n",
       "      <td>NaN</td>\n",
       "      <td>2017</td>\n",
       "      <td>5.0</td>\n",
       "      <td>20.0</td>\n",
       "      <td>10.0</td>\n",
       "      <td>discount</td>\n",
       "      <td>True</td>\n",
       "      <td>False</td>\n",
       "      <td>False</td>\n",
       "      <td>True</td>\n",
       "    </tr>\n",
       "    <tr>\n",
       "      <th>1</th>\n",
       "      <td>8ec6ce2a7e7949b1bf142def7d0e0586</td>\n",
       "      <td>offer received</td>\n",
       "      <td>{'offer_id': 'fafdcd668e3743c1bb461111dcafc2a4'}</td>\n",
       "      <td>0</td>\n",
       "      <td>fafdcd668e3743c1bb461111dcafc2a4</td>\n",
       "      <td>NaN</td>\n",
       "      <td>NaN</td>\n",
       "      <td>None</td>\n",
       "      <td>118</td>\n",
       "      <td>2017-09-25</td>\n",
       "      <td>NaN</td>\n",
       "      <td>2017</td>\n",
       "      <td>2.0</td>\n",
       "      <td>10.0</td>\n",
       "      <td>10.0</td>\n",
       "      <td>discount</td>\n",
       "      <td>True</td>\n",
       "      <td>True</td>\n",
       "      <td>True</td>\n",
       "      <td>True</td>\n",
       "    </tr>\n",
       "    <tr>\n",
       "      <th>2</th>\n",
       "      <td>68617ca6246f4fbc85e91a2a49552598</td>\n",
       "      <td>offer received</td>\n",
       "      <td>{'offer_id': '4d5c57ea9a6940dd891ad53e9dbe8da0'}</td>\n",
       "      <td>0</td>\n",
       "      <td>4d5c57ea9a6940dd891ad53e9dbe8da0</td>\n",
       "      <td>NaN</td>\n",
       "      <td>NaN</td>\n",
       "      <td>None</td>\n",
       "      <td>118</td>\n",
       "      <td>2017-10-02</td>\n",
       "      <td>NaN</td>\n",
       "      <td>2017</td>\n",
       "      <td>10.0</td>\n",
       "      <td>10.0</td>\n",
       "      <td>5.0</td>\n",
       "      <td>bogo</td>\n",
       "      <td>True</td>\n",
       "      <td>True</td>\n",
       "      <td>True</td>\n",
       "      <td>True</td>\n",
       "    </tr>\n",
       "    <tr>\n",
       "      <th>3</th>\n",
       "      <td>c4863c7985cf408faee930f111475da3</td>\n",
       "      <td>offer received</td>\n",
       "      <td>{'offer_id': '2298d6c36e964ae4a3e7e9706d1fb8c2'}</td>\n",
       "      <td>0</td>\n",
       "      <td>2298d6c36e964ae4a3e7e9706d1fb8c2</td>\n",
       "      <td>NaN</td>\n",
       "      <td>NaN</td>\n",
       "      <td>None</td>\n",
       "      <td>118</td>\n",
       "      <td>2017-08-24</td>\n",
       "      <td>NaN</td>\n",
       "      <td>2017</td>\n",
       "      <td>3.0</td>\n",
       "      <td>7.0</td>\n",
       "      <td>7.0</td>\n",
       "      <td>discount</td>\n",
       "      <td>True</td>\n",
       "      <td>True</td>\n",
       "      <td>True</td>\n",
       "      <td>True</td>\n",
       "    </tr>\n",
       "    <tr>\n",
       "      <th>4</th>\n",
       "      <td>744d603ef08c4f33af5a61c8c7628d1c</td>\n",
       "      <td>offer received</td>\n",
       "      <td>{'offer_id': '0b1e1539f2cc45b7b9fa7c272da2e1d7'}</td>\n",
       "      <td>0</td>\n",
       "      <td>0b1e1539f2cc45b7b9fa7c272da2e1d7</td>\n",
       "      <td>NaN</td>\n",
       "      <td>NaN</td>\n",
       "      <td>None</td>\n",
       "      <td>118</td>\n",
       "      <td>2017-08-01</td>\n",
       "      <td>NaN</td>\n",
       "      <td>2017</td>\n",
       "      <td>5.0</td>\n",
       "      <td>20.0</td>\n",
       "      <td>10.0</td>\n",
       "      <td>discount</td>\n",
       "      <td>True</td>\n",
       "      <td>False</td>\n",
       "      <td>False</td>\n",
       "      <td>True</td>\n",
       "    </tr>\n",
       "  </tbody>\n",
       "</table>\n",
       "</div>"
      ],
      "text/plain": [
       "                        customer_id           event  \\\n",
       "0  a03223e636434f42ac4c3df47e8bac43  offer received   \n",
       "1  8ec6ce2a7e7949b1bf142def7d0e0586  offer received   \n",
       "2  68617ca6246f4fbc85e91a2a49552598  offer received   \n",
       "3  c4863c7985cf408faee930f111475da3  offer received   \n",
       "4  744d603ef08c4f33af5a61c8c7628d1c  offer received   \n",
       "\n",
       "                                              value  time  \\\n",
       "0  {'offer_id': '0b1e1539f2cc45b7b9fa7c272da2e1d7'}     0   \n",
       "1  {'offer_id': 'fafdcd668e3743c1bb461111dcafc2a4'}     0   \n",
       "2  {'offer_id': '4d5c57ea9a6940dd891ad53e9dbe8da0'}     0   \n",
       "3  {'offer_id': '2298d6c36e964ae4a3e7e9706d1fb8c2'}     0   \n",
       "4  {'offer_id': '0b1e1539f2cc45b7b9fa7c272da2e1d7'}     0   \n",
       "\n",
       "                           offer_id  amount  reward_earned gender  age  \\\n",
       "0  0b1e1539f2cc45b7b9fa7c272da2e1d7     NaN            NaN   None  118   \n",
       "1  fafdcd668e3743c1bb461111dcafc2a4     NaN            NaN   None  118   \n",
       "2  4d5c57ea9a6940dd891ad53e9dbe8da0     NaN            NaN   None  118   \n",
       "3  2298d6c36e964ae4a3e7e9706d1fb8c2     NaN            NaN   None  118   \n",
       "4  0b1e1539f2cc45b7b9fa7c272da2e1d7     NaN            NaN   None  118   \n",
       "\n",
       "  became_member_on  income member_join_year  offer_reward  offer_difficulty  \\\n",
       "0       2017-08-04     NaN             2017           5.0              20.0   \n",
       "1       2017-09-25     NaN             2017           2.0              10.0   \n",
       "2       2017-10-02     NaN             2017          10.0              10.0   \n",
       "3       2017-08-24     NaN             2017           3.0               7.0   \n",
       "4       2017-08-01     NaN             2017           5.0              20.0   \n",
       "\n",
       "   offer_duration offer_type email mobile social   web  \n",
       "0            10.0   discount  True  False  False  True  \n",
       "1            10.0   discount  True   True   True  True  \n",
       "2             5.0       bogo  True   True   True  True  \n",
       "3             7.0   discount  True   True   True  True  \n",
       "4            10.0   discount  True  False  False  True  "
      ]
     },
     "execution_count": 1400,
     "metadata": {},
     "output_type": "execute_result"
    }
   ],
   "source": [
    "null_df = pd.merge(null_df, portfolio_new, how = 'left', on = 'offer_id')\n",
    "null_df.head()"
   ]
  },
  {
   "cell_type": "code",
   "execution_count": 1401,
   "metadata": {},
   "outputs": [
    {
     "name": "stdout",
     "output_type": "stream",
     "text": [
      "Head:\n",
      "                        customer_id           event  \\\n",
      "0  a03223e636434f42ac4c3df47e8bac43  offer received   \n",
      "1  8ec6ce2a7e7949b1bf142def7d0e0586  offer received   \n",
      "2  68617ca6246f4fbc85e91a2a49552598  offer received   \n",
      "3  c4863c7985cf408faee930f111475da3  offer received   \n",
      "4  744d603ef08c4f33af5a61c8c7628d1c  offer received   \n",
      "\n",
      "                                              value  time  \\\n",
      "0  {'offer_id': '0b1e1539f2cc45b7b9fa7c272da2e1d7'}     0   \n",
      "1  {'offer_id': 'fafdcd668e3743c1bb461111dcafc2a4'}     0   \n",
      "2  {'offer_id': '4d5c57ea9a6940dd891ad53e9dbe8da0'}     0   \n",
      "3  {'offer_id': '2298d6c36e964ae4a3e7e9706d1fb8c2'}     0   \n",
      "4  {'offer_id': '0b1e1539f2cc45b7b9fa7c272da2e1d7'}     0   \n",
      "\n",
      "                           offer_id  amount  reward_earned gender  age  \\\n",
      "0  0b1e1539f2cc45b7b9fa7c272da2e1d7     NaN            NaN   None  118   \n",
      "1  fafdcd668e3743c1bb461111dcafc2a4     NaN            NaN   None  118   \n",
      "2  4d5c57ea9a6940dd891ad53e9dbe8da0     NaN            NaN   None  118   \n",
      "3  2298d6c36e964ae4a3e7e9706d1fb8c2     NaN            NaN   None  118   \n",
      "4  0b1e1539f2cc45b7b9fa7c272da2e1d7     NaN            NaN   None  118   \n",
      "\n",
      "  became_member_on  income member_join_year  offer_reward  offer_difficulty  \\\n",
      "0       2017-08-04     NaN             2017           5.0              20.0   \n",
      "1       2017-09-25     NaN             2017           2.0              10.0   \n",
      "2       2017-10-02     NaN             2017          10.0              10.0   \n",
      "3       2017-08-24     NaN             2017           3.0               7.0   \n",
      "4       2017-08-01     NaN             2017           5.0              20.0   \n",
      "\n",
      "   offer_duration offer_type email mobile social   web  \n",
      "0            10.0   discount  True  False  False  True  \n",
      "1            10.0   discount  True   True   True  True  \n",
      "2             5.0       bogo  True   True   True  True  \n",
      "3             7.0   discount  True   True   True  True  \n",
      "4            10.0   discount  True  False  False  True  \n",
      "\n",
      "Shape: \n",
      "(33772, 20)\n",
      "\n",
      "Column Info:\n",
      "    customer_id\n",
      "        0 nulls, proportion of nulls = 0.0, type = object, nunique = 2175\n",
      "    event\n",
      "        0 nulls, proportion of nulls = 0.0, type = object, nunique = 4\n",
      "    value\n",
      "        0 nulls, proportion of nulls = 0.0, type = object, nunique = cannot compute for this data type\n",
      "    time\n",
      "        0 nulls, proportion of nulls = 0.0, type = int64, nunique = 120\n",
      "    offer_id\n",
      "        14996 nulls, proportion of nulls = 0.44403647992419754, type = object, nunique = 10\n",
      "    amount\n",
      "        18776 nulls, proportion of nulls = 0.5559635200758024, type = float64, nunique = 1131\n",
      "    reward_earned\n",
      "        32637 nulls, proportion of nulls = 0.9663922776264361, type = float64, nunique = 4\n",
      "    gender\n",
      "        33772 nulls, proportion of nulls = 1.0, type = object, nunique = 0\n",
      "    age\n",
      "        0 nulls, proportion of nulls = 0.0, type = int64, nunique = 1\n",
      "    became_member_on\n",
      "        0 nulls, proportion of nulls = 0.0, type = datetime64[ns], nunique = 950\n",
      "    income\n",
      "        33772 nulls, proportion of nulls = 1.0, type = float64, nunique = 0\n",
      "    member_join_year\n",
      "        0 nulls, proportion of nulls = 0.0, type = object, nunique = 6\n",
      "    offer_reward\n",
      "        14996 nulls, proportion of nulls = 0.44403647992419754, type = float64, nunique = 5\n",
      "    offer_difficulty\n",
      "        14996 nulls, proportion of nulls = 0.44403647992419754, type = float64, nunique = 5\n",
      "    offer_duration\n",
      "        14996 nulls, proportion of nulls = 0.44403647992419754, type = float64, nunique = 5\n",
      "    offer_type\n",
      "        14996 nulls, proportion of nulls = 0.44403647992419754, type = object, nunique = 3\n",
      "    email\n",
      "        14996 nulls, proportion of nulls = 0.44403647992419754, type = object, nunique = 1\n",
      "    mobile\n",
      "        14996 nulls, proportion of nulls = 0.44403647992419754, type = object, nunique = 2\n",
      "    social\n",
      "        14996 nulls, proportion of nulls = 0.44403647992419754, type = object, nunique = 2\n",
      "    web\n",
      "        14996 nulls, proportion of nulls = 0.44403647992419754, type = object, nunique = 2\n",
      "\n",
      "Descriptive Statistics:\n",
      "               time        amount  reward_earned      age  \\\n",
      "count  33772.000000  14996.000000    1135.000000  33772.0   \n",
      "mean     363.760038      2.701358       3.643172    118.0   \n",
      "min        0.000000      0.050000       2.000000    118.0   \n",
      "25%      180.000000      0.740000       2.000000    118.0   \n",
      "50%      408.000000      1.710000       3.000000    118.0   \n",
      "75%      522.000000      3.292500       5.000000    118.0   \n",
      "max      714.000000    161.440000      10.000000    118.0   \n",
      "std      200.045060      5.755461       1.894596      0.0   \n",
      "\n",
      "                    became_member_on  income  offer_reward  offer_difficulty  \\\n",
      "count                          33772     0.0  18776.000000      18776.000000   \n",
      "mean   2017-02-17 08:01:54.272177920     NaN      4.241319          7.532115   \n",
      "min              2013-08-02 00:00:00     NaN      0.000000          0.000000   \n",
      "25%              2016-05-08 00:00:00     NaN      2.000000          5.000000   \n",
      "50%              2017-05-06 00:00:00     NaN      3.000000          7.000000   \n",
      "75%              2017-11-28 00:00:00     NaN      5.000000         10.000000   \n",
      "max              2018-07-26 00:00:00     NaN     10.000000         20.000000   \n",
      "std                              NaN     NaN      3.376030          5.097801   \n",
      "\n",
      "       offer_duration  \n",
      "count    18776.000000  \n",
      "mean         6.496059  \n",
      "min          3.000000  \n",
      "25%          5.000000  \n",
      "50%          7.000000  \n",
      "75%          7.000000  \n",
      "max         10.000000  \n",
      "std          2.157126  \n"
     ]
    }
   ],
   "source": [
    "df_info(null_df)"
   ]
  },
  {
   "cell_type": "code",
   "execution_count": 1402,
   "metadata": {},
   "outputs": [
    {
     "data": {
      "image/png": "[encoded data removed]",
      "text/plain": [
       "<Figure size 640x480 with 1 Axes>"
      ]
     },
     "metadata": {},
     "output_type": "display_data"
    }
   ],
   "source": [
    "events_null = null_df['event'].value_counts()\n",
    "plt.bar(events_null.index, events_null.values)\n",
    "plt.xlabel('Event')\n",
    "plt.ylabel('Count')\n",
    "for i in range(len(events_null.index)):\n",
    "    plt.text(i, events_null.values[i], str(events_null.values[i]), ha='center', va='bottom')"
   ]
  },
  {
   "cell_type": "code",
   "execution_count": 1403,
   "metadata": {},
   "outputs": [
    {
     "data": {
      "text/plain": [
       "np.float64(0.0336077223735639)"
      ]
     },
     "execution_count": 1403,
     "metadata": {},
     "output_type": "execute_result"
    }
   ],
   "source": [
    "null_ratio_completed_v_all_events = events_null['offer completed'] / null_df.shape[0]\n",
    "null_ratio_completed_v_all_events"
   ]
  },
  {
   "cell_type": "markdown",
   "metadata": {},
   "source": [
    "When looking at only users with null profiles, only about 3.4% of events are offer completions. Clearly there is a big difference in offer engagement for null profiles vs completed profiles. Let's add a column into our full_df to indicate whether a profile is complete or not."
   ]
  },
  {
   "cell_type": "code",
   "execution_count": 1417,
   "metadata": {},
   "outputs": [
    {
     "data": {
      "text/html": [
       "<div>\n",
       "<style scoped>\n",
       "    .dataframe tbody tr th:only-of-type {\n",
       "        vertical-align: middle;\n",
       "    }\n",
       "\n",
       "    .dataframe tbody tr th {\n",
       "        vertical-align: top;\n",
       "    }\n",
       "\n",
       "    .dataframe thead th {\n",
       "        text-align: right;\n",
       "    }\n",
       "</style>\n",
       "<table border=\"1\" class=\"dataframe\">\n",
       "  <thead>\n",
       "    <tr style=\"text-align: right;\">\n",
       "      <th></th>\n",
       "      <th>customer_id</th>\n",
       "      <th>event</th>\n",
       "      <th>value</th>\n",
       "      <th>time</th>\n",
       "      <th>offer_id</th>\n",
       "      <th>amount</th>\n",
       "      <th>reward_earned</th>\n",
       "      <th>gender</th>\n",
       "      <th>age</th>\n",
       "      <th>became_member_on</th>\n",
       "      <th>...</th>\n",
       "      <th>member_join_year</th>\n",
       "      <th>offer_reward</th>\n",
       "      <th>offer_difficulty</th>\n",
       "      <th>offer_duration</th>\n",
       "      <th>offer_type</th>\n",
       "      <th>email</th>\n",
       "      <th>mobile</th>\n",
       "      <th>social</th>\n",
       "      <th>web</th>\n",
       "      <th>profile_complete</th>\n",
       "    </tr>\n",
       "  </thead>\n",
       "  <tbody>\n",
       "    <tr>\n",
       "      <th>0</th>\n",
       "      <td>78afa995795e4d85b5d9ceeca43f5fef</td>\n",
       "      <td>offer received</td>\n",
       "      <td>{'offer_id': '9b98b8c7a33c4b65b9aebfe6a799e6d9'}</td>\n",
       "      <td>0</td>\n",
       "      <td>9b98b8c7a33c4b65b9aebfe6a799e6d9</td>\n",
       "      <td>NaN</td>\n",
       "      <td>NaN</td>\n",
       "      <td>F</td>\n",
       "      <td>75</td>\n",
       "      <td>2017-05-09</td>\n",
       "      <td>...</td>\n",
       "      <td>2017</td>\n",
       "      <td>5.0</td>\n",
       "      <td>5.0</td>\n",
       "      <td>7.0</td>\n",
       "      <td>bogo</td>\n",
       "      <td>True</td>\n",
       "      <td>True</td>\n",
       "      <td>False</td>\n",
       "      <td>True</td>\n",
       "      <td>1</td>\n",
       "    </tr>\n",
       "    <tr>\n",
       "      <th>1</th>\n",
       "      <td>a03223e636434f42ac4c3df47e8bac43</td>\n",
       "      <td>offer received</td>\n",
       "      <td>{'offer_id': '0b1e1539f2cc45b7b9fa7c272da2e1d7'}</td>\n",
       "      <td>0</td>\n",
       "      <td>0b1e1539f2cc45b7b9fa7c272da2e1d7</td>\n",
       "      <td>NaN</td>\n",
       "      <td>NaN</td>\n",
       "      <td>None</td>\n",
       "      <td>118</td>\n",
       "      <td>2017-08-04</td>\n",
       "      <td>...</td>\n",
       "      <td>2017</td>\n",
       "      <td>5.0</td>\n",
       "      <td>20.0</td>\n",
       "      <td>10.0</td>\n",
       "      <td>discount</td>\n",
       "      <td>True</td>\n",
       "      <td>False</td>\n",
       "      <td>False</td>\n",
       "      <td>True</td>\n",
       "      <td>0</td>\n",
       "    </tr>\n",
       "    <tr>\n",
       "      <th>2</th>\n",
       "      <td>e2127556f4f64592b11af22de27a7932</td>\n",
       "      <td>offer received</td>\n",
       "      <td>{'offer_id': '2906b810c7d4411798c6938adc9daaa5'}</td>\n",
       "      <td>0</td>\n",
       "      <td>2906b810c7d4411798c6938adc9daaa5</td>\n",
       "      <td>NaN</td>\n",
       "      <td>NaN</td>\n",
       "      <td>M</td>\n",
       "      <td>68</td>\n",
       "      <td>2018-04-26</td>\n",
       "      <td>...</td>\n",
       "      <td>2018</td>\n",
       "      <td>2.0</td>\n",
       "      <td>10.0</td>\n",
       "      <td>7.0</td>\n",
       "      <td>discount</td>\n",
       "      <td>True</td>\n",
       "      <td>True</td>\n",
       "      <td>False</td>\n",
       "      <td>True</td>\n",
       "      <td>1</td>\n",
       "    </tr>\n",
       "    <tr>\n",
       "      <th>3</th>\n",
       "      <td>8ec6ce2a7e7949b1bf142def7d0e0586</td>\n",
       "      <td>offer received</td>\n",
       "      <td>{'offer_id': 'fafdcd668e3743c1bb461111dcafc2a4'}</td>\n",
       "      <td>0</td>\n",
       "      <td>fafdcd668e3743c1bb461111dcafc2a4</td>\n",
       "      <td>NaN</td>\n",
       "      <td>NaN</td>\n",
       "      <td>None</td>\n",
       "      <td>118</td>\n",
       "      <td>2017-09-25</td>\n",
       "      <td>...</td>\n",
       "      <td>2017</td>\n",
       "      <td>2.0</td>\n",
       "      <td>10.0</td>\n",
       "      <td>10.0</td>\n",
       "      <td>discount</td>\n",
       "      <td>True</td>\n",
       "      <td>True</td>\n",
       "      <td>True</td>\n",
       "      <td>True</td>\n",
       "      <td>0</td>\n",
       "    </tr>\n",
       "    <tr>\n",
       "      <th>4</th>\n",
       "      <td>68617ca6246f4fbc85e91a2a49552598</td>\n",
       "      <td>offer received</td>\n",
       "      <td>{'offer_id': '4d5c57ea9a6940dd891ad53e9dbe8da0'}</td>\n",
       "      <td>0</td>\n",
       "      <td>4d5c57ea9a6940dd891ad53e9dbe8da0</td>\n",
       "      <td>NaN</td>\n",
       "      <td>NaN</td>\n",
       "      <td>None</td>\n",
       "      <td>118</td>\n",
       "      <td>2017-10-02</td>\n",
       "      <td>...</td>\n",
       "      <td>2017</td>\n",
       "      <td>10.0</td>\n",
       "      <td>10.0</td>\n",
       "      <td>5.0</td>\n",
       "      <td>bogo</td>\n",
       "      <td>True</td>\n",
       "      <td>True</td>\n",
       "      <td>True</td>\n",
       "      <td>True</td>\n",
       "      <td>0</td>\n",
       "    </tr>\n",
       "  </tbody>\n",
       "</table>\n",
       "<p>5 rows × 21 columns</p>\n",
       "</div>"
      ],
      "text/plain": [
       "                        customer_id           event  \\\n",
       "0  78afa995795e4d85b5d9ceeca43f5fef  offer received   \n",
       "1  a03223e636434f42ac4c3df47e8bac43  offer received   \n",
       "2  e2127556f4f64592b11af22de27a7932  offer received   \n",
       "3  8ec6ce2a7e7949b1bf142def7d0e0586  offer received   \n",
       "4  68617ca6246f4fbc85e91a2a49552598  offer received   \n",
       "\n",
       "                                              value  time  \\\n",
       "0  {'offer_id': '9b98b8c7a33c4b65b9aebfe6a799e6d9'}     0   \n",
       "1  {'offer_id': '0b1e1539f2cc45b7b9fa7c272da2e1d7'}     0   \n",
       "2  {'offer_id': '2906b810c7d4411798c6938adc9daaa5'}     0   \n",
       "3  {'offer_id': 'fafdcd668e3743c1bb461111dcafc2a4'}     0   \n",
       "4  {'offer_id': '4d5c57ea9a6940dd891ad53e9dbe8da0'}     0   \n",
       "\n",
       "                           offer_id  amount  reward_earned gender  age  \\\n",
       "0  9b98b8c7a33c4b65b9aebfe6a799e6d9     NaN            NaN      F   75   \n",
       "1  0b1e1539f2cc45b7b9fa7c272da2e1d7     NaN            NaN   None  118   \n",
       "2  2906b810c7d4411798c6938adc9daaa5     NaN            NaN      M   68   \n",
       "3  fafdcd668e3743c1bb461111dcafc2a4     NaN            NaN   None  118   \n",
       "4  4d5c57ea9a6940dd891ad53e9dbe8da0     NaN            NaN   None  118   \n",
       "\n",
       "  became_member_on  ...  member_join_year offer_reward  offer_difficulty  \\\n",
       "0       2017-05-09  ...              2017          5.0               5.0   \n",
       "1       2017-08-04  ...              2017          5.0              20.0   \n",
       "2       2018-04-26  ...              2018          2.0              10.0   \n",
       "3       2017-09-25  ...              2017          2.0              10.0   \n",
       "4       2017-10-02  ...              2017         10.0              10.0   \n",
       "\n",
       "   offer_duration  offer_type email mobile social   web profile_complete  \n",
       "0             7.0        bogo  True   True  False  True                1  \n",
       "1            10.0    discount  True  False  False  True                0  \n",
       "2             7.0    discount  True   True  False  True                1  \n",
       "3            10.0    discount  True   True   True  True                0  \n",
       "4             5.0        bogo  True   True   True  True                0  \n",
       "\n",
       "[5 rows x 21 columns]"
      ]
     },
     "execution_count": 1417,
     "metadata": {},
     "output_type": "execute_result"
    }
   ],
   "source": [
    "full_df['profile_complete'] = np.where(full_df['age'] == 118, 0, 1)\n",
    "full_df.head()"
   ]
  },
  {
   "cell_type": "markdown",
   "metadata": {},
   "source": [
    "## Section 4: Data Modeling"
   ]
  },
  {
   "cell_type": "markdown",
   "metadata": {},
   "source": [
    "Questions posed:\n",
    "1. Does one gender take greater advantage of offers than another?\n",
    "2. Does one age group take advantage of more offers?\n",
    "3. Do newer members take advantage of more offers?\n",
    "4. Do higher reward offers tend to be utilized more than lower reward offers?\n",
    "5. Are higher difficulty offers utilized less than lower difficulty offers?\n",
    "6. Do higher income individuals use more or less offers?\n",
    "7. What type of offer is used more?\n",
    "8. Do longer duration offers get used more?\n",
    "9. What is the average spend in the transcript dataset?"
   ]
  },
  {
   "cell_type": "markdown",
   "metadata": {},
   "source": [
    "Aim\n",
    "\n",
    "We want to predict whether a customer will complete an offer (like buying a product or using a discount) when they receive a promotion. The question is whether the customer will take action (complete the offer) or not (ignore the offer). This is a classification problem because we're trying to categorize the outcome into one of two possible categories: \"Offer Completed\" or \"Offer Not Completed\".\n",
    "\n",
    "Algorithms we'll use:\n",
    "\n",
    "Random Forest: This method builds multiple models (called decision trees) and combines their predictions. It’s like asking a group of decision-makers and taking the majority opinion. It's good for making accurate predictions even when data is complex.\n",
    "\n",
    "Naive Bayes: This algorithm is based on probability. It looks at the features (like age, income, etc.) of a customer and calculates how the probability that the customer will complete the offer. It assumes that each feature is independent of the others (which is why it's called \"naive\").\n",
    "\n",
    "Logistic Regression: Classification method. It looks at the relationship between the features and the outcome, using an equation to predict the probability of a customer completing the offer.\n",
    "\n",
    "Decision Tree: A decision tree is like a flowchart. It asks questions about the features (like \"Is the customer over 30 years old?\") and makes decisions based on answers. The tree keeps branching out until it classifies the customer as either completing or not completing the offer.\n",
    "\n",
    "Support Vector Machines (SVM): This algorithm tries to find the \"best line\" (or hyperplane) that divides the data into two classes (completed offer vs. not completed offer). It tries to maximize the margin between the classes. It's powerful for handling complex data, especially when the classes are not clearly separable.\n",
    "\n",
    "K-Nearest Neighbors (KNN): This algorithm looks at the closest data points (neighbors) to a customer and classifies the customer based on what most of the neighbors did. For example, if most nearby customers completed the offer, the new customer is likely to complete it too.\n",
    "\n",
    "\n",
    "\n",
    "Steps We Will Take\n",
    "\n",
    "Modeling: First, we'll try all of these algorithms and see which one performs the best (example, gives us the highest accuracy at predicting whether a customer will complete an offer). This gives us a starting point.\n",
    "\n",
    "Improving the Best Model: Once we identify the best model (the one with the highest accuracy), we’ll improve it further. One way to do this is through hyperparameter tuning, which means adjusting the settings of the model to make it more accurate.\n",
    "\n",
    "Each algorithm has its own strengths and is good for different types of data or problems, so we’ll test them all to see which works best for our specific case."
   ]
  },
  {
   "cell_type": "code",
   "execution_count": null,
   "metadata": {},
   "outputs": [
    {
     "ename": "NameError",
     "evalue": "name 'df' is not defined",
     "output_type": "error",
     "traceback": [
      "\u001b[1;31m---------------------------------------------------------------------------\u001b[0m",
      "\u001b[1;31mNameError\u001b[0m                                 Traceback (most recent call last)",
      "Cell \u001b[1;32mIn[1408], line 2\u001b[0m\n\u001b[0;32m      1\u001b[0m \u001b[38;5;66;03m# Select features\u001b[39;00m\n\u001b[1;32m----> 2\u001b[0m X \u001b[38;5;241m=\u001b[39m \u001b[43mdf\u001b[49m[[\u001b[38;5;124m'\u001b[39m\u001b[38;5;124mdifficulty\u001b[39m\u001b[38;5;124m'\u001b[39m,\u001b[38;5;124m'\u001b[39m\u001b[38;5;124mreward\u001b[39m\u001b[38;5;124m'\u001b[39m,\u001b[38;5;124m'\u001b[39m\u001b[38;5;124memail\u001b[39m\u001b[38;5;124m'\u001b[39m,\u001b[38;5;124m'\u001b[39m\u001b[38;5;124mmobile\u001b[39m\u001b[38;5;124m'\u001b[39m,\u001b[38;5;124m'\u001b[39m\u001b[38;5;124msocial\u001b[39m\u001b[38;5;124m'\u001b[39m,\u001b[38;5;124m'\u001b[39m\u001b[38;5;124mweb\u001b[39m\u001b[38;5;124m'\u001b[39m,\u001b[38;5;124m'\u001b[39m\u001b[38;5;124mbogo\u001b[39m\u001b[38;5;124m'\u001b[39m,\u001b[38;5;124m'\u001b[39m\u001b[38;5;124mdiscount\u001b[39m\u001b[38;5;124m'\u001b[39m,\u001b[38;5;124m'\u001b[39m\u001b[38;5;124minformational\u001b[39m\u001b[38;5;124m'\u001b[39m,\u001b[38;5;124m'\u001b[39m\u001b[38;5;124mfemale\u001b[39m\u001b[38;5;124m'\u001b[39m,\u001b[38;5;124m'\u001b[39m\u001b[38;5;124mmale\u001b[39m\u001b[38;5;124m'\u001b[39m,\u001b[38;5;124m'\u001b[39m\u001b[38;5;124mother_gender\u001b[39m\u001b[38;5;124m'\u001b[39m,\u001b[38;5;124m'\u001b[39m\u001b[38;5;124mage_bins\u001b[39m\u001b[38;5;124m'\u001b[39m,\u001b[38;5;124m'\u001b[39m\u001b[38;5;124mincome_bins\u001b[39m\u001b[38;5;124m'\u001b[39m ,\u001b[38;5;124m'\u001b[39m\u001b[38;5;124mmember_year\u001b[39m\u001b[38;5;124m'\u001b[39m,\u001b[38;5;124m'\u001b[39m\u001b[38;5;124mmember_month\u001b[39m\u001b[38;5;124m'\u001b[39m]]\n\u001b[0;32m      4\u001b[0m \u001b[38;5;66;03m# Define the target variable we want to predict\u001b[39;00m\n\u001b[0;32m      5\u001b[0m y \u001b[38;5;241m=\u001b[39m df[\u001b[38;5;124m'\u001b[39m\u001b[38;5;124mevent_result\u001b[39m\u001b[38;5;124m'\u001b[39m]\u001b[38;5;241m.\u001b[39mravel()\n",
      "\u001b[1;31mNameError\u001b[0m: name 'df' is not defined"
     ]
    }
   ],
   "source": [
    "# Select features\n",
    "X = df[['difficulty','reward','email','mobile','social','web','bogo','discount','informational','female','male','other_gender','age_bins','income_bins' ,'member_year','member_month']]\n",
    "\n",
    "# Define the target variable we want to predict\n",
    "y = df['event_result'].ravel()\n",
    "\n",
    "# Split data into training and testing sets\n",
    "X_train,X_test,y_train,y_test = train_test_split(X,y, test_size = 0.3, random_state=42)"
   ]
  },
  {
   "cell_type": "markdown",
   "metadata": {},
   "source": [
    "## Section 5: Evaluate the Results"
   ]
  }
 ],
 "metadata": {
  "kernelspec": {
   "display_name": ".venv",
   "language": "python",
   "name": "python3"
  },
  "language_info": {
   "codemirror_mode": {
    "name": "ipython",
    "version": 3
   },
   "file_extension": ".py",
   "mimetype": "text/x-python",
   "name": "python",
   "nbconvert_exporter": "python",
   "pygments_lexer": "ipython3",
   "version": "3.13.2"
  }
 },
 "nbformat": 4,
 "nbformat_minor": 2
}
