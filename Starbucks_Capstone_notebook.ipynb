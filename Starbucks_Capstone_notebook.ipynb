{
 "cells": [
  {
   "cell_type": "markdown",
   "metadata": {},
   "source": [
    "# Starbucks Capstone Challenge\n",
    "\n",
    "## Section 1: Business Understanding\n",
    "\n",
    "### Introduction\n",
    "\n",
    "This data set contains simulated data that mimics customer behavior on the Starbucks rewards mobile app. Once every few days, Starbucks sends out an offer to users of the mobile app. An offer can be merely an advertisement for a drink or an actual offer such as a discount or BOGO (buy one get one free). Some users might not receive any offer during certain weeks. \n",
    "\n",
    "Not all users receive the same offer, and that is the challenge to solve with this data set.\n",
    "\n",
    "Your task is to combine transaction, demographic and offer data to determine which demographic groups respond best to which offer type. This data set is a simplified version of the real Starbucks app because the underlying simulator only has one product whereas Starbucks actually sells dozens of products.\n",
    "\n",
    "Every offer has a validity period before the offer expires. As an example, a BOGO offer might be valid for only 5 days. You'll see in the data set that informational offers have a validity period even though these ads are merely providing information about a product; for example, if an informational offer has 7 days of validity, you can assume the customer is feeling the influence of the offer for 7 days after receiving the advertisement.\n",
    "\n",
    "You'll be given transactional data showing user purchases made on the app including the timestamp of purchase and the amount of money spent on a purchase. This transactional data also has a record for each offer that a user receives as well as a record for when a user actually views the offer. There are also records for when a user completes an offer. \n",
    "\n",
    "Keep in mind as well that someone using the app might make a purchase through the app without having received an offer or seen an offer.\n",
    "\n",
    "### Example\n",
    "\n",
    "To give an example, a user could receive a discount offer buy 10 dollars get 2 off on Monday. The offer is valid for 10 days from receipt. If the customer accumulates at least 10 dollars in purchases during the validity period, the customer completes the offer.\n",
    "\n",
    "However, there are a few things to watch out for in this data set. Customers do not opt into the offers that they receive; in other words, a user can receive an offer, never actually view the offer, and still complete the offer. For example, a user might receive the \"buy 10 dollars get 2 dollars off offer\", but the user never opens the offer during the 10 day validity period. The customer spends 15 dollars during those ten days. There will be an offer completion record in the data set; however, the customer was not influenced by the offer because the customer never viewed the offer.\n",
    "\n",
    "### Cleaning\n",
    "\n",
    "This makes data cleaning especially important and tricky.\n",
    "\n",
    "You'll also want to take into account that some demographic groups will make purchases even if they don't receive an offer. From a business perspective, if a customer is going to make a 10 dollar purchase without an offer anyway, you wouldn't want to send a buy 10 dollars get 2 dollars off offer. You'll want to try to assess what a certain demographic group will buy when not receiving any offers.\n",
    "\n",
    "### Final Advice\n",
    "\n",
    "Because this is a capstone project, you are free to analyze the data any way you see fit. For example, you could build a machine learning model that predicts how much someone will spend based on demographics and offer type. Or you could build a model that predicts whether or not someone will respond to an offer. Or, you don't need to build a machine learning model at all. You could develop a set of heuristics that determine what offer you should send to each customer (i.e., 75 percent of women customers who were 35 years old responded to offer A vs 40 percent from the same demographic to offer B, so send offer A)."
   ]
  },
  {
   "cell_type": "markdown",
   "metadata": {},
   "source": [
    "### Import required packages:"
   ]
  },
  {
   "cell_type": "code",
   "execution_count": null,
   "metadata": {},
   "outputs": [],
   "source": [
    "import pandas as pd\n",
    "import numpy as np\n",
    "import matplotlib.pyplot as plt\n",
    "import seaborn as sns\n",
    "from datetime import datetime\n",
    "from sklearn.linear_model import LogisticRegression\n",
    "from sklearn.preprocessing import MinMaxScaler\n",
    "from sklearn.model_selection import train_test_split, GridSearchCV\n",
    "from sklearn.ensemble import RandomForestClassifier\n",
    "from sklearn.neighbors import KNeighborsClassifier\n",
    "from sklearn.metrics import fbeta_score, accuracy_score\n",
    "from sklearn.tree import DecisionTreeClassifier \n",
    "from sklearn.model_selection import cross_val_score\n",
    "\n",
    "%matplotlib inline"
   ]
  },
  {
   "cell_type": "markdown",
   "metadata": {},
   "source": [
    "## Section 2: Data Exploration"
   ]
  },
  {
   "cell_type": "markdown",
   "metadata": {},
   "source": [
    "### Data Sets\n",
    "\n",
    "The data is contained in three files:\n",
    "\n",
    "* portfolio.json - containing offer ids and meta data about each offer (duration, type, etc.)\n",
    "* profile.json - demographic data for each customer\n",
    "* transcript.json - records for transactions, offers received, offers viewed, and offers completed\n",
    "\n",
    "Here is the schema and explanation of each variable in the files:\n",
    "\n",
    "**portfolio.json**\n",
    "* id (string) - offer id\n",
    "* offer_type (string) - type of offer ie BOGO, discount, informational\n",
    "* difficulty (int) - minimum required spend to complete an offer\n",
    "* reward (int) - reward given for completing an offer\n",
    "* duration (int) - time for offer to be open, in days\n",
    "* channels (list of strings)\n",
    "\n",
    "**profile.json**\n",
    "* age (int) - age of the customer \n",
    "* became_member_on (int) - date when customer created an app account\n",
    "* gender (str) - gender of the customer (note some entries contain 'O' for other rather than M or F)\n",
    "* id (str) - customer id\n",
    "* income (float) - customer's income\n",
    "\n",
    "**transcript.json**\n",
    "* event (str) - record description (ie transaction, offer received, offer viewed, etc.)\n",
    "* person (str) - customer id\n",
    "* time (int) - time in hours since start of test. The data begins at time t=0\n",
    "* value - (dict of strings) - either an offer id or transaction amount depending on the record"
   ]
  },
  {
   "cell_type": "markdown",
   "metadata": {},
   "source": [
    "### Read in the datasets:"
   ]
  },
  {
   "cell_type": "code",
   "execution_count": 3444,
   "metadata": {},
   "outputs": [],
   "source": [
    "# read in the json files\n",
    "portfolio = pd.read_json('data/portfolio.json', orient='records', lines=True)\n",
    "profile = pd.read_json('data/profile.json', orient='records', lines=True)\n",
    "transcript = pd.read_json('data/transcript.json', orient='records', lines=True)"
   ]
  },
  {
   "cell_type": "markdown",
   "metadata": {},
   "source": [
    "### Create a function to summarize the details of each dataset:"
   ]
  },
  {
   "cell_type": "code",
   "execution_count": 3445,
   "metadata": {},
   "outputs": [],
   "source": [
    "# Define a function to answer: How large is the dataset? How many null values are there? What proportion of nulls? What are the column types?\n",
    "def df_info(df):\n",
    "    '''\n",
    "    Determine the size and shape of the dataset, the number and proportion of null values in each column, and the data type in each column.\n",
    "    ARGS: \n",
    "    df - dataframe of interest\n",
    "    OUTPUTS: \n",
    "    A string containing the Shape of the dataframe followed by a line for each column containing the \n",
    "    column name: number of null values, proportion of null values, and column type.\n",
    "    '''\n",
    "    print(\"Head:\")\n",
    "    print(df.head())\n",
    "    print()\n",
    "    print(\"Shape: \" + \"\\n\" + str(df.shape))\n",
    "    print()\n",
    "    print(\"Column Info:\")\n",
    "    for column in df.columns:\n",
    "        num_null = df[column].isnull().sum()\n",
    "        prop_null = df[column].isnull().mean()\n",
    "        col_type = df[column].dtype\n",
    "        try:\n",
    "            nunique = df[column].nunique()\n",
    "        except TypeError:\n",
    "            nunique = 'cannot compute for this data type'\n",
    "        print(\"    \" + column + \"\\n\" + \"        \" + str(num_null) + \" nulls, proportion of nulls = \" + \n",
    "              str(prop_null) + \", type = \" + str(col_type) + \", nunique = \" + str(nunique))\n",
    "    print(\"\\n\" + \"Descriptive Statistics:\")\n",
    "    print(df.describe())"
   ]
  },
  {
   "cell_type": "markdown",
   "metadata": {},
   "source": [
    "### Portfolio:"
   ]
  },
  {
   "cell_type": "code",
   "execution_count": 3446,
   "metadata": {},
   "outputs": [
    {
     "name": "stdout",
     "output_type": "stream",
     "text": [
      "Head:\n",
      "   reward                      channels  difficulty  duration     offer_type  \\\n",
      "0      10       [email, mobile, social]          10         7           bogo   \n",
      "1      10  [web, email, mobile, social]          10         5           bogo   \n",
      "2       0          [web, email, mobile]           0         4  informational   \n",
      "3       5          [web, email, mobile]           5         7           bogo   \n",
      "4       5                  [web, email]          20        10       discount   \n",
      "\n",
      "                                 id  \n",
      "0  ae264e3637204a6fb9bb56bc8210ddfd  \n",
      "1  4d5c57ea9a6940dd891ad53e9dbe8da0  \n",
      "2  3f207df678b143eea3cee63160fa8bed  \n",
      "3  9b98b8c7a33c4b65b9aebfe6a799e6d9  \n",
      "4  0b1e1539f2cc45b7b9fa7c272da2e1d7  \n",
      "\n",
      "Shape: \n",
      "(10, 6)\n",
      "\n",
      "Column Info:\n",
      "    reward\n",
      "        0 nulls, proportion of nulls = 0.0, type = int64, nunique = 5\n",
      "    channels\n",
      "        0 nulls, proportion of nulls = 0.0, type = object, nunique = cannot compute for this data type\n",
      "    difficulty\n",
      "        0 nulls, proportion of nulls = 0.0, type = int64, nunique = 5\n",
      "    duration\n",
      "        0 nulls, proportion of nulls = 0.0, type = int64, nunique = 5\n",
      "    offer_type\n",
      "        0 nulls, proportion of nulls = 0.0, type = object, nunique = 3\n",
      "    id\n",
      "        0 nulls, proportion of nulls = 0.0, type = object, nunique = 10\n",
      "\n",
      "Descriptive Statistics:\n",
      "          reward  difficulty   duration\n",
      "count  10.000000   10.000000  10.000000\n",
      "mean    4.200000    7.700000   6.500000\n",
      "std     3.583915    5.831905   2.321398\n",
      "min     0.000000    0.000000   3.000000\n",
      "25%     2.000000    5.000000   5.000000\n",
      "50%     4.000000    8.500000   7.000000\n",
      "75%     5.000000   10.000000   7.000000\n",
      "max    10.000000   20.000000  10.000000\n"
     ]
    }
   ],
   "source": [
    "df_info(portfolio) # Use the df_info function to determine the size and contents of the portfolio dataset"
   ]
  },
  {
   "cell_type": "markdown",
   "metadata": {},
   "source": [
    "**Comment:** There are only 10 rows (offers) and 6 columns (reward, channels, difficulty, duration, offer_type, and id). There are no null values. Descriptive statistics do not provide much insight for this dataset."
   ]
  },
  {
   "cell_type": "code",
   "execution_count": 3447,
   "metadata": {},
   "outputs": [],
   "source": [
    "# portfolio.value_counts()"
   ]
  },
  {
   "cell_type": "markdown",
   "metadata": {},
   "source": [
    "**Comment:** The above line of code throws an error, because the 'channels' column is a list indicating how an offer was distributed. We will address this in Section 3: Data Preparation. For now, let's exclude 'channels' from our value_counts() function. We will also exclude 'id' since each of the 10 offers has a unique 'id'."
   ]
  },
  {
   "cell_type": "code",
   "execution_count": 3448,
   "metadata": {},
   "outputs": [
    {
     "data": {
      "text/plain": [
       "offer_type     reward  difficulty  duration\n",
       "bogo           5       5           5           1\n",
       "                                   7           1\n",
       "               10      10          5           1\n",
       "                                   7           1\n",
       "discount       2       10          7           1\n",
       "                                   10          1\n",
       "               3       7           7           1\n",
       "               5       20          10          1\n",
       "informational  0       0           3           1\n",
       "                                   4           1\n",
       "Name: count, dtype: int64"
      ]
     },
     "execution_count": 3448,
     "metadata": {},
     "output_type": "execute_result"
    }
   ],
   "source": [
    "portfolio[['reward', 'difficulty', 'duration', 'offer_type']].groupby('offer_type').value_counts()"
   ]
  },
  {
   "cell_type": "markdown",
   "metadata": {},
   "source": [
    "**Comment:** Each offer is unique/distinct. None of them have the same reward, difficulty, and duration, though some share reward and difficulty amounts.\n",
    "\n",
    "**Question to Visualize:** Do higher difficulty offers also tend to have a higher reward?"
   ]
  },
  {
   "cell_type": "code",
   "execution_count": 3449,
   "metadata": {},
   "outputs": [
    {
     "data": {
      "text/plain": [
       "Text(0, 0.5, 'Reward ($)')"
      ]
     },
     "execution_count": 3449,
     "metadata": {},
     "output_type": "execute_result"
    },
    {
     "data": {
      "image/png": "[encoded data removed]",
      "text/plain": [
       "<Figure size 640x480 with 1 Axes>"
      ]
     },
     "metadata": {},
     "output_type": "display_data"
    }
   ],
   "source": [
    "plt.scatter(portfolio['difficulty'], portfolio['reward']);\n",
    "plt.xlabel('Difficulty ($)')\n",
    "plt.ylabel('Reward ($)')"
   ]
  },
  {
   "cell_type": "markdown",
   "metadata": {},
   "source": [
    "**Answer:** A weak positive correlation exists between offer difficulty and offer reward. However, there are only 10 offers in the dataset. It is unlikely customers would complete offers with high difficulty and low reward, so this makes sense contextually. \n",
    "\n",
    "__*Items to Address in Section 3: Data Preparation*__\n",
    "\n",
    "1. *Format all columns to 'offer_{}' where {} is the original column name. E.g. 'reward' becomes 'offer_reward'. The goal is to avoid having duplicate column names containing different data across datasets.*\n",
    "2. *Convert 'channels' column from a list to binary categorical columns.*"
   ]
  },
  {
   "cell_type": "markdown",
   "metadata": {},
   "source": [
    "### Profile:"
   ]
  },
  {
   "cell_type": "code",
   "execution_count": 3450,
   "metadata": {},
   "outputs": [
    {
     "name": "stdout",
     "output_type": "stream",
     "text": [
      "Head:\n",
      "  gender  age                                id  became_member_on    income\n",
      "0   None  118  68be06ca386d4c31939f3a4f0e3dd783          20170212       NaN\n",
      "1      F   55  0610b486422d4921ae7d2bf64640c50b          20170715  112000.0\n",
      "2   None  118  38fe809add3b4fcf9315a9694bb96ff5          20180712       NaN\n",
      "3      F   75  78afa995795e4d85b5d9ceeca43f5fef          20170509  100000.0\n",
      "4   None  118  a03223e636434f42ac4c3df47e8bac43          20170804       NaN\n",
      "\n",
      "Shape: \n",
      "(17000, 5)\n",
      "\n",
      "Column Info:\n",
      "    gender\n",
      "        2175 nulls, proportion of nulls = 0.12794117647058822, type = object, nunique = 3\n",
      "    age\n",
      "        0 nulls, proportion of nulls = 0.0, type = int64, nunique = 85\n",
      "    id\n",
      "        0 nulls, proportion of nulls = 0.0, type = object, nunique = 17000\n",
      "    became_member_on\n",
      "        0 nulls, proportion of nulls = 0.0, type = int64, nunique = 1716\n",
      "    income\n",
      "        2175 nulls, proportion of nulls = 0.12794117647058822, type = float64, nunique = 91\n",
      "\n",
      "Descriptive Statistics:\n",
      "                age  became_member_on         income\n",
      "count  17000.000000      1.700000e+04   14825.000000\n",
      "mean      62.531412      2.016703e+07   65404.991568\n",
      "std       26.738580      1.167750e+04   21598.299410\n",
      "min       18.000000      2.013073e+07   30000.000000\n",
      "25%       45.000000      2.016053e+07   49000.000000\n",
      "50%       58.000000      2.017080e+07   64000.000000\n",
      "75%       73.000000      2.017123e+07   80000.000000\n",
      "max      118.000000      2.018073e+07  120000.000000\n"
     ]
    }
   ],
   "source": [
    "df_info(profile) # Use the df_info function to determine the size and contents of the profile dataset"
   ]
  },
  {
   "cell_type": "markdown",
   "metadata": {},
   "source": [
    "**Comment:** There are 17,000 rows and unique IDs, indicating no duplicate rows. There are 2,175 nulls in both the 'gender' and 'income' columns. It is worth noting there are three unique 'gender' entries, not just male (M) and female (F). The maximum age is 118. It seems unlikely, though not necessarily impossible, that a 118 year-old-person would be using the Starbucks app. Additionally, the mean age is 62.5 while the median is 58, so age is likely a right-skewed distribution. We will need to check for and address any outliers. Similarly, the mean income is $65,405 while the median is $64,000, suggesting that this is also a right-skewed distribution with potential outliers on the high end. Finally, 'became_member_on' is being handled as an integer, when it should, in fact, be in datetime format. \n",
    "\n",
    "**Follow-Up Question:** Given that both 'gender' and 'income' have 2,175 null values, is it the same users with null values in both fields or different users with null values in one field or the other?"
   ]
  },
  {
   "cell_type": "code",
   "execution_count": 3451,
   "metadata": {},
   "outputs": [
    {
     "name": "stdout",
     "output_type": "stream",
     "text": [
      "(2175, 5)\n"
     ]
    },
    {
     "data": {
      "text/html": [
       "<div>\n",
       "<style scoped>\n",
       "    .dataframe tbody tr th:only-of-type {\n",
       "        vertical-align: middle;\n",
       "    }\n",
       "\n",
       "    .dataframe tbody tr th {\n",
       "        vertical-align: top;\n",
       "    }\n",
       "\n",
       "    .dataframe thead th {\n",
       "        text-align: right;\n",
       "    }\n",
       "</style>\n",
       "<table border=\"1\" class=\"dataframe\">\n",
       "  <thead>\n",
       "    <tr style=\"text-align: right;\">\n",
       "      <th></th>\n",
       "      <th>gender</th>\n",
       "      <th>age</th>\n",
       "      <th>id</th>\n",
       "      <th>became_member_on</th>\n",
       "      <th>income</th>\n",
       "    </tr>\n",
       "  </thead>\n",
       "  <tbody>\n",
       "    <tr>\n",
       "      <th>0</th>\n",
       "      <td>None</td>\n",
       "      <td>118</td>\n",
       "      <td>68be06ca386d4c31939f3a4f0e3dd783</td>\n",
       "      <td>20170212</td>\n",
       "      <td>NaN</td>\n",
       "    </tr>\n",
       "    <tr>\n",
       "      <th>2</th>\n",
       "      <td>None</td>\n",
       "      <td>118</td>\n",
       "      <td>38fe809add3b4fcf9315a9694bb96ff5</td>\n",
       "      <td>20180712</td>\n",
       "      <td>NaN</td>\n",
       "    </tr>\n",
       "    <tr>\n",
       "      <th>4</th>\n",
       "      <td>None</td>\n",
       "      <td>118</td>\n",
       "      <td>a03223e636434f42ac4c3df47e8bac43</td>\n",
       "      <td>20170804</td>\n",
       "      <td>NaN</td>\n",
       "    </tr>\n",
       "    <tr>\n",
       "      <th>6</th>\n",
       "      <td>None</td>\n",
       "      <td>118</td>\n",
       "      <td>8ec6ce2a7e7949b1bf142def7d0e0586</td>\n",
       "      <td>20170925</td>\n",
       "      <td>NaN</td>\n",
       "    </tr>\n",
       "    <tr>\n",
       "      <th>7</th>\n",
       "      <td>None</td>\n",
       "      <td>118</td>\n",
       "      <td>68617ca6246f4fbc85e91a2a49552598</td>\n",
       "      <td>20171002</td>\n",
       "      <td>NaN</td>\n",
       "    </tr>\n",
       "  </tbody>\n",
       "</table>\n",
       "</div>"
      ],
      "text/plain": [
       "  gender  age                                id  became_member_on  income\n",
       "0   None  118  68be06ca386d4c31939f3a4f0e3dd783          20170212     NaN\n",
       "2   None  118  38fe809add3b4fcf9315a9694bb96ff5          20180712     NaN\n",
       "4   None  118  a03223e636434f42ac4c3df47e8bac43          20170804     NaN\n",
       "6   None  118  8ec6ce2a7e7949b1bf142def7d0e0586          20170925     NaN\n",
       "7   None  118  68617ca6246f4fbc85e91a2a49552598          20171002     NaN"
      ]
     },
     "execution_count": 3451,
     "metadata": {},
     "output_type": "execute_result"
    }
   ],
   "source": [
    "nulls = profile[profile[['gender', 'income']].isnull().all(axis=1)]\n",
    "print(nulls.shape)\n",
    "nulls.head()"
   ]
  },
  {
   "cell_type": "markdown",
   "metadata": {},
   "source": [
    "**Answer:** The same 2,175 users have null 'gender' and 'income'.\n",
    "\n",
    "**Follow-Up Question:** Interestingly, the first five users in this \"null\" population also have an age of 118. Do all 2,175 people with null 'gender' and 'income' have an 'age' of 118?\n",
    "\n",
    "First, let's **visualize** the age distribution:"
   ]
  },
  {
   "cell_type": "code",
   "execution_count": 3452,
   "metadata": {},
   "outputs": [
    {
     "data": {
      "text/plain": [
       "Text(0, 0.5, 'Frequency')"
      ]
     },
     "execution_count": 3452,
     "metadata": {},
     "output_type": "execute_result"
    },
    {
     "data": {
      "image/png": "[encoded data removed]",
      "text/plain": [
       "<Figure size 640x480 with 1 Axes>"
      ]
     },
     "metadata": {},
     "output_type": "display_data"
    }
   ],
   "source": [
    "plt.hist(profile['age'], bins=30)\n",
    "plt.xlabel('Age')\n",
    "plt.ylabel('Frequency')"
   ]
  },
  {
   "cell_type": "markdown",
   "metadata": {},
   "source": [
    "**Comment:** The highest frequency is around age 118 with more than 2,000 occurences. Given how few people in the world are 118 years old and subsequently how few of them would use the Starbucks app, we can be fairly certain this data is inaccurate. Of the reasonable ages reported, the largest number of users appear to be in the 50-60 year old range. As we know from above, the average age is skewed upwards to 62.5 while the median is 58. \n",
    "\n",
    "**Follow-Up Question:** Exactly how many users listed 'age' as 118?"
   ]
  },
  {
   "cell_type": "code",
   "execution_count": 3453,
   "metadata": {},
   "outputs": [
    {
     "data": {
      "text/plain": [
       "np.int64(2175)"
      ]
     },
     "execution_count": 3453,
     "metadata": {},
     "output_type": "execute_result"
    }
   ],
   "source": [
    "(profile['age']== 118).sum()"
   ]
  },
  {
   "cell_type": "markdown",
   "metadata": {},
   "source": [
    "**Answer:** There are exactly 2,175 of 'age' 118. That's the same number of users with null 'gender' and 'income'.\n",
    "\n",
    "**Follow-Up Question:** Is it the same 2,175 users?"
   ]
  },
  {
   "cell_type": "code",
   "execution_count": 3454,
   "metadata": {},
   "outputs": [
    {
     "data": {
      "text/plain": [
       "np.int64(2175)"
      ]
     },
     "execution_count": 3454,
     "metadata": {},
     "output_type": "execute_result"
    }
   ],
   "source": [
    "((profile['age']== 118) & (profile[['gender', 'income']].isnull().all(axis=1))).sum()"
   ]
  },
  {
   "cell_type": "markdown",
   "metadata": {},
   "source": [
    "**Answer:** Yes! The same 2,175 users with null 'gender' and 'income' have an 'age' of 118. \n",
    "\n",
    "**Comment:** Perhaps these users generally prefer to report as little data as possible to maintain privacy. Alternatively, if the app has age limits (e.g. users must be 18 or older), these may be underage users skirting those restrictions by lying about their age. Either way, these users clearly have not shared their real information for whatever reason. Since there are no null values in the 'age' column, users must be required to provide an age. If 'age' were not required, these users would likely have null 'age' values rather than 118.\n",
    "\n",
    "**Follow-Up Questions:** \n",
    "1. What are the age ranges allowed in the app and are users required to provide an age? If required to provide an age, is it required for data collection and/or legal reasons? If not against the law, would it make sense for the developers to allow users to register without providing an age if they so choose?\n",
    "2. How does a user's willingness to complete their profile accurately relate to their likelihood to engage with offers? \n",
    "\n",
    "We will look at these \"null\" profiles more closely in Section 3: Data Preparation. "
   ]
  },
  {
   "cell_type": "markdown",
   "metadata": {},
   "source": [
    "**Question to Visualize:** How many users are there in each gender group?"
   ]
  },
  {
   "cell_type": "code",
   "execution_count": 3455,
   "metadata": {},
   "outputs": [
    {
     "data": {
      "image/png": "[encoded data removed]",
      "text/plain": [
       "<Figure size 640x480 with 1 Axes>"
      ]
     },
     "metadata": {},
     "output_type": "display_data"
    }
   ],
   "source": [
    "gender_counts = profile['gender'].value_counts()\n",
    "plt.bar(gender_counts.index, gender_counts.values)\n",
    "plt.xlabel('Gender')\n",
    "plt.ylabel('Number of Customers')\n",
    "for i in range(len(gender_counts.index)):\n",
    "    plt.text(i, gender_counts.values[i], str(gender_counts.values[i]), ha='center', va='bottom')"
   ]
  },
  {
   "cell_type": "markdown",
   "metadata": {},
   "source": [
    "**Answer:** There are 8,484 male (M) users, 2,355 more than the 6,129 female (F) users. Only 212 users  identify as other (O).\n",
    "\n",
    "**Question to Visualize:** What is the distribution of user incomes?"
   ]
  },
  {
   "cell_type": "code",
   "execution_count": 3456,
   "metadata": {},
   "outputs": [
    {
     "data": {
      "text/plain": [
       "Text(0, 0.5, 'Number of Customers')"
      ]
     },
     "execution_count": 3456,
     "metadata": {},
     "output_type": "execute_result"
    },
    {
     "data": {
      "image/png": "[encoded data removed]",
      "text/plain": [
       "<Figure size 640x480 with 1 Axes>"
      ]
     },
     "metadata": {},
     "output_type": "display_data"
    }
   ],
   "source": [
    "plt.hist(profile['income'], bins=30)\n",
    "plt.xlabel('Income')\n",
    "plt.ylabel('Number of Customers')"
   ]
  },
  {
   "cell_type": "markdown",
   "metadata": {},
   "source": [
    "**Answer:** Most users make less than $80,000 and there are no obvious outliers here. The highest frequency 'income' appears to be somewhere around $75,000. From above, we know that the average income is $65,405 with a minimum of $30,000, a maximum of $120,000, and a median of $64,000. \n",
    "\n",
    "**Follow-Up Question:** What is the mode?"
   ]
  },
  {
   "cell_type": "code",
   "execution_count": 3457,
   "metadata": {},
   "outputs": [
    {
     "data": {
      "text/plain": [
       "0    73000.0\n",
       "Name: income, dtype: float64"
      ]
     },
     "execution_count": 3457,
     "metadata": {},
     "output_type": "execute_result"
    }
   ],
   "source": [
    "profile['income'].mode()"
   ]
  },
  {
   "cell_type": "markdown",
   "metadata": {},
   "source": [
    "**Answer:** The mode is $73,000."
   ]
  },
  {
   "cell_type": "markdown",
   "metadata": {},
   "source": [
    "__*Items to Address in Section 3: Data Preparation*__\n",
    "\n",
    "1. *Rename 'id' to 'customer_id' for clarity.*\n",
    "2. *Convert 'became_member_on' from int to datetime and extract year and month as additional columns.*\n",
    "3. *Split the 2,175 \"null\" profiles into a separate dataframe for analysis and comparison to the \"complete\" profiles.*"
   ]
  },
  {
   "cell_type": "markdown",
   "metadata": {},
   "source": [
    "### Transcript:"
   ]
  },
  {
   "cell_type": "code",
   "execution_count": 3458,
   "metadata": {},
   "outputs": [
    {
     "name": "stdout",
     "output_type": "stream",
     "text": [
      "Head:\n",
      "                             person           event  \\\n",
      "0  78afa995795e4d85b5d9ceeca43f5fef  offer received   \n",
      "1  a03223e636434f42ac4c3df47e8bac43  offer received   \n",
      "2  e2127556f4f64592b11af22de27a7932  offer received   \n",
      "3  8ec6ce2a7e7949b1bf142def7d0e0586  offer received   \n",
      "4  68617ca6246f4fbc85e91a2a49552598  offer received   \n",
      "\n",
      "                                              value  time  \n",
      "0  {'offer id': '9b98b8c7a33c4b65b9aebfe6a799e6d9'}     0  \n",
      "1  {'offer id': '0b1e1539f2cc45b7b9fa7c272da2e1d7'}     0  \n",
      "2  {'offer id': '2906b810c7d4411798c6938adc9daaa5'}     0  \n",
      "3  {'offer id': 'fafdcd668e3743c1bb461111dcafc2a4'}     0  \n",
      "4  {'offer id': '4d5c57ea9a6940dd891ad53e9dbe8da0'}     0  \n",
      "\n",
      "Shape: \n",
      "(306534, 4)\n",
      "\n",
      "Column Info:\n",
      "    person\n",
      "        0 nulls, proportion of nulls = 0.0, type = object, nunique = 17000\n",
      "    event\n",
      "        0 nulls, proportion of nulls = 0.0, type = object, nunique = 4\n",
      "    value\n",
      "        0 nulls, proportion of nulls = 0.0, type = object, nunique = cannot compute for this data type\n",
      "    time\n",
      "        0 nulls, proportion of nulls = 0.0, type = int64, nunique = 120\n",
      "\n",
      "Descriptive Statistics:\n",
      "                time\n",
      "count  306534.000000\n",
      "mean      366.382940\n",
      "std       200.326314\n",
      "min         0.000000\n",
      "25%       186.000000\n",
      "50%       408.000000\n",
      "75%       528.000000\n",
      "max       714.000000\n"
     ]
    }
   ],
   "source": [
    "df_info(transcript) # Use the df_info function to determine the size and contents of the transcript dataset"
   ]
  },
  {
   "cell_type": "markdown",
   "metadata": {},
   "source": [
    "**Comment:** There are 306,534 rows representing each 'event' (transaction, offer received, offer viewed, offer completed) by each individual user and four columns (person, event, value, and time). Value is a dictionary, which will need to be reformatted later for easier handling. The 'person' column contains the id for the customer completing each 'event'. There are no null values in this dataset. The average 'time' from test start for an 'event' is 366 hours, but the median is 408 hours. "
   ]
  },
  {
   "cell_type": "code",
   "execution_count": 3459,
   "metadata": {},
   "outputs": [],
   "source": [
    "# transcript.value_counts()"
   ]
  },
  {
   "cell_type": "markdown",
   "metadata": {},
   "source": [
    "**Comment:** The above line of code throws an error, because the 'value' field is a dictionary. We will address this in Section 3: Data Preparation. For now, let's exclude 'value' from our value_counts() function. Instead, let's focus on 'event' and 'time' since 'person' has 17,000 unique values corresponding to the 17,000 unique users."
   ]
  },
  {
   "cell_type": "code",
   "execution_count": 3460,
   "metadata": {},
   "outputs": [
    {
     "name": "stdout",
     "output_type": "stream",
     "text": [
      "event\n",
      "transaction        138953\n",
      "offer received      76277\n",
      "offer viewed        57725\n",
      "offer completed     33579\n",
      "Name: count, dtype: int64 time\n",
      "0      15561\n",
      "6       2506\n",
      "12      2215\n",
      "18      2015\n",
      "24      1921\n",
      "       ...  \n",
      "690     1260\n",
      "696     1326\n",
      "702     1115\n",
      "708     1048\n",
      "714     1130\n",
      "Name: count, Length: 120, dtype: int64\n"
     ]
    }
   ],
   "source": [
    "events = transcript['event'].value_counts()\n",
    "times = transcript['time'].value_counts().sort_index()\n",
    "print(events, times)"
   ]
  },
  {
   "cell_type": "markdown",
   "metadata": {},
   "source": [
    "**Comment:** The value counts for 'time' are not easy to interpret in this format. The 'event' counts make it easy to see that there are many more transactions than offers received, viewed, or completed.\n",
    "\n",
    "**Visualize** the 'event' counts:"
   ]
  },
  {
   "cell_type": "code",
   "execution_count": 3461,
   "metadata": {},
   "outputs": [
    {
     "data": {
      "image/png": "[encoded data removed]",
      "text/plain": [
       "<Figure size 640x480 with 1 Axes>"
      ]
     },
     "metadata": {},
     "output_type": "display_data"
    }
   ],
   "source": [
    "plt.bar(events.index, events.values)\n",
    "plt.xlabel('Event')\n",
    "plt.ylabel('Count')\n",
    "for i in range(len(events.index)):\n",
    "    plt.text(i, events.values[i], str(events.values[i]), ha='center', va='bottom')"
   ]
  },
  {
   "cell_type": "markdown",
   "metadata": {},
   "source": [
    "**Comment:** There are significantly more transactions than offers received, viewed, and completed. This is in line with what we would expect given that many users will buy regardless of potential offers. "
   ]
  },
  {
   "cell_type": "code",
   "execution_count": 3462,
   "metadata": {},
   "outputs": [
    {
     "data": {
      "text/plain": [
       "Text(0, 0.5, 'Count')"
      ]
     },
     "execution_count": 3462,
     "metadata": {},
     "output_type": "execute_result"
    },
    {
     "data": {
      "image/png": "[encoded data removed]",
      "text/plain": [
       "<Figure size 640x480 with 1 Axes>"
      ]
     },
     "metadata": {},
     "output_type": "display_data"
    }
   ],
   "source": [
    "plt.plot(times.index, times.values)\n",
    "plt.xlabel('Time (Hours)')\n",
    "plt.ylabel('Count')"
   ]
  },
  {
   "cell_type": "markdown",
   "metadata": {},
   "source": [
    "**Comment:** There are spikes in the number of events for certain times (0, ~180, ~320, ~400, ~500, and ~580).\n",
    "\n",
    "**Follow-Up Question:** Do these spikes coincide with when offers were received?"
   ]
  },
  {
   "cell_type": "code",
   "execution_count": 3463,
   "metadata": {},
   "outputs": [
    {
     "data": {
      "text/html": [
       "<div>\n",
       "<style scoped>\n",
       "    .dataframe tbody tr th:only-of-type {\n",
       "        vertical-align: middle;\n",
       "    }\n",
       "\n",
       "    .dataframe tbody tr th {\n",
       "        vertical-align: top;\n",
       "    }\n",
       "\n",
       "    .dataframe thead th {\n",
       "        text-align: right;\n",
       "    }\n",
       "</style>\n",
       "<table border=\"1\" class=\"dataframe\">\n",
       "  <thead>\n",
       "    <tr style=\"text-align: right;\">\n",
       "      <th></th>\n",
       "      <th>person</th>\n",
       "      <th>event</th>\n",
       "      <th>value</th>\n",
       "      <th>time</th>\n",
       "    </tr>\n",
       "  </thead>\n",
       "  <tbody>\n",
       "    <tr>\n",
       "      <th>0</th>\n",
       "      <td>78afa995795e4d85b5d9ceeca43f5fef</td>\n",
       "      <td>offer received</td>\n",
       "      <td>{'offer id': '9b98b8c7a33c4b65b9aebfe6a799e6d9'}</td>\n",
       "      <td>0</td>\n",
       "    </tr>\n",
       "    <tr>\n",
       "      <th>1</th>\n",
       "      <td>a03223e636434f42ac4c3df47e8bac43</td>\n",
       "      <td>offer received</td>\n",
       "      <td>{'offer id': '0b1e1539f2cc45b7b9fa7c272da2e1d7'}</td>\n",
       "      <td>0</td>\n",
       "    </tr>\n",
       "    <tr>\n",
       "      <th>2</th>\n",
       "      <td>e2127556f4f64592b11af22de27a7932</td>\n",
       "      <td>offer received</td>\n",
       "      <td>{'offer id': '2906b810c7d4411798c6938adc9daaa5'}</td>\n",
       "      <td>0</td>\n",
       "    </tr>\n",
       "    <tr>\n",
       "      <th>3</th>\n",
       "      <td>8ec6ce2a7e7949b1bf142def7d0e0586</td>\n",
       "      <td>offer received</td>\n",
       "      <td>{'offer id': 'fafdcd668e3743c1bb461111dcafc2a4'}</td>\n",
       "      <td>0</td>\n",
       "    </tr>\n",
       "    <tr>\n",
       "      <th>4</th>\n",
       "      <td>68617ca6246f4fbc85e91a2a49552598</td>\n",
       "      <td>offer received</td>\n",
       "      <td>{'offer id': '4d5c57ea9a6940dd891ad53e9dbe8da0'}</td>\n",
       "      <td>0</td>\n",
       "    </tr>\n",
       "  </tbody>\n",
       "</table>\n",
       "</div>"
      ],
      "text/plain": [
       "                             person           event  \\\n",
       "0  78afa995795e4d85b5d9ceeca43f5fef  offer received   \n",
       "1  a03223e636434f42ac4c3df47e8bac43  offer received   \n",
       "2  e2127556f4f64592b11af22de27a7932  offer received   \n",
       "3  8ec6ce2a7e7949b1bf142def7d0e0586  offer received   \n",
       "4  68617ca6246f4fbc85e91a2a49552598  offer received   \n",
       "\n",
       "                                              value  time  \n",
       "0  {'offer id': '9b98b8c7a33c4b65b9aebfe6a799e6d9'}     0  \n",
       "1  {'offer id': '0b1e1539f2cc45b7b9fa7c272da2e1d7'}     0  \n",
       "2  {'offer id': '2906b810c7d4411798c6938adc9daaa5'}     0  \n",
       "3  {'offer id': 'fafdcd668e3743c1bb461111dcafc2a4'}     0  \n",
       "4  {'offer id': '4d5c57ea9a6940dd891ad53e9dbe8da0'}     0  "
      ]
     },
     "execution_count": 3463,
     "metadata": {},
     "output_type": "execute_result"
    }
   ],
   "source": [
    "offers_received = transcript[transcript['event'] == 'offer received']\n",
    "offers_received.head()"
   ]
  },
  {
   "cell_type": "code",
   "execution_count": 3464,
   "metadata": {},
   "outputs": [
    {
     "data": {
      "text/plain": [
       "(0.0, 14778.0)"
      ]
     },
     "execution_count": 3464,
     "metadata": {},
     "output_type": "execute_result"
    },
    {
     "data": {
      "image/png": "[encoded data removed]",
      "text/plain": [
       "<Figure size 640x480 with 1 Axes>"
      ]
     },
     "metadata": {},
     "output_type": "display_data"
    }
   ],
   "source": [
    "or_times = offers_received['time'].value_counts().sort_index()\n",
    "plt.plot(or_times.index, or_times.values, marker = 'o')\n",
    "plt.xlabel('Offer Received Time (Hours)')\n",
    "plt.ylabel('Count')\n",
    "plt.ylim(0, max(or_times) + 2000)"
   ]
  },
  {
   "cell_type": "markdown",
   "metadata": {},
   "source": [
    "**Answer:** Yes, the spikes correspond to when offers were received. However, offer received does not account for the total count at the highest points, so we know that there are other events going on when the offers are received. It's possible that some users view the offers as soon as they're received. \n",
    "\n",
    "__*Items to Address in Section 3: Data Preparation*__\n",
    "\n",
    "1. *Rename 'person' column to 'customer_id' to match field name in the profile dataframe.*\n",
    "2. *Convert 'value' column from dictionary to single value columns.*"
   ]
  },
  {
   "cell_type": "markdown",
   "metadata": {},
   "source": [
    "## Section 3: Data Preparation"
   ]
  },
  {
   "cell_type": "markdown",
   "metadata": {},
   "source": [
    "### Portfolio:\n",
    "\n",
    "__*Items to Address*__\n",
    "\n",
    "1. *Format all columns to 'offer_{}' where {} is the original column name. E.g. 'reward' becomes 'offer_reward'. The goal is to avoid having duplicate column names containing different data across datasets.*\n",
    "2. *Convert 'channels' column from a list to binary categorical columns.*"
   ]
  },
  {
   "cell_type": "markdown",
   "metadata": {},
   "source": [
    "**Task #1:** Rename fields to reflect these are characteristics of the offer to prevent confusion later on."
   ]
  },
  {
   "cell_type": "code",
   "execution_count": 3465,
   "metadata": {},
   "outputs": [],
   "source": [
    "portfolio = portfolio.rename(columns = {'id': 'offer_id', 'reward': 'offer_reward', 'difficulty': 'offer_difficulty', 'duration': 'offer_duration'})"
   ]
  },
  {
   "cell_type": "markdown",
   "metadata": {},
   "source": [
    "**Follow-Up:** Let's create an 'offer_desc' field that is more interpretable than the 'offer_id' for visualizations. We'll also create a simple float version of 'offer_id'."
   ]
  },
  {
   "cell_type": "code",
   "execution_count": 3466,
   "metadata": {},
   "outputs": [
    {
     "data": {
      "text/html": [
       "<div>\n",
       "<style scoped>\n",
       "    .dataframe tbody tr th:only-of-type {\n",
       "        vertical-align: middle;\n",
       "    }\n",
       "\n",
       "    .dataframe tbody tr th {\n",
       "        vertical-align: top;\n",
       "    }\n",
       "\n",
       "    .dataframe thead th {\n",
       "        text-align: right;\n",
       "    }\n",
       "</style>\n",
       "<table border=\"1\" class=\"dataframe\">\n",
       "  <thead>\n",
       "    <tr style=\"text-align: right;\">\n",
       "      <th></th>\n",
       "      <th>offer_reward</th>\n",
       "      <th>channels</th>\n",
       "      <th>offer_difficulty</th>\n",
       "      <th>offer_duration</th>\n",
       "      <th>offer_type</th>\n",
       "      <th>offer_id</th>\n",
       "      <th>offer_desc</th>\n",
       "      <th>offer_id_num</th>\n",
       "    </tr>\n",
       "  </thead>\n",
       "  <tbody>\n",
       "    <tr>\n",
       "      <th>0</th>\n",
       "      <td>10</td>\n",
       "      <td>[email, mobile, social]</td>\n",
       "      <td>10</td>\n",
       "      <td>7</td>\n",
       "      <td>bogo</td>\n",
       "      <td>ae264e3637204a6fb9bb56bc8210ddfd</td>\n",
       "      <td>bogo: 10_10_7</td>\n",
       "      <td>0</td>\n",
       "    </tr>\n",
       "    <tr>\n",
       "      <th>1</th>\n",
       "      <td>10</td>\n",
       "      <td>[web, email, mobile, social]</td>\n",
       "      <td>10</td>\n",
       "      <td>5</td>\n",
       "      <td>bogo</td>\n",
       "      <td>4d5c57ea9a6940dd891ad53e9dbe8da0</td>\n",
       "      <td>bogo: 10_10_5</td>\n",
       "      <td>1</td>\n",
       "    </tr>\n",
       "    <tr>\n",
       "      <th>2</th>\n",
       "      <td>0</td>\n",
       "      <td>[web, email, mobile]</td>\n",
       "      <td>0</td>\n",
       "      <td>4</td>\n",
       "      <td>informational</td>\n",
       "      <td>3f207df678b143eea3cee63160fa8bed</td>\n",
       "      <td>informational: 0_0_4</td>\n",
       "      <td>2</td>\n",
       "    </tr>\n",
       "    <tr>\n",
       "      <th>3</th>\n",
       "      <td>5</td>\n",
       "      <td>[web, email, mobile]</td>\n",
       "      <td>5</td>\n",
       "      <td>7</td>\n",
       "      <td>bogo</td>\n",
       "      <td>9b98b8c7a33c4b65b9aebfe6a799e6d9</td>\n",
       "      <td>bogo: 5_5_7</td>\n",
       "      <td>3</td>\n",
       "    </tr>\n",
       "    <tr>\n",
       "      <th>4</th>\n",
       "      <td>5</td>\n",
       "      <td>[web, email]</td>\n",
       "      <td>20</td>\n",
       "      <td>10</td>\n",
       "      <td>discount</td>\n",
       "      <td>0b1e1539f2cc45b7b9fa7c272da2e1d7</td>\n",
       "      <td>discount: 5_20_10</td>\n",
       "      <td>4</td>\n",
       "    </tr>\n",
       "    <tr>\n",
       "      <th>5</th>\n",
       "      <td>3</td>\n",
       "      <td>[web, email, mobile, social]</td>\n",
       "      <td>7</td>\n",
       "      <td>7</td>\n",
       "      <td>discount</td>\n",
       "      <td>2298d6c36e964ae4a3e7e9706d1fb8c2</td>\n",
       "      <td>discount: 3_7_7</td>\n",
       "      <td>5</td>\n",
       "    </tr>\n",
       "    <tr>\n",
       "      <th>6</th>\n",
       "      <td>2</td>\n",
       "      <td>[web, email, mobile, social]</td>\n",
       "      <td>10</td>\n",
       "      <td>10</td>\n",
       "      <td>discount</td>\n",
       "      <td>fafdcd668e3743c1bb461111dcafc2a4</td>\n",
       "      <td>discount: 2_10_10</td>\n",
       "      <td>6</td>\n",
       "    </tr>\n",
       "    <tr>\n",
       "      <th>7</th>\n",
       "      <td>0</td>\n",
       "      <td>[email, mobile, social]</td>\n",
       "      <td>0</td>\n",
       "      <td>3</td>\n",
       "      <td>informational</td>\n",
       "      <td>5a8bc65990b245e5a138643cd4eb9837</td>\n",
       "      <td>informational: 0_0_3</td>\n",
       "      <td>7</td>\n",
       "    </tr>\n",
       "    <tr>\n",
       "      <th>8</th>\n",
       "      <td>5</td>\n",
       "      <td>[web, email, mobile, social]</td>\n",
       "      <td>5</td>\n",
       "      <td>5</td>\n",
       "      <td>bogo</td>\n",
       "      <td>f19421c1d4aa40978ebb69ca19b0e20d</td>\n",
       "      <td>bogo: 5_5_5</td>\n",
       "      <td>8</td>\n",
       "    </tr>\n",
       "    <tr>\n",
       "      <th>9</th>\n",
       "      <td>2</td>\n",
       "      <td>[web, email, mobile]</td>\n",
       "      <td>10</td>\n",
       "      <td>7</td>\n",
       "      <td>discount</td>\n",
       "      <td>2906b810c7d4411798c6938adc9daaa5</td>\n",
       "      <td>discount: 2_10_7</td>\n",
       "      <td>9</td>\n",
       "    </tr>\n",
       "  </tbody>\n",
       "</table>\n",
       "</div>"
      ],
      "text/plain": [
       "   offer_reward                      channels  offer_difficulty  \\\n",
       "0            10       [email, mobile, social]                10   \n",
       "1            10  [web, email, mobile, social]                10   \n",
       "2             0          [web, email, mobile]                 0   \n",
       "3             5          [web, email, mobile]                 5   \n",
       "4             5                  [web, email]                20   \n",
       "5             3  [web, email, mobile, social]                 7   \n",
       "6             2  [web, email, mobile, social]                10   \n",
       "7             0       [email, mobile, social]                 0   \n",
       "8             5  [web, email, mobile, social]                 5   \n",
       "9             2          [web, email, mobile]                10   \n",
       "\n",
       "   offer_duration     offer_type                          offer_id  \\\n",
       "0               7           bogo  ae264e3637204a6fb9bb56bc8210ddfd   \n",
       "1               5           bogo  4d5c57ea9a6940dd891ad53e9dbe8da0   \n",
       "2               4  informational  3f207df678b143eea3cee63160fa8bed   \n",
       "3               7           bogo  9b98b8c7a33c4b65b9aebfe6a799e6d9   \n",
       "4              10       discount  0b1e1539f2cc45b7b9fa7c272da2e1d7   \n",
       "5               7       discount  2298d6c36e964ae4a3e7e9706d1fb8c2   \n",
       "6              10       discount  fafdcd668e3743c1bb461111dcafc2a4   \n",
       "7               3  informational  5a8bc65990b245e5a138643cd4eb9837   \n",
       "8               5           bogo  f19421c1d4aa40978ebb69ca19b0e20d   \n",
       "9               7       discount  2906b810c7d4411798c6938adc9daaa5   \n",
       "\n",
       "             offer_desc  offer_id_num  \n",
       "0         bogo: 10_10_7             0  \n",
       "1         bogo: 10_10_5             1  \n",
       "2  informational: 0_0_4             2  \n",
       "3           bogo: 5_5_7             3  \n",
       "4     discount: 5_20_10             4  \n",
       "5       discount: 3_7_7             5  \n",
       "6     discount: 2_10_10             6  \n",
       "7  informational: 0_0_3             7  \n",
       "8           bogo: 5_5_5             8  \n",
       "9      discount: 2_10_7             9  "
      ]
     },
     "execution_count": 3466,
     "metadata": {},
     "output_type": "execute_result"
    }
   ],
   "source": [
    "portfolio['offer_desc'] = (portfolio['offer_type'] + ': ' + portfolio['offer_reward'].astype('str') + '_' + \n",
    "                           portfolio['offer_difficulty'].astype('str') + '_' + portfolio['offer_duration'].astype('str'))\n",
    "\n",
    "oids = portfolio['offer_id'].unique().tolist()\n",
    "oid_mapping = dict(zip(oids,range(len(oids))))\n",
    "portfolio['offer_id_num'] = portfolio['offer_id'].map(oid_mapping)\n",
    "\n",
    "portfolio.head(10)"
   ]
  },
  {
   "cell_type": "markdown",
   "metadata": {},
   "source": [
    "**Task #2:** Convert 'channels' column from a list to binary categorical columns representing each component of the list. This will make this categorical information easier to work with and use in modeling. "
   ]
  },
  {
   "cell_type": "code",
   "execution_count": 3467,
   "metadata": {},
   "outputs": [
    {
     "name": "stdout",
     "output_type": "stream",
     "text": [
      "   offer_reward  offer_difficulty  offer_duration     offer_type  \\\n",
      "0            10                10               7           bogo   \n",
      "1            10                10               5           bogo   \n",
      "2             0                 0               4  informational   \n",
      "3             5                 5               7           bogo   \n",
      "4             5                20              10       discount   \n",
      "5             3                 7               7       discount   \n",
      "6             2                10              10       discount   \n",
      "7             0                 0               3  informational   \n",
      "8             5                 5               5           bogo   \n",
      "9             2                10               7       discount   \n",
      "\n",
      "                           offer_id            offer_desc  offer_id_num  \\\n",
      "0  ae264e3637204a6fb9bb56bc8210ddfd         bogo: 10_10_7             0   \n",
      "1  4d5c57ea9a6940dd891ad53e9dbe8da0         bogo: 10_10_5             1   \n",
      "2  3f207df678b143eea3cee63160fa8bed  informational: 0_0_4             2   \n",
      "3  9b98b8c7a33c4b65b9aebfe6a799e6d9           bogo: 5_5_7             3   \n",
      "4  0b1e1539f2cc45b7b9fa7c272da2e1d7     discount: 5_20_10             4   \n",
      "5  2298d6c36e964ae4a3e7e9706d1fb8c2       discount: 3_7_7             5   \n",
      "6  fafdcd668e3743c1bb461111dcafc2a4     discount: 2_10_10             6   \n",
      "7  5a8bc65990b245e5a138643cd4eb9837  informational: 0_0_3             7   \n",
      "8  f19421c1d4aa40978ebb69ca19b0e20d           bogo: 5_5_5             8   \n",
      "9  2906b810c7d4411798c6938adc9daaa5      discount: 2_10_7             9   \n",
      "\n",
      "   email  mobile  social    web  \n",
      "0   True    True    True  False  \n",
      "1   True    True    True   True  \n",
      "2   True    True   False   True  \n",
      "3   True    True   False   True  \n",
      "4   True   False   False   True  \n",
      "5   True    True    True   True  \n",
      "6   True    True    True   True  \n",
      "7   True    True    True  False  \n",
      "8   True    True    True   True  \n",
      "9   True    True   False   True  \n"
     ]
    }
   ],
   "source": [
    "# Explode the list into rows\n",
    "portfolio_exploded = portfolio.explode('channels')\n",
    "\n",
    "# Create dummy variables (binary columns)\n",
    "portfolio_dummies = pd.get_dummies(portfolio_exploded, columns=['channels'], prefix='', prefix_sep='')\n",
    "\n",
    "# Aggregate back to original rows, keeping max value (1 if present, 0 if not)\n",
    "portfolio_new = portfolio_dummies.groupby(portfolio_dummies.index).max()\n",
    "\n",
    "# Print result\n",
    "print(portfolio_new)"
   ]
  },
  {
   "cell_type": "markdown",
   "metadata": {},
   "source": [
    "### Profile:\n",
    "\n",
    "__*Items to Address*__\n",
    "\n",
    "1. *Rename 'id' to 'customer_id' for clarity.*\n",
    "2. *Convert 'became_member_on' from int to datetime and extract year and month as additional columns.*\n",
    "3. *Split the 2,175 \"null\" profiles into a separate dataframe for analysis and comparison to the \"complete\" profiles.*"
   ]
  },
  {
   "cell_type": "markdown",
   "metadata": {},
   "source": [
    "**Task #1:** Rename 'id' to 'customer_id' for clarity. "
   ]
  },
  {
   "cell_type": "code",
   "execution_count": 3468,
   "metadata": {},
   "outputs": [],
   "source": [
    "profile = profile.rename(columns = {'id': 'customer_id'})"
   ]
  },
  {
   "cell_type": "markdown",
   "metadata": {},
   "source": [
    "**Task #2:** Reformat 'became_member_on' from an integer to a datetime field. "
   ]
  },
  {
   "cell_type": "code",
   "execution_count": 3469,
   "metadata": {},
   "outputs": [],
   "source": [
    "profile['became_member_on'] = pd.to_datetime(profile['became_member_on'], format='%Y%m%d')"
   ]
  },
  {
   "cell_type": "markdown",
   "metadata": {},
   "source": [
    "**Visualize** membership join dates:"
   ]
  },
  {
   "cell_type": "code",
   "execution_count": 3470,
   "metadata": {},
   "outputs": [
    {
     "data": {
      "text/html": [
       "<div>\n",
       "<style scoped>\n",
       "    .dataframe tbody tr th:only-of-type {\n",
       "        vertical-align: middle;\n",
       "    }\n",
       "\n",
       "    .dataframe tbody tr th {\n",
       "        vertical-align: top;\n",
       "    }\n",
       "\n",
       "    .dataframe thead th {\n",
       "        text-align: right;\n",
       "    }\n",
       "</style>\n",
       "<table border=\"1\" class=\"dataframe\">\n",
       "  <thead>\n",
       "    <tr style=\"text-align: right;\">\n",
       "      <th></th>\n",
       "      <th>gender</th>\n",
       "      <th>age</th>\n",
       "      <th>customer_id</th>\n",
       "      <th>became_member_on</th>\n",
       "      <th>income</th>\n",
       "      <th>member_join_year</th>\n",
       "    </tr>\n",
       "  </thead>\n",
       "  <tbody>\n",
       "    <tr>\n",
       "      <th>0</th>\n",
       "      <td>None</td>\n",
       "      <td>118</td>\n",
       "      <td>68be06ca386d4c31939f3a4f0e3dd783</td>\n",
       "      <td>2017-02-12</td>\n",
       "      <td>NaN</td>\n",
       "      <td>2017</td>\n",
       "    </tr>\n",
       "    <tr>\n",
       "      <th>1</th>\n",
       "      <td>F</td>\n",
       "      <td>55</td>\n",
       "      <td>0610b486422d4921ae7d2bf64640c50b</td>\n",
       "      <td>2017-07-15</td>\n",
       "      <td>112000.0</td>\n",
       "      <td>2017</td>\n",
       "    </tr>\n",
       "    <tr>\n",
       "      <th>2</th>\n",
       "      <td>None</td>\n",
       "      <td>118</td>\n",
       "      <td>38fe809add3b4fcf9315a9694bb96ff5</td>\n",
       "      <td>2018-07-12</td>\n",
       "      <td>NaN</td>\n",
       "      <td>2018</td>\n",
       "    </tr>\n",
       "    <tr>\n",
       "      <th>3</th>\n",
       "      <td>F</td>\n",
       "      <td>75</td>\n",
       "      <td>78afa995795e4d85b5d9ceeca43f5fef</td>\n",
       "      <td>2017-05-09</td>\n",
       "      <td>100000.0</td>\n",
       "      <td>2017</td>\n",
       "    </tr>\n",
       "    <tr>\n",
       "      <th>4</th>\n",
       "      <td>None</td>\n",
       "      <td>118</td>\n",
       "      <td>a03223e636434f42ac4c3df47e8bac43</td>\n",
       "      <td>2017-08-04</td>\n",
       "      <td>NaN</td>\n",
       "      <td>2017</td>\n",
       "    </tr>\n",
       "  </tbody>\n",
       "</table>\n",
       "</div>"
      ],
      "text/plain": [
       "  gender  age                       customer_id became_member_on    income  \\\n",
       "0   None  118  68be06ca386d4c31939f3a4f0e3dd783       2017-02-12       NaN   \n",
       "1      F   55  0610b486422d4921ae7d2bf64640c50b       2017-07-15  112000.0   \n",
       "2   None  118  38fe809add3b4fcf9315a9694bb96ff5       2018-07-12       NaN   \n",
       "3      F   75  78afa995795e4d85b5d9ceeca43f5fef       2017-05-09  100000.0   \n",
       "4   None  118  a03223e636434f42ac4c3df47e8bac43       2017-08-04       NaN   \n",
       "\n",
       "  member_join_year  \n",
       "0             2017  \n",
       "1             2017  \n",
       "2             2018  \n",
       "3             2017  \n",
       "4             2017  "
      ]
     },
     "execution_count": 3470,
     "metadata": {},
     "output_type": "execute_result"
    }
   ],
   "source": [
    "# Extract the full date (YYYY-MM-DD), year-month (YYYY-MM), and month (MM)\n",
    "profile['member_join_year'] = profile['became_member_on'].dt.strftime('%Y')\n",
    "profile.head()"
   ]
  },
  {
   "cell_type": "code",
   "execution_count": 3471,
   "metadata": {},
   "outputs": [
    {
     "data": {
      "image/png": "[encoded data removed]",
      "text/plain": [
       "<Figure size 640x480 with 1 Axes>"
      ]
     },
     "metadata": {},
     "output_type": "display_data"
    }
   ],
   "source": [
    "sns.countplot(data = profile, x = 'member_join_year', order = profile.sort_values(['member_join_year'], ascending=True).set_index('member_join_year').index);"
   ]
  },
  {
   "cell_type": "markdown",
   "metadata": {},
   "source": [
    "**Comment:** New memberships increased year over year from 2013 to a peak in 2017, followed by fewer new members in 2018. \n",
    "\n",
    "**Task #3:** Create a dataframe by extracting the user profiles with null 'gender' and 'income' and 'age' 118."
   ]
  },
  {
   "cell_type": "code",
   "execution_count": 3472,
   "metadata": {},
   "outputs": [
    {
     "name": "stdout",
     "output_type": "stream",
     "text": [
      "Head:\n",
      "  gender  age                       customer_id became_member_on  income  \\\n",
      "0   None  118  68be06ca386d4c31939f3a4f0e3dd783       2017-02-12     NaN   \n",
      "2   None  118  38fe809add3b4fcf9315a9694bb96ff5       2018-07-12     NaN   \n",
      "4   None  118  a03223e636434f42ac4c3df47e8bac43       2017-08-04     NaN   \n",
      "6   None  118  8ec6ce2a7e7949b1bf142def7d0e0586       2017-09-25     NaN   \n",
      "7   None  118  68617ca6246f4fbc85e91a2a49552598       2017-10-02     NaN   \n",
      "\n",
      "  member_join_year  \n",
      "0             2017  \n",
      "2             2018  \n",
      "4             2017  \n",
      "6             2017  \n",
      "7             2017  \n",
      "\n",
      "Shape: \n",
      "(2175, 6)\n",
      "\n",
      "Column Info:\n",
      "    gender\n",
      "        2175 nulls, proportion of nulls = 1.0, type = object, nunique = 0\n",
      "    age\n",
      "        0 nulls, proportion of nulls = 0.0, type = int64, nunique = 1\n",
      "    customer_id\n",
      "        0 nulls, proportion of nulls = 0.0, type = object, nunique = 2175\n",
      "    became_member_on\n",
      "        0 nulls, proportion of nulls = 0.0, type = datetime64[ns], nunique = 950\n",
      "    income\n",
      "        2175 nulls, proportion of nulls = 1.0, type = float64, nunique = 0\n",
      "    member_join_year\n",
      "        0 nulls, proportion of nulls = 0.0, type = object, nunique = 6\n",
      "\n",
      "Descriptive Statistics:\n",
      "          age               became_member_on  income\n",
      "count  2175.0                           2175     0.0\n",
      "mean    118.0  2017-03-29 19:53:42.620689920     NaN\n",
      "min     118.0            2013-08-02 00:00:00     NaN\n",
      "25%     118.0            2016-07-04 12:00:00     NaN\n",
      "50%     118.0            2017-07-31 00:00:00     NaN\n",
      "75%     118.0            2017-12-26 00:00:00     NaN\n",
      "max     118.0            2018-07-26 00:00:00     NaN\n",
      "std       0.0                            NaN     NaN\n"
     ]
    }
   ],
   "source": [
    "null_profiles = profile[(profile['age']== 118) & (profile['gender'].isnull()) & (profile['income'].isnull())]\n",
    "df_info(null_profiles)"
   ]
  },
  {
   "cell_type": "markdown",
   "metadata": {},
   "source": [
    "**Follow-Up:** Let's also create a dataframe containing only the users with complete profiles."
   ]
  },
  {
   "cell_type": "code",
   "execution_count": 3473,
   "metadata": {},
   "outputs": [
    {
     "name": "stdout",
     "output_type": "stream",
     "text": [
      "Head:\n",
      "   gender  age                       customer_id became_member_on    income  \\\n",
      "1       F   55  0610b486422d4921ae7d2bf64640c50b       2017-07-15  112000.0   \n",
      "3       F   75  78afa995795e4d85b5d9ceeca43f5fef       2017-05-09  100000.0   \n",
      "5       M   68  e2127556f4f64592b11af22de27a7932       2018-04-26   70000.0   \n",
      "8       M   65  389bc3fa690240e798340f5a15918d5c       2018-02-09   53000.0   \n",
      "12      M   58  2eeac8d8feae4a8cad5a6af0499a211d       2017-11-11   51000.0   \n",
      "\n",
      "   member_join_year  \n",
      "1              2017  \n",
      "3              2017  \n",
      "5              2018  \n",
      "8              2018  \n",
      "12             2017  \n",
      "\n",
      "Shape: \n",
      "(14825, 6)\n",
      "\n",
      "Column Info:\n",
      "    gender\n",
      "        0 nulls, proportion of nulls = 0.0, type = object, nunique = 3\n",
      "    age\n",
      "        0 nulls, proportion of nulls = 0.0, type = int64, nunique = 84\n",
      "    customer_id\n",
      "        0 nulls, proportion of nulls = 0.0, type = object, nunique = 14825\n",
      "    became_member_on\n",
      "        0 nulls, proportion of nulls = 0.0, type = datetime64[ns], nunique = 1707\n",
      "    income\n",
      "        0 nulls, proportion of nulls = 0.0, type = float64, nunique = 91\n",
      "    member_join_year\n",
      "        0 nulls, proportion of nulls = 0.0, type = object, nunique = 6\n",
      "\n",
      "Descriptive Statistics:\n",
      "                age               became_member_on         income\n",
      "count  14825.000000                          14825   14825.000000\n",
      "mean      54.393524  2017-02-18 12:30:15.419898880   65404.991568\n",
      "min       18.000000            2013-07-29 00:00:00   30000.000000\n",
      "25%       42.000000            2016-05-20 00:00:00   49000.000000\n",
      "50%       55.000000            2017-08-02 00:00:00   64000.000000\n",
      "75%       66.000000            2017-12-30 00:00:00   80000.000000\n",
      "max      101.000000            2018-07-26 00:00:00  120000.000000\n",
      "std       17.383705                            NaN   21598.299410\n"
     ]
    }
   ],
   "source": [
    "complete_profiles = profile[(profile['gender'].notnull()) & (profile['income'].notnull())]\n",
    "df_info(complete_profiles)"
   ]
  },
  {
   "cell_type": "markdown",
   "metadata": {},
   "source": [
    "**Finally**, let's create a simple float version of customer_id."
   ]
  },
  {
   "cell_type": "code",
   "execution_count": 3474,
   "metadata": {},
   "outputs": [
    {
     "data": {
      "text/html": [
       "<div>\n",
       "<style scoped>\n",
       "    .dataframe tbody tr th:only-of-type {\n",
       "        vertical-align: middle;\n",
       "    }\n",
       "\n",
       "    .dataframe tbody tr th {\n",
       "        vertical-align: top;\n",
       "    }\n",
       "\n",
       "    .dataframe thead th {\n",
       "        text-align: right;\n",
       "    }\n",
       "</style>\n",
       "<table border=\"1\" class=\"dataframe\">\n",
       "  <thead>\n",
       "    <tr style=\"text-align: right;\">\n",
       "      <th></th>\n",
       "      <th>gender</th>\n",
       "      <th>age</th>\n",
       "      <th>customer_id</th>\n",
       "      <th>became_member_on</th>\n",
       "      <th>income</th>\n",
       "      <th>member_join_year</th>\n",
       "      <th>customer_id_num</th>\n",
       "    </tr>\n",
       "  </thead>\n",
       "  <tbody>\n",
       "    <tr>\n",
       "      <th>0</th>\n",
       "      <td>None</td>\n",
       "      <td>118</td>\n",
       "      <td>68be06ca386d4c31939f3a4f0e3dd783</td>\n",
       "      <td>2017-02-12</td>\n",
       "      <td>NaN</td>\n",
       "      <td>2017</td>\n",
       "      <td>0</td>\n",
       "    </tr>\n",
       "    <tr>\n",
       "      <th>1</th>\n",
       "      <td>F</td>\n",
       "      <td>55</td>\n",
       "      <td>0610b486422d4921ae7d2bf64640c50b</td>\n",
       "      <td>2017-07-15</td>\n",
       "      <td>112000.0</td>\n",
       "      <td>2017</td>\n",
       "      <td>1</td>\n",
       "    </tr>\n",
       "    <tr>\n",
       "      <th>2</th>\n",
       "      <td>None</td>\n",
       "      <td>118</td>\n",
       "      <td>38fe809add3b4fcf9315a9694bb96ff5</td>\n",
       "      <td>2018-07-12</td>\n",
       "      <td>NaN</td>\n",
       "      <td>2018</td>\n",
       "      <td>2</td>\n",
       "    </tr>\n",
       "    <tr>\n",
       "      <th>3</th>\n",
       "      <td>F</td>\n",
       "      <td>75</td>\n",
       "      <td>78afa995795e4d85b5d9ceeca43f5fef</td>\n",
       "      <td>2017-05-09</td>\n",
       "      <td>100000.0</td>\n",
       "      <td>2017</td>\n",
       "      <td>3</td>\n",
       "    </tr>\n",
       "    <tr>\n",
       "      <th>4</th>\n",
       "      <td>None</td>\n",
       "      <td>118</td>\n",
       "      <td>a03223e636434f42ac4c3df47e8bac43</td>\n",
       "      <td>2017-08-04</td>\n",
       "      <td>NaN</td>\n",
       "      <td>2017</td>\n",
       "      <td>4</td>\n",
       "    </tr>\n",
       "    <tr>\n",
       "      <th>5</th>\n",
       "      <td>M</td>\n",
       "      <td>68</td>\n",
       "      <td>e2127556f4f64592b11af22de27a7932</td>\n",
       "      <td>2018-04-26</td>\n",
       "      <td>70000.0</td>\n",
       "      <td>2018</td>\n",
       "      <td>5</td>\n",
       "    </tr>\n",
       "    <tr>\n",
       "      <th>6</th>\n",
       "      <td>None</td>\n",
       "      <td>118</td>\n",
       "      <td>8ec6ce2a7e7949b1bf142def7d0e0586</td>\n",
       "      <td>2017-09-25</td>\n",
       "      <td>NaN</td>\n",
       "      <td>2017</td>\n",
       "      <td>6</td>\n",
       "    </tr>\n",
       "    <tr>\n",
       "      <th>7</th>\n",
       "      <td>None</td>\n",
       "      <td>118</td>\n",
       "      <td>68617ca6246f4fbc85e91a2a49552598</td>\n",
       "      <td>2017-10-02</td>\n",
       "      <td>NaN</td>\n",
       "      <td>2017</td>\n",
       "      <td>7</td>\n",
       "    </tr>\n",
       "    <tr>\n",
       "      <th>8</th>\n",
       "      <td>M</td>\n",
       "      <td>65</td>\n",
       "      <td>389bc3fa690240e798340f5a15918d5c</td>\n",
       "      <td>2018-02-09</td>\n",
       "      <td>53000.0</td>\n",
       "      <td>2018</td>\n",
       "      <td>8</td>\n",
       "    </tr>\n",
       "    <tr>\n",
       "      <th>9</th>\n",
       "      <td>None</td>\n",
       "      <td>118</td>\n",
       "      <td>8974fc5686fe429db53ddde067b88302</td>\n",
       "      <td>2016-11-22</td>\n",
       "      <td>NaN</td>\n",
       "      <td>2016</td>\n",
       "      <td>9</td>\n",
       "    </tr>\n",
       "  </tbody>\n",
       "</table>\n",
       "</div>"
      ],
      "text/plain": [
       "  gender  age                       customer_id became_member_on    income  \\\n",
       "0   None  118  68be06ca386d4c31939f3a4f0e3dd783       2017-02-12       NaN   \n",
       "1      F   55  0610b486422d4921ae7d2bf64640c50b       2017-07-15  112000.0   \n",
       "2   None  118  38fe809add3b4fcf9315a9694bb96ff5       2018-07-12       NaN   \n",
       "3      F   75  78afa995795e4d85b5d9ceeca43f5fef       2017-05-09  100000.0   \n",
       "4   None  118  a03223e636434f42ac4c3df47e8bac43       2017-08-04       NaN   \n",
       "5      M   68  e2127556f4f64592b11af22de27a7932       2018-04-26   70000.0   \n",
       "6   None  118  8ec6ce2a7e7949b1bf142def7d0e0586       2017-09-25       NaN   \n",
       "7   None  118  68617ca6246f4fbc85e91a2a49552598       2017-10-02       NaN   \n",
       "8      M   65  389bc3fa690240e798340f5a15918d5c       2018-02-09   53000.0   \n",
       "9   None  118  8974fc5686fe429db53ddde067b88302       2016-11-22       NaN   \n",
       "\n",
       "  member_join_year  customer_id_num  \n",
       "0             2017                0  \n",
       "1             2017                1  \n",
       "2             2018                2  \n",
       "3             2017                3  \n",
       "4             2017                4  \n",
       "5             2018                5  \n",
       "6             2017                6  \n",
       "7             2017                7  \n",
       "8             2018                8  \n",
       "9             2016                9  "
      ]
     },
     "execution_count": 3474,
     "metadata": {},
     "output_type": "execute_result"
    }
   ],
   "source": [
    "cids = profile['customer_id'].unique().tolist()\n",
    "cid_mapping = dict(zip(cids,range(len(cids))))\n",
    "profile['customer_id_num'] = profile['customer_id'].map(cid_mapping)\n",
    "\n",
    "profile.head(10)"
   ]
  },
  {
   "cell_type": "markdown",
   "metadata": {},
   "source": [
    "### Transcript:\n",
    "\n",
    "__*Items to Address*__\n",
    "\n",
    "1. *Rename 'person' column to 'customer_id' to match field name in the profile dataframe.*\n",
    "2. *Convert 'value' column from dictionary to single value columns.*"
   ]
  },
  {
   "cell_type": "markdown",
   "metadata": {},
   "source": [
    "**Task #1:** Rename 'person' to 'customer_id' to align with the profile dataframe. "
   ]
  },
  {
   "cell_type": "code",
   "execution_count": 3475,
   "metadata": {},
   "outputs": [],
   "source": [
    "transcript = transcript.rename(columns = {'person': 'customer_id'})"
   ]
  },
  {
   "cell_type": "markdown",
   "metadata": {},
   "source": [
    "**Task #2:** Convert 'value' from a dictionary into more usable columns. \n",
    "\n",
    "*First*, notice that the dictionary has two different keys indicating the same thing: 'offer id' and 'offer_id'. Let's correct the keys so that there is only one version: 'offer_id'. "
   ]
  },
  {
   "cell_type": "code",
   "execution_count": 3476,
   "metadata": {},
   "outputs": [],
   "source": [
    "# Function to correct the key 'offer id' to 'offer_id'\n",
    "def correct_key(dictionary):\n",
    "    if 'offer id' in dictionary:\n",
    "        dictionary['offer_id'] = dictionary.pop('offer id')\n",
    "    return dictionary"
   ]
  },
  {
   "cell_type": "code",
   "execution_count": 3477,
   "metadata": {},
   "outputs": [],
   "source": [
    "# Apply the function to the dictionary column\n",
    "transcript['value'] = transcript['value'].apply(correct_key)"
   ]
  },
  {
   "cell_type": "markdown",
   "metadata": {},
   "source": [
    "*Second*, let's expand the dictionary 'value' column into multiple columns representing each key and the respective values. We will keep the original 'value' column for reference for the time being. "
   ]
  },
  {
   "cell_type": "code",
   "execution_count": 3478,
   "metadata": {},
   "outputs": [
    {
     "data": {
      "text/html": [
       "<div>\n",
       "<style scoped>\n",
       "    .dataframe tbody tr th:only-of-type {\n",
       "        vertical-align: middle;\n",
       "    }\n",
       "\n",
       "    .dataframe tbody tr th {\n",
       "        vertical-align: top;\n",
       "    }\n",
       "\n",
       "    .dataframe thead th {\n",
       "        text-align: right;\n",
       "    }\n",
       "</style>\n",
       "<table border=\"1\" class=\"dataframe\">\n",
       "  <thead>\n",
       "    <tr style=\"text-align: right;\">\n",
       "      <th></th>\n",
       "      <th>customer_id</th>\n",
       "      <th>event</th>\n",
       "      <th>value</th>\n",
       "      <th>time</th>\n",
       "      <th>offer_id</th>\n",
       "      <th>amount</th>\n",
       "      <th>reward</th>\n",
       "    </tr>\n",
       "  </thead>\n",
       "  <tbody>\n",
       "    <tr>\n",
       "      <th>0</th>\n",
       "      <td>78afa995795e4d85b5d9ceeca43f5fef</td>\n",
       "      <td>offer received</td>\n",
       "      <td>{'offer_id': '9b98b8c7a33c4b65b9aebfe6a799e6d9'}</td>\n",
       "      <td>0</td>\n",
       "      <td>9b98b8c7a33c4b65b9aebfe6a799e6d9</td>\n",
       "      <td>NaN</td>\n",
       "      <td>NaN</td>\n",
       "    </tr>\n",
       "    <tr>\n",
       "      <th>1</th>\n",
       "      <td>a03223e636434f42ac4c3df47e8bac43</td>\n",
       "      <td>offer received</td>\n",
       "      <td>{'offer_id': '0b1e1539f2cc45b7b9fa7c272da2e1d7'}</td>\n",
       "      <td>0</td>\n",
       "      <td>0b1e1539f2cc45b7b9fa7c272da2e1d7</td>\n",
       "      <td>NaN</td>\n",
       "      <td>NaN</td>\n",
       "    </tr>\n",
       "    <tr>\n",
       "      <th>2</th>\n",
       "      <td>e2127556f4f64592b11af22de27a7932</td>\n",
       "      <td>offer received</td>\n",
       "      <td>{'offer_id': '2906b810c7d4411798c6938adc9daaa5'}</td>\n",
       "      <td>0</td>\n",
       "      <td>2906b810c7d4411798c6938adc9daaa5</td>\n",
       "      <td>NaN</td>\n",
       "      <td>NaN</td>\n",
       "    </tr>\n",
       "    <tr>\n",
       "      <th>3</th>\n",
       "      <td>8ec6ce2a7e7949b1bf142def7d0e0586</td>\n",
       "      <td>offer received</td>\n",
       "      <td>{'offer_id': 'fafdcd668e3743c1bb461111dcafc2a4'}</td>\n",
       "      <td>0</td>\n",
       "      <td>fafdcd668e3743c1bb461111dcafc2a4</td>\n",
       "      <td>NaN</td>\n",
       "      <td>NaN</td>\n",
       "    </tr>\n",
       "    <tr>\n",
       "      <th>4</th>\n",
       "      <td>68617ca6246f4fbc85e91a2a49552598</td>\n",
       "      <td>offer received</td>\n",
       "      <td>{'offer_id': '4d5c57ea9a6940dd891ad53e9dbe8da0'}</td>\n",
       "      <td>0</td>\n",
       "      <td>4d5c57ea9a6940dd891ad53e9dbe8da0</td>\n",
       "      <td>NaN</td>\n",
       "      <td>NaN</td>\n",
       "    </tr>\n",
       "    <tr>\n",
       "      <th>...</th>\n",
       "      <td>...</td>\n",
       "      <td>...</td>\n",
       "      <td>...</td>\n",
       "      <td>...</td>\n",
       "      <td>...</td>\n",
       "      <td>...</td>\n",
       "      <td>...</td>\n",
       "    </tr>\n",
       "    <tr>\n",
       "      <th>306529</th>\n",
       "      <td>b3a1272bc9904337b331bf348c3e8c17</td>\n",
       "      <td>transaction</td>\n",
       "      <td>{'amount': 1.5899999999999999}</td>\n",
       "      <td>714</td>\n",
       "      <td>NaN</td>\n",
       "      <td>1.59</td>\n",
       "      <td>NaN</td>\n",
       "    </tr>\n",
       "    <tr>\n",
       "      <th>306530</th>\n",
       "      <td>68213b08d99a4ae1b0dcb72aebd9aa35</td>\n",
       "      <td>transaction</td>\n",
       "      <td>{'amount': 9.53}</td>\n",
       "      <td>714</td>\n",
       "      <td>NaN</td>\n",
       "      <td>9.53</td>\n",
       "      <td>NaN</td>\n",
       "    </tr>\n",
       "    <tr>\n",
       "      <th>306531</th>\n",
       "      <td>a00058cf10334a308c68e7631c529907</td>\n",
       "      <td>transaction</td>\n",
       "      <td>{'amount': 3.61}</td>\n",
       "      <td>714</td>\n",
       "      <td>NaN</td>\n",
       "      <td>3.61</td>\n",
       "      <td>NaN</td>\n",
       "    </tr>\n",
       "    <tr>\n",
       "      <th>306532</th>\n",
       "      <td>76ddbd6576844afe811f1a3c0fbb5bec</td>\n",
       "      <td>transaction</td>\n",
       "      <td>{'amount': 3.5300000000000002}</td>\n",
       "      <td>714</td>\n",
       "      <td>NaN</td>\n",
       "      <td>3.53</td>\n",
       "      <td>NaN</td>\n",
       "    </tr>\n",
       "    <tr>\n",
       "      <th>306533</th>\n",
       "      <td>c02b10e8752c4d8e9b73f918558531f7</td>\n",
       "      <td>transaction</td>\n",
       "      <td>{'amount': 4.05}</td>\n",
       "      <td>714</td>\n",
       "      <td>NaN</td>\n",
       "      <td>4.05</td>\n",
       "      <td>NaN</td>\n",
       "    </tr>\n",
       "  </tbody>\n",
       "</table>\n",
       "<p>306534 rows × 7 columns</p>\n",
       "</div>"
      ],
      "text/plain": [
       "                             customer_id           event  \\\n",
       "0       78afa995795e4d85b5d9ceeca43f5fef  offer received   \n",
       "1       a03223e636434f42ac4c3df47e8bac43  offer received   \n",
       "2       e2127556f4f64592b11af22de27a7932  offer received   \n",
       "3       8ec6ce2a7e7949b1bf142def7d0e0586  offer received   \n",
       "4       68617ca6246f4fbc85e91a2a49552598  offer received   \n",
       "...                                  ...             ...   \n",
       "306529  b3a1272bc9904337b331bf348c3e8c17     transaction   \n",
       "306530  68213b08d99a4ae1b0dcb72aebd9aa35     transaction   \n",
       "306531  a00058cf10334a308c68e7631c529907     transaction   \n",
       "306532  76ddbd6576844afe811f1a3c0fbb5bec     transaction   \n",
       "306533  c02b10e8752c4d8e9b73f918558531f7     transaction   \n",
       "\n",
       "                                                   value  time  \\\n",
       "0       {'offer_id': '9b98b8c7a33c4b65b9aebfe6a799e6d9'}     0   \n",
       "1       {'offer_id': '0b1e1539f2cc45b7b9fa7c272da2e1d7'}     0   \n",
       "2       {'offer_id': '2906b810c7d4411798c6938adc9daaa5'}     0   \n",
       "3       {'offer_id': 'fafdcd668e3743c1bb461111dcafc2a4'}     0   \n",
       "4       {'offer_id': '4d5c57ea9a6940dd891ad53e9dbe8da0'}     0   \n",
       "...                                                  ...   ...   \n",
       "306529                    {'amount': 1.5899999999999999}   714   \n",
       "306530                                  {'amount': 9.53}   714   \n",
       "306531                                  {'amount': 3.61}   714   \n",
       "306532                    {'amount': 3.5300000000000002}   714   \n",
       "306533                                  {'amount': 4.05}   714   \n",
       "\n",
       "                                offer_id  amount  reward  \n",
       "0       9b98b8c7a33c4b65b9aebfe6a799e6d9     NaN     NaN  \n",
       "1       0b1e1539f2cc45b7b9fa7c272da2e1d7     NaN     NaN  \n",
       "2       2906b810c7d4411798c6938adc9daaa5     NaN     NaN  \n",
       "3       fafdcd668e3743c1bb461111dcafc2a4     NaN     NaN  \n",
       "4       4d5c57ea9a6940dd891ad53e9dbe8da0     NaN     NaN  \n",
       "...                                  ...     ...     ...  \n",
       "306529                               NaN    1.59     NaN  \n",
       "306530                               NaN    9.53     NaN  \n",
       "306531                               NaN    3.61     NaN  \n",
       "306532                               NaN    3.53     NaN  \n",
       "306533                               NaN    4.05     NaN  \n",
       "\n",
       "[306534 rows x 7 columns]"
      ]
     },
     "execution_count": 3478,
     "metadata": {},
     "output_type": "execute_result"
    }
   ],
   "source": [
    "# Function to expand dictionary into columns\n",
    "def expand_dict_columns(df, column_name):\n",
    "    new_cols = df[column_name].apply(pd.Series)\n",
    "    df = pd.concat([df, new_cols], axis=1)\n",
    "    #df = df.drop(column_name, axis=1)\n",
    "    return df\n",
    "\n",
    "# Expand the 'details' column\n",
    "transcript_new = expand_dict_columns(transcript, 'value')\n",
    "\n",
    "# Display the modified DataFrame\n",
    "transcript_new"
   ]
  },
  {
   "cell_type": "markdown",
   "metadata": {},
   "source": [
    "**Follow-Up:** Rename 'reward' to 'reward_earned' to differentiate from 'offer_reward' in the portfolio_new dataframe. Rename 'amount' to 'amount_spent' for clarity."
   ]
  },
  {
   "cell_type": "code",
   "execution_count": 3479,
   "metadata": {},
   "outputs": [
    {
     "data": {
      "text/html": [
       "<div>\n",
       "<style scoped>\n",
       "    .dataframe tbody tr th:only-of-type {\n",
       "        vertical-align: middle;\n",
       "    }\n",
       "\n",
       "    .dataframe tbody tr th {\n",
       "        vertical-align: top;\n",
       "    }\n",
       "\n",
       "    .dataframe thead th {\n",
       "        text-align: right;\n",
       "    }\n",
       "</style>\n",
       "<table border=\"1\" class=\"dataframe\">\n",
       "  <thead>\n",
       "    <tr style=\"text-align: right;\">\n",
       "      <th></th>\n",
       "      <th>customer_id</th>\n",
       "      <th>event</th>\n",
       "      <th>value</th>\n",
       "      <th>time</th>\n",
       "      <th>offer_id</th>\n",
       "      <th>amount_spent</th>\n",
       "      <th>reward_earned</th>\n",
       "    </tr>\n",
       "  </thead>\n",
       "  <tbody>\n",
       "    <tr>\n",
       "      <th>0</th>\n",
       "      <td>78afa995795e4d85b5d9ceeca43f5fef</td>\n",
       "      <td>offer received</td>\n",
       "      <td>{'offer_id': '9b98b8c7a33c4b65b9aebfe6a799e6d9'}</td>\n",
       "      <td>0</td>\n",
       "      <td>9b98b8c7a33c4b65b9aebfe6a799e6d9</td>\n",
       "      <td>NaN</td>\n",
       "      <td>NaN</td>\n",
       "    </tr>\n",
       "    <tr>\n",
       "      <th>1</th>\n",
       "      <td>a03223e636434f42ac4c3df47e8bac43</td>\n",
       "      <td>offer received</td>\n",
       "      <td>{'offer_id': '0b1e1539f2cc45b7b9fa7c272da2e1d7'}</td>\n",
       "      <td>0</td>\n",
       "      <td>0b1e1539f2cc45b7b9fa7c272da2e1d7</td>\n",
       "      <td>NaN</td>\n",
       "      <td>NaN</td>\n",
       "    </tr>\n",
       "    <tr>\n",
       "      <th>2</th>\n",
       "      <td>e2127556f4f64592b11af22de27a7932</td>\n",
       "      <td>offer received</td>\n",
       "      <td>{'offer_id': '2906b810c7d4411798c6938adc9daaa5'}</td>\n",
       "      <td>0</td>\n",
       "      <td>2906b810c7d4411798c6938adc9daaa5</td>\n",
       "      <td>NaN</td>\n",
       "      <td>NaN</td>\n",
       "    </tr>\n",
       "    <tr>\n",
       "      <th>3</th>\n",
       "      <td>8ec6ce2a7e7949b1bf142def7d0e0586</td>\n",
       "      <td>offer received</td>\n",
       "      <td>{'offer_id': 'fafdcd668e3743c1bb461111dcafc2a4'}</td>\n",
       "      <td>0</td>\n",
       "      <td>fafdcd668e3743c1bb461111dcafc2a4</td>\n",
       "      <td>NaN</td>\n",
       "      <td>NaN</td>\n",
       "    </tr>\n",
       "    <tr>\n",
       "      <th>4</th>\n",
       "      <td>68617ca6246f4fbc85e91a2a49552598</td>\n",
       "      <td>offer received</td>\n",
       "      <td>{'offer_id': '4d5c57ea9a6940dd891ad53e9dbe8da0'}</td>\n",
       "      <td>0</td>\n",
       "      <td>4d5c57ea9a6940dd891ad53e9dbe8da0</td>\n",
       "      <td>NaN</td>\n",
       "      <td>NaN</td>\n",
       "    </tr>\n",
       "  </tbody>\n",
       "</table>\n",
       "</div>"
      ],
      "text/plain": [
       "                        customer_id           event  \\\n",
       "0  78afa995795e4d85b5d9ceeca43f5fef  offer received   \n",
       "1  a03223e636434f42ac4c3df47e8bac43  offer received   \n",
       "2  e2127556f4f64592b11af22de27a7932  offer received   \n",
       "3  8ec6ce2a7e7949b1bf142def7d0e0586  offer received   \n",
       "4  68617ca6246f4fbc85e91a2a49552598  offer received   \n",
       "\n",
       "                                              value  time  \\\n",
       "0  {'offer_id': '9b98b8c7a33c4b65b9aebfe6a799e6d9'}     0   \n",
       "1  {'offer_id': '0b1e1539f2cc45b7b9fa7c272da2e1d7'}     0   \n",
       "2  {'offer_id': '2906b810c7d4411798c6938adc9daaa5'}     0   \n",
       "3  {'offer_id': 'fafdcd668e3743c1bb461111dcafc2a4'}     0   \n",
       "4  {'offer_id': '4d5c57ea9a6940dd891ad53e9dbe8da0'}     0   \n",
       "\n",
       "                           offer_id  amount_spent  reward_earned  \n",
       "0  9b98b8c7a33c4b65b9aebfe6a799e6d9           NaN            NaN  \n",
       "1  0b1e1539f2cc45b7b9fa7c272da2e1d7           NaN            NaN  \n",
       "2  2906b810c7d4411798c6938adc9daaa5           NaN            NaN  \n",
       "3  fafdcd668e3743c1bb461111dcafc2a4           NaN            NaN  \n",
       "4  4d5c57ea9a6940dd891ad53e9dbe8da0           NaN            NaN  "
      ]
     },
     "execution_count": 3479,
     "metadata": {},
     "output_type": "execute_result"
    }
   ],
   "source": [
    "transcript_new = transcript_new.rename(columns = {'reward': 'reward_earned', 'amount': 'amount_spent'})\n",
    "transcript_new.head() # confirm change was successful"
   ]
  },
  {
   "cell_type": "markdown",
   "metadata": {},
   "source": [
    "**Follow-Up:** Drop the 'value' column now that we've confirmed the dictionary was successfully converted into key fields containing the corresponding values. "
   ]
  },
  {
   "cell_type": "code",
   "execution_count": 3480,
   "metadata": {},
   "outputs": [
    {
     "data": {
      "text/html": [
       "<div>\n",
       "<style scoped>\n",
       "    .dataframe tbody tr th:only-of-type {\n",
       "        vertical-align: middle;\n",
       "    }\n",
       "\n",
       "    .dataframe tbody tr th {\n",
       "        vertical-align: top;\n",
       "    }\n",
       "\n",
       "    .dataframe thead th {\n",
       "        text-align: right;\n",
       "    }\n",
       "</style>\n",
       "<table border=\"1\" class=\"dataframe\">\n",
       "  <thead>\n",
       "    <tr style=\"text-align: right;\">\n",
       "      <th></th>\n",
       "      <th>customer_id</th>\n",
       "      <th>event</th>\n",
       "      <th>time</th>\n",
       "      <th>offer_id</th>\n",
       "      <th>amount_spent</th>\n",
       "      <th>reward_earned</th>\n",
       "    </tr>\n",
       "  </thead>\n",
       "  <tbody>\n",
       "    <tr>\n",
       "      <th>0</th>\n",
       "      <td>78afa995795e4d85b5d9ceeca43f5fef</td>\n",
       "      <td>offer received</td>\n",
       "      <td>0</td>\n",
       "      <td>9b98b8c7a33c4b65b9aebfe6a799e6d9</td>\n",
       "      <td>NaN</td>\n",
       "      <td>NaN</td>\n",
       "    </tr>\n",
       "    <tr>\n",
       "      <th>1</th>\n",
       "      <td>a03223e636434f42ac4c3df47e8bac43</td>\n",
       "      <td>offer received</td>\n",
       "      <td>0</td>\n",
       "      <td>0b1e1539f2cc45b7b9fa7c272da2e1d7</td>\n",
       "      <td>NaN</td>\n",
       "      <td>NaN</td>\n",
       "    </tr>\n",
       "    <tr>\n",
       "      <th>2</th>\n",
       "      <td>e2127556f4f64592b11af22de27a7932</td>\n",
       "      <td>offer received</td>\n",
       "      <td>0</td>\n",
       "      <td>2906b810c7d4411798c6938adc9daaa5</td>\n",
       "      <td>NaN</td>\n",
       "      <td>NaN</td>\n",
       "    </tr>\n",
       "    <tr>\n",
       "      <th>3</th>\n",
       "      <td>8ec6ce2a7e7949b1bf142def7d0e0586</td>\n",
       "      <td>offer received</td>\n",
       "      <td>0</td>\n",
       "      <td>fafdcd668e3743c1bb461111dcafc2a4</td>\n",
       "      <td>NaN</td>\n",
       "      <td>NaN</td>\n",
       "    </tr>\n",
       "    <tr>\n",
       "      <th>4</th>\n",
       "      <td>68617ca6246f4fbc85e91a2a49552598</td>\n",
       "      <td>offer received</td>\n",
       "      <td>0</td>\n",
       "      <td>4d5c57ea9a6940dd891ad53e9dbe8da0</td>\n",
       "      <td>NaN</td>\n",
       "      <td>NaN</td>\n",
       "    </tr>\n",
       "  </tbody>\n",
       "</table>\n",
       "</div>"
      ],
      "text/plain": [
       "                        customer_id           event  time  \\\n",
       "0  78afa995795e4d85b5d9ceeca43f5fef  offer received     0   \n",
       "1  a03223e636434f42ac4c3df47e8bac43  offer received     0   \n",
       "2  e2127556f4f64592b11af22de27a7932  offer received     0   \n",
       "3  8ec6ce2a7e7949b1bf142def7d0e0586  offer received     0   \n",
       "4  68617ca6246f4fbc85e91a2a49552598  offer received     0   \n",
       "\n",
       "                           offer_id  amount_spent  reward_earned  \n",
       "0  9b98b8c7a33c4b65b9aebfe6a799e6d9           NaN            NaN  \n",
       "1  0b1e1539f2cc45b7b9fa7c272da2e1d7           NaN            NaN  \n",
       "2  2906b810c7d4411798c6938adc9daaa5           NaN            NaN  \n",
       "3  fafdcd668e3743c1bb461111dcafc2a4           NaN            NaN  \n",
       "4  4d5c57ea9a6940dd891ad53e9dbe8da0           NaN            NaN  "
      ]
     },
     "execution_count": 3480,
     "metadata": {},
     "output_type": "execute_result"
    }
   ],
   "source": [
    "transcript_new = transcript_new.drop(['value'], axis = 1)\n",
    "transcript_new.head() # confirm change was successful"
   ]
  },
  {
   "cell_type": "markdown",
   "metadata": {},
   "source": [
    "### Combine Dataframes:\n",
    "\n",
    "**Merge** portfolio_new, profile / null_profiles / complete_profiles, and transcript_new into one dataframe for (1) all users, (2) users with null profiles, and (3) users with complete profiles.\n",
    "\n",
    "**1. All Users:**"
   ]
  },
  {
   "cell_type": "code",
   "execution_count": 3481,
   "metadata": {},
   "outputs": [
    {
     "name": "stdout",
     "output_type": "stream",
     "text": [
      "Head:\n",
      "                        customer_id           event  time  \\\n",
      "0  78afa995795e4d85b5d9ceeca43f5fef  offer received     0   \n",
      "1  a03223e636434f42ac4c3df47e8bac43  offer received     0   \n",
      "2  e2127556f4f64592b11af22de27a7932  offer received     0   \n",
      "3  8ec6ce2a7e7949b1bf142def7d0e0586  offer received     0   \n",
      "4  68617ca6246f4fbc85e91a2a49552598  offer received     0   \n",
      "\n",
      "                           offer_id  amount_spent  reward_earned gender  age  \\\n",
      "0  9b98b8c7a33c4b65b9aebfe6a799e6d9           NaN            NaN      F   75   \n",
      "1  0b1e1539f2cc45b7b9fa7c272da2e1d7           NaN            NaN   None  118   \n",
      "2  2906b810c7d4411798c6938adc9daaa5           NaN            NaN      M   68   \n",
      "3  fafdcd668e3743c1bb461111dcafc2a4           NaN            NaN   None  118   \n",
      "4  4d5c57ea9a6940dd891ad53e9dbe8da0           NaN            NaN   None  118   \n",
      "\n",
      "  became_member_on    income  ... offer_reward  offer_difficulty  \\\n",
      "0       2017-05-09  100000.0  ...          5.0               5.0   \n",
      "1       2017-08-04       NaN  ...          5.0              20.0   \n",
      "2       2018-04-26   70000.0  ...          2.0              10.0   \n",
      "3       2017-09-25       NaN  ...          2.0              10.0   \n",
      "4       2017-10-02       NaN  ...         10.0              10.0   \n",
      "\n",
      "   offer_duration  offer_type         offer_desc offer_id_num email  mobile  \\\n",
      "0             7.0        bogo        bogo: 5_5_7          3.0  True    True   \n",
      "1            10.0    discount  discount: 5_20_10          4.0  True   False   \n",
      "2             7.0    discount   discount: 2_10_7          9.0  True    True   \n",
      "3            10.0    discount  discount: 2_10_10          6.0  True    True   \n",
      "4             5.0        bogo      bogo: 10_10_5          1.0  True    True   \n",
      "\n",
      "  social   web  \n",
      "0  False  True  \n",
      "1  False  True  \n",
      "2  False  True  \n",
      "3   True  True  \n",
      "4   True  True  \n",
      "\n",
      "[5 rows x 22 columns]\n",
      "\n",
      "Shape: \n",
      "(306534, 22)\n",
      "\n",
      "Column Info:\n",
      "    customer_id\n",
      "        0 nulls, proportion of nulls = 0.0, type = object, nunique = 17000\n",
      "    event\n",
      "        0 nulls, proportion of nulls = 0.0, type = object, nunique = 4\n",
      "    time\n",
      "        0 nulls, proportion of nulls = 0.0, type = int64, nunique = 120\n",
      "    offer_id\n",
      "        138953 nulls, proportion of nulls = 0.45330371182315826, type = object, nunique = 10\n",
      "    amount_spent\n",
      "        167581 nulls, proportion of nulls = 0.5466962881768417, type = float64, nunique = 5103\n",
      "    reward_earned\n",
      "        272955 nulls, proportion of nulls = 0.8904558711268571, type = float64, nunique = 4\n",
      "    gender\n",
      "        33772 nulls, proportion of nulls = 0.11017374907840566, type = object, nunique = 3\n",
      "    age\n",
      "        0 nulls, proportion of nulls = 0.0, type = int64, nunique = 85\n",
      "    became_member_on\n",
      "        0 nulls, proportion of nulls = 0.0, type = datetime64[ns], nunique = 1716\n",
      "    income\n",
      "        33772 nulls, proportion of nulls = 0.11017374907840566, type = float64, nunique = 91\n",
      "    member_join_year\n",
      "        0 nulls, proportion of nulls = 0.0, type = object, nunique = 6\n",
      "    customer_id_num\n",
      "        0 nulls, proportion of nulls = 0.0, type = int64, nunique = 17000\n",
      "    offer_reward\n",
      "        138953 nulls, proportion of nulls = 0.45330371182315826, type = float64, nunique = 5\n",
      "    offer_difficulty\n",
      "        138953 nulls, proportion of nulls = 0.45330371182315826, type = float64, nunique = 5\n",
      "    offer_duration\n",
      "        138953 nulls, proportion of nulls = 0.45330371182315826, type = float64, nunique = 5\n",
      "    offer_type\n",
      "        138953 nulls, proportion of nulls = 0.45330371182315826, type = object, nunique = 3\n",
      "    offer_desc\n",
      "        138953 nulls, proportion of nulls = 0.45330371182315826, type = object, nunique = 10\n",
      "    offer_id_num\n",
      "        138953 nulls, proportion of nulls = 0.45330371182315826, type = float64, nunique = 10\n",
      "    email\n",
      "        138953 nulls, proportion of nulls = 0.45330371182315826, type = object, nunique = 1\n",
      "    mobile\n",
      "        138953 nulls, proportion of nulls = 0.45330371182315826, type = object, nunique = 2\n",
      "    social\n",
      "        138953 nulls, proportion of nulls = 0.45330371182315826, type = object, nunique = 2\n",
      "    web\n",
      "        138953 nulls, proportion of nulls = 0.45330371182315826, type = object, nunique = 2\n",
      "\n",
      "Descriptive Statistics:\n",
      "                time   amount_spent  reward_earned            age  \\\n",
      "count  306534.000000  138953.000000   33579.000000  306534.000000   \n",
      "mean      366.382940      12.777356       4.904137      60.909367   \n",
      "min         0.000000       0.050000       2.000000      18.000000   \n",
      "25%       186.000000       2.780000       2.000000      43.000000   \n",
      "50%       408.000000       8.890000       5.000000      57.000000   \n",
      "75%       528.000000      18.070000       5.000000      72.000000   \n",
      "max       714.000000    1062.280000      10.000000     118.000000   \n",
      "std       200.326314      30.250529       2.886647      26.032030   \n",
      "\n",
      "                    became_member_on         income  customer_id_num  \\\n",
      "count                         306534  272762.000000    306534.000000   \n",
      "mean   2016-12-28 01:22:03.830961664   64337.000755      8500.102374   \n",
      "min              2013-07-29 00:00:00   30000.000000         0.000000   \n",
      "25%              2016-03-22 00:00:00   48000.000000      4264.000000   \n",
      "50%              2017-04-13 00:00:00   62000.000000      8498.000000   \n",
      "75%              2017-11-26 00:00:00   78000.000000     12730.000000   \n",
      "max              2018-07-26 00:00:00  120000.000000     16999.000000   \n",
      "std                              NaN   21243.762941      4901.913992   \n",
      "\n",
      "       offer_reward  offer_difficulty  offer_duration   offer_id_num  \n",
      "count  167581.00000     167581.000000   167581.000000  167581.000000  \n",
      "mean        4.41991          7.850401        6.610737       4.550522  \n",
      "min         0.00000          0.000000        3.000000       0.000000  \n",
      "25%         2.00000          5.000000        5.000000       2.000000  \n",
      "50%         5.00000         10.000000        7.000000       5.000000  \n",
      "75%         5.00000         10.000000        7.000000       7.000000  \n",
      "max        10.00000         20.000000       10.000000       9.000000  \n",
      "std         3.37336          5.048944        2.136130       2.885785  \n"
     ]
    }
   ],
   "source": [
    "full_df = pd.merge(transcript_new, profile, how = 'left', on = 'customer_id')\n",
    "full_df = pd.merge(full_df, portfolio_new, how = 'left', on = 'offer_id')\n",
    "df_info(full_df) # Confirm merges were successful"
   ]
  },
  {
   "cell_type": "markdown",
   "metadata": {},
   "source": [
    "**Comment:** Merge appears successful. As expected, we have 306,534 rows, which matches the number in the original transcript dataframe. We also have 17,000 unique customer IDs, which matches the number expected."
   ]
  },
  {
   "cell_type": "markdown",
   "metadata": {},
   "source": [
    "**2. Users with Null Profiles:**"
   ]
  },
  {
   "cell_type": "code",
   "execution_count": 3482,
   "metadata": {},
   "outputs": [
    {
     "name": "stdout",
     "output_type": "stream",
     "text": [
      "Head:\n",
      "  gender  age                       customer_id became_member_on  income  \\\n",
      "0   None  118  68be06ca386d4c31939f3a4f0e3dd783       2017-02-12     NaN   \n",
      "1   None  118  68be06ca386d4c31939f3a4f0e3dd783       2017-02-12     NaN   \n",
      "2   None  118  68be06ca386d4c31939f3a4f0e3dd783       2017-02-12     NaN   \n",
      "3   None  118  68be06ca386d4c31939f3a4f0e3dd783       2017-02-12     NaN   \n",
      "4   None  118  68be06ca386d4c31939f3a4f0e3dd783       2017-02-12     NaN   \n",
      "\n",
      "  member_join_year           event  time                          offer_id  \\\n",
      "0             2017  offer received   168  2906b810c7d4411798c6938adc9daaa5   \n",
      "1             2017    offer viewed   216  2906b810c7d4411798c6938adc9daaa5   \n",
      "2             2017  offer received   336  0b1e1539f2cc45b7b9fa7c272da2e1d7   \n",
      "3             2017    offer viewed   348  0b1e1539f2cc45b7b9fa7c272da2e1d7   \n",
      "4             2017     transaction   360                               NaN   \n",
      "\n",
      "   amount_spent  ...  offer_reward  offer_difficulty  offer_duration  \\\n",
      "0           NaN  ...           2.0              10.0             7.0   \n",
      "1           NaN  ...           2.0              10.0             7.0   \n",
      "2           NaN  ...           5.0              20.0            10.0   \n",
      "3           NaN  ...           5.0              20.0            10.0   \n",
      "4          0.35  ...           NaN               NaN             NaN   \n",
      "\n",
      "   offer_type         offer_desc offer_id_num  email mobile social   web  \n",
      "0    discount   discount: 2_10_7          9.0   True   True  False  True  \n",
      "1    discount   discount: 2_10_7          9.0   True   True  False  True  \n",
      "2    discount  discount: 5_20_10          4.0   True  False  False  True  \n",
      "3    discount  discount: 5_20_10          4.0   True  False  False  True  \n",
      "4         NaN                NaN          NaN    NaN    NaN    NaN   NaN  \n",
      "\n",
      "[5 rows x 21 columns]\n",
      "\n",
      "Shape: \n",
      "(33772, 21)\n",
      "\n",
      "Column Info:\n",
      "    gender\n",
      "        33772 nulls, proportion of nulls = 1.0, type = object, nunique = 0\n",
      "    age\n",
      "        0 nulls, proportion of nulls = 0.0, type = int64, nunique = 1\n",
      "    customer_id\n",
      "        0 nulls, proportion of nulls = 0.0, type = object, nunique = 2175\n",
      "    became_member_on\n",
      "        0 nulls, proportion of nulls = 0.0, type = datetime64[ns], nunique = 950\n",
      "    income\n",
      "        33772 nulls, proportion of nulls = 1.0, type = float64, nunique = 0\n",
      "    member_join_year\n",
      "        0 nulls, proportion of nulls = 0.0, type = object, nunique = 6\n",
      "    event\n",
      "        0 nulls, proportion of nulls = 0.0, type = object, nunique = 4\n",
      "    time\n",
      "        0 nulls, proportion of nulls = 0.0, type = int64, nunique = 120\n",
      "    offer_id\n",
      "        14996 nulls, proportion of nulls = 0.44403647992419754, type = object, nunique = 10\n",
      "    amount_spent\n",
      "        18776 nulls, proportion of nulls = 0.5559635200758024, type = float64, nunique = 1131\n",
      "    reward_earned\n",
      "        32637 nulls, proportion of nulls = 0.9663922776264361, type = float64, nunique = 4\n",
      "    offer_reward\n",
      "        14996 nulls, proportion of nulls = 0.44403647992419754, type = float64, nunique = 5\n",
      "    offer_difficulty\n",
      "        14996 nulls, proportion of nulls = 0.44403647992419754, type = float64, nunique = 5\n",
      "    offer_duration\n",
      "        14996 nulls, proportion of nulls = 0.44403647992419754, type = float64, nunique = 5\n",
      "    offer_type\n",
      "        14996 nulls, proportion of nulls = 0.44403647992419754, type = object, nunique = 3\n",
      "    offer_desc\n",
      "        14996 nulls, proportion of nulls = 0.44403647992419754, type = object, nunique = 10\n",
      "    offer_id_num\n",
      "        14996 nulls, proportion of nulls = 0.44403647992419754, type = float64, nunique = 10\n",
      "    email\n",
      "        14996 nulls, proportion of nulls = 0.44403647992419754, type = object, nunique = 1\n",
      "    mobile\n",
      "        14996 nulls, proportion of nulls = 0.44403647992419754, type = object, nunique = 2\n",
      "    social\n",
      "        14996 nulls, proportion of nulls = 0.44403647992419754, type = object, nunique = 2\n",
      "    web\n",
      "        14996 nulls, proportion of nulls = 0.44403647992419754, type = object, nunique = 2\n",
      "\n",
      "Descriptive Statistics:\n",
      "           age               became_member_on  income          time  \\\n",
      "count  33772.0                          33772     0.0  33772.000000   \n",
      "mean     118.0  2017-02-17 08:01:54.272178176     NaN    363.760038   \n",
      "min      118.0            2013-08-02 00:00:00     NaN      0.000000   \n",
      "25%      118.0            2016-05-08 00:00:00     NaN    180.000000   \n",
      "50%      118.0            2017-05-06 00:00:00     NaN    408.000000   \n",
      "75%      118.0            2017-11-28 00:00:00     NaN    522.000000   \n",
      "max      118.0            2018-07-26 00:00:00     NaN    714.000000   \n",
      "std        0.0                            NaN     NaN    200.045060   \n",
      "\n",
      "       amount_spent  reward_earned  offer_reward  offer_difficulty  \\\n",
      "count  14996.000000    1135.000000  18776.000000      18776.000000   \n",
      "mean       2.701358       3.643172      4.241319          7.532115   \n",
      "min        0.050000       2.000000      0.000000          0.000000   \n",
      "25%        0.740000       2.000000      2.000000          5.000000   \n",
      "50%        1.710000       3.000000      3.000000          7.000000   \n",
      "75%        3.292500       5.000000      5.000000         10.000000   \n",
      "max      161.440000      10.000000     10.000000         20.000000   \n",
      "std        5.755461       1.894596      3.376030          5.097801   \n",
      "\n",
      "       offer_duration  offer_id_num  \n",
      "count    18776.000000  18776.000000  \n",
      "mean         6.496059      4.586866  \n",
      "min          3.000000      0.000000  \n",
      "25%          5.000000      2.000000  \n",
      "50%          7.000000      5.000000  \n",
      "75%          7.000000      7.000000  \n",
      "max         10.000000      9.000000  \n",
      "std          2.157126      2.866867  \n"
     ]
    }
   ],
   "source": [
    "null_df = pd.merge(null_profiles, transcript_new, how = 'left', on = 'customer_id')\n",
    "null_df = pd.merge(null_df, portfolio_new, how = 'left', on = 'offer_id')\n",
    "df_info(null_df) # Confirm merges were successful"
   ]
  },
  {
   "cell_type": "markdown",
   "metadata": {},
   "source": [
    "**Comment:** Merge appears successful. As expected, we have 2,175 unique customer IDs corresponding to users with null profiles. "
   ]
  },
  {
   "cell_type": "markdown",
   "metadata": {},
   "source": [
    "**3. Users with Complete Profiles:**"
   ]
  },
  {
   "cell_type": "code",
   "execution_count": 3483,
   "metadata": {},
   "outputs": [
    {
     "name": "stdout",
     "output_type": "stream",
     "text": [
      "Head:\n",
      "  gender  age                       customer_id became_member_on    income  \\\n",
      "0      F   55  0610b486422d4921ae7d2bf64640c50b       2017-07-15  112000.0   \n",
      "1      F   55  0610b486422d4921ae7d2bf64640c50b       2017-07-15  112000.0   \n",
      "2      F   55  0610b486422d4921ae7d2bf64640c50b       2017-07-15  112000.0   \n",
      "3      F   55  0610b486422d4921ae7d2bf64640c50b       2017-07-15  112000.0   \n",
      "4      F   55  0610b486422d4921ae7d2bf64640c50b       2017-07-15  112000.0   \n",
      "\n",
      "  member_join_year           event  time                          offer_id  \\\n",
      "0             2017     transaction    18                               NaN   \n",
      "1             2017     transaction   144                               NaN   \n",
      "2             2017  offer received   408  9b98b8c7a33c4b65b9aebfe6a799e6d9   \n",
      "3             2017  offer received   504  3f207df678b143eea3cee63160fa8bed   \n",
      "4             2017     transaction   528                               NaN   \n",
      "\n",
      "   amount_spent  ...  offer_reward  offer_difficulty  offer_duration  \\\n",
      "0         21.51  ...           NaN               NaN             NaN   \n",
      "1         32.28  ...           NaN               NaN             NaN   \n",
      "2           NaN  ...           5.0               5.0             7.0   \n",
      "3           NaN  ...           0.0               0.0             4.0   \n",
      "4         23.22  ...           NaN               NaN             NaN   \n",
      "\n",
      "      offer_type            offer_desc offer_id_num  email mobile social   web  \n",
      "0            NaN                   NaN          NaN    NaN    NaN    NaN   NaN  \n",
      "1            NaN                   NaN          NaN    NaN    NaN    NaN   NaN  \n",
      "2           bogo           bogo: 5_5_7          3.0   True   True  False  True  \n",
      "3  informational  informational: 0_0_4          2.0   True   True  False  True  \n",
      "4            NaN                   NaN          NaN    NaN    NaN    NaN   NaN  \n",
      "\n",
      "[5 rows x 21 columns]\n",
      "\n",
      "Shape: \n",
      "(272762, 21)\n",
      "\n",
      "Column Info:\n",
      "    gender\n",
      "        0 nulls, proportion of nulls = 0.0, type = object, nunique = 3\n",
      "    age\n",
      "        0 nulls, proportion of nulls = 0.0, type = int64, nunique = 84\n",
      "    customer_id\n",
      "        0 nulls, proportion of nulls = 0.0, type = object, nunique = 14825\n",
      "    became_member_on\n",
      "        0 nulls, proportion of nulls = 0.0, type = datetime64[ns], nunique = 1707\n",
      "    income\n",
      "        0 nulls, proportion of nulls = 0.0, type = float64, nunique = 91\n",
      "    member_join_year\n",
      "        0 nulls, proportion of nulls = 0.0, type = object, nunique = 6\n",
      "    event\n",
      "        0 nulls, proportion of nulls = 0.0, type = object, nunique = 4\n",
      "    time\n",
      "        0 nulls, proportion of nulls = 0.0, type = int64, nunique = 120\n",
      "    offer_id\n",
      "        123957 nulls, proportion of nulls = 0.4544511332223697, type = object, nunique = 10\n",
      "    amount_spent\n",
      "        148805 nulls, proportion of nulls = 0.5455488667776304, type = float64, nunique = 5036\n",
      "    reward_earned\n",
      "        240318 nulls, proportion of nulls = 0.8810538124812107, type = float64, nunique = 4\n",
      "    offer_reward\n",
      "        123957 nulls, proportion of nulls = 0.4544511332223697, type = float64, nunique = 5\n",
      "    offer_difficulty\n",
      "        123957 nulls, proportion of nulls = 0.4544511332223697, type = float64, nunique = 5\n",
      "    offer_duration\n",
      "        123957 nulls, proportion of nulls = 0.4544511332223697, type = float64, nunique = 5\n",
      "    offer_type\n",
      "        123957 nulls, proportion of nulls = 0.4544511332223697, type = object, nunique = 3\n",
      "    offer_desc\n",
      "        123957 nulls, proportion of nulls = 0.4544511332223697, type = object, nunique = 10\n",
      "    offer_id_num\n",
      "        123957 nulls, proportion of nulls = 0.4544511332223697, type = float64, nunique = 10\n",
      "    email\n",
      "        123957 nulls, proportion of nulls = 0.4544511332223697, type = object, nunique = 1\n",
      "    mobile\n",
      "        123957 nulls, proportion of nulls = 0.4544511332223697, type = object, nunique = 2\n",
      "    social\n",
      "        123957 nulls, proportion of nulls = 0.4544511332223697, type = object, nunique = 2\n",
      "    web\n",
      "        123957 nulls, proportion of nulls = 0.4544511332223697, type = object, nunique = 2\n",
      "\n",
      "Descriptive Statistics:\n",
      "                 age               became_member_on         income  \\\n",
      "count  272762.000000                         272762  272762.000000   \n",
      "mean       53.840696  2016-12-21 16:59:35.477522432   64337.000755   \n",
      "min        18.000000            2013-07-29 00:00:00   30000.000000   \n",
      "25%        41.000000            2016-03-16 00:00:00   48000.000000   \n",
      "50%        55.000000            2017-04-11 00:00:00   62000.000000   \n",
      "75%        66.000000            2017-11-26 00:00:00   78000.000000   \n",
      "max       101.000000            2018-07-26 00:00:00  120000.000000   \n",
      "std        17.551337                            NaN   21243.762941   \n",
      "\n",
      "                time   amount_spent  reward_earned   offer_reward  \\\n",
      "count  272762.000000  123957.000000   32444.000000  148805.000000   \n",
      "mean      366.707694      13.996325       4.948249       4.442445   \n",
      "min         0.000000       0.050000       2.000000       0.000000   \n",
      "25%       186.000000       3.660000       2.000000       2.000000   \n",
      "50%       408.000000      10.800000       5.000000       5.000000   \n",
      "75%       528.000000      19.130000       5.000000       5.000000   \n",
      "max       714.000000    1062.280000      10.000000      10.000000   \n",
      "std       200.359087      31.749420       2.905376       3.372362   \n",
      "\n",
      "       offer_difficulty  offer_duration   offer_id_num  \n",
      "count     148805.000000   148805.000000  148805.000000  \n",
      "mean           7.890561        6.625207       4.545936  \n",
      "min            0.000000        3.000000       0.000000  \n",
      "25%            5.000000        5.000000       2.000000  \n",
      "50%           10.000000        7.000000       5.000000  \n",
      "75%           10.000000        7.000000       7.000000  \n",
      "max           20.000000       10.000000       9.000000  \n",
      "std            5.041335        2.133035       2.888141  \n"
     ]
    }
   ],
   "source": [
    "complete_df = pd.merge(complete_profiles, transcript_new, how = 'left', on = 'customer_id')\n",
    "complete_df = pd.merge(complete_df, portfolio_new, how = 'left', on = 'offer_id')\n",
    "df_info(complete_df) # Confirm merges were successful"
   ]
  },
  {
   "cell_type": "markdown",
   "metadata": {},
   "source": [
    "**Comment:** As expected, we have the remainder of the 306,504 events not accounted for by null profiles (272,762) and the remainder of the 17,000 unique customer IDs not accounted for in the 2,175 null profiles (14,825).\n",
    "\n",
    "**Follow-Up Question:** What percentage of offers does each type of user (all profiles, null profiles, and complete profiles) complete?"
   ]
  },
  {
   "cell_type": "code",
   "execution_count": 3484,
   "metadata": {},
   "outputs": [],
   "source": [
    "events_all = full_df['event'].value_counts()\n",
    "events_null = null_df['event'].value_counts()\n",
    "events_complete = complete_df['event'].value_counts()"
   ]
  },
  {
   "cell_type": "code",
   "execution_count": 3485,
   "metadata": {},
   "outputs": [
    {
     "data": {
      "image/png": "[encoded data removed]",
      "text/plain": [
       "<Figure size 2000x500 with 3 Axes>"
      ]
     },
     "metadata": {},
     "output_type": "display_data"
    }
   ],
   "source": [
    "plt.figure(figsize=(20, 5))\n",
    "plt.subplot(1, 3, 1)\n",
    "plt.bar(events_all.index, events_all.values)\n",
    "plt.xlabel('Event')\n",
    "plt.ylabel('Count')\n",
    "plt.title('Event Counts and Ratios for All Users')\n",
    "for i, value in enumerate(events_all.values):\n",
    "    ratio = value / events_all.sum()\n",
    "    plt.text(i, value + 1, f'{ratio:.1%}', ha='center', va='bottom')\n",
    "\n",
    "plt.subplot(1, 3, 2)\n",
    "plt.bar(events_complete.index, events_complete.values)\n",
    "plt.xlabel('Event')\n",
    "plt.ylabel('Count')\n",
    "plt.title('Event Counts and Ratios for Users with Complete Profiles')\n",
    "for i, value in enumerate(events_complete.values):\n",
    "    ratio = value / events_complete.sum()\n",
    "    plt.text(i, value + 1, f'{ratio:.1%}', ha='center', va='bottom')\n",
    "\n",
    "plt.subplot(1, 3, 3)\n",
    "plt.bar(events_null.index, events_null.values)\n",
    "plt.xlabel('Event')\n",
    "plt.ylabel('Count')\n",
    "plt.title('Event Counts and Ratios for Users with Null Profiles')\n",
    "for i, value in enumerate(events_null.values):\n",
    "    ratio = value / events_null.sum()\n",
    "    plt.text(i, value + 1, f'{ratio:.1%}', ha='center', va='bottom')"
   ]
  },
  {
   "cell_type": "markdown",
   "metadata": {},
   "source": [
    "**Comment:** Wow! Interestingly, only 3.4% of events for users with null profiles are offer completions, compared to 11.0% for the full user population, and 11.9% for the portion of users with complete profiles. The subset of users with null profiles seems to behave differently than users with complete profiles. This difference in engagement may be important to account for in a model. \n",
    "\n",
    "**Follow-Up:** Add a 'profile_complete' flag to full_df to differentiate between complete and null profiles. "
   ]
  },
  {
   "cell_type": "code",
   "execution_count": 3486,
   "metadata": {},
   "outputs": [
    {
     "data": {
      "text/html": [
       "<div>\n",
       "<style scoped>\n",
       "    .dataframe tbody tr th:only-of-type {\n",
       "        vertical-align: middle;\n",
       "    }\n",
       "\n",
       "    .dataframe tbody tr th {\n",
       "        vertical-align: top;\n",
       "    }\n",
       "\n",
       "    .dataframe thead th {\n",
       "        text-align: right;\n",
       "    }\n",
       "</style>\n",
       "<table border=\"1\" class=\"dataframe\">\n",
       "  <thead>\n",
       "    <tr style=\"text-align: right;\">\n",
       "      <th></th>\n",
       "      <th>customer_id</th>\n",
       "      <th>event</th>\n",
       "      <th>time</th>\n",
       "      <th>offer_id</th>\n",
       "      <th>amount_spent</th>\n",
       "      <th>reward_earned</th>\n",
       "      <th>gender</th>\n",
       "      <th>age</th>\n",
       "      <th>became_member_on</th>\n",
       "      <th>income</th>\n",
       "      <th>...</th>\n",
       "      <th>offer_difficulty</th>\n",
       "      <th>offer_duration</th>\n",
       "      <th>offer_type</th>\n",
       "      <th>offer_desc</th>\n",
       "      <th>offer_id_num</th>\n",
       "      <th>email</th>\n",
       "      <th>mobile</th>\n",
       "      <th>social</th>\n",
       "      <th>web</th>\n",
       "      <th>profile_complete</th>\n",
       "    </tr>\n",
       "  </thead>\n",
       "  <tbody>\n",
       "    <tr>\n",
       "      <th>0</th>\n",
       "      <td>78afa995795e4d85b5d9ceeca43f5fef</td>\n",
       "      <td>offer received</td>\n",
       "      <td>0</td>\n",
       "      <td>9b98b8c7a33c4b65b9aebfe6a799e6d9</td>\n",
       "      <td>NaN</td>\n",
       "      <td>NaN</td>\n",
       "      <td>F</td>\n",
       "      <td>75</td>\n",
       "      <td>2017-05-09</td>\n",
       "      <td>100000.0</td>\n",
       "      <td>...</td>\n",
       "      <td>5.0</td>\n",
       "      <td>7.0</td>\n",
       "      <td>bogo</td>\n",
       "      <td>bogo: 5_5_7</td>\n",
       "      <td>3.0</td>\n",
       "      <td>True</td>\n",
       "      <td>True</td>\n",
       "      <td>False</td>\n",
       "      <td>True</td>\n",
       "      <td>1</td>\n",
       "    </tr>\n",
       "    <tr>\n",
       "      <th>1</th>\n",
       "      <td>a03223e636434f42ac4c3df47e8bac43</td>\n",
       "      <td>offer received</td>\n",
       "      <td>0</td>\n",
       "      <td>0b1e1539f2cc45b7b9fa7c272da2e1d7</td>\n",
       "      <td>NaN</td>\n",
       "      <td>NaN</td>\n",
       "      <td>None</td>\n",
       "      <td>118</td>\n",
       "      <td>2017-08-04</td>\n",
       "      <td>NaN</td>\n",
       "      <td>...</td>\n",
       "      <td>20.0</td>\n",
       "      <td>10.0</td>\n",
       "      <td>discount</td>\n",
       "      <td>discount: 5_20_10</td>\n",
       "      <td>4.0</td>\n",
       "      <td>True</td>\n",
       "      <td>False</td>\n",
       "      <td>False</td>\n",
       "      <td>True</td>\n",
       "      <td>0</td>\n",
       "    </tr>\n",
       "    <tr>\n",
       "      <th>2</th>\n",
       "      <td>e2127556f4f64592b11af22de27a7932</td>\n",
       "      <td>offer received</td>\n",
       "      <td>0</td>\n",
       "      <td>2906b810c7d4411798c6938adc9daaa5</td>\n",
       "      <td>NaN</td>\n",
       "      <td>NaN</td>\n",
       "      <td>M</td>\n",
       "      <td>68</td>\n",
       "      <td>2018-04-26</td>\n",
       "      <td>70000.0</td>\n",
       "      <td>...</td>\n",
       "      <td>10.0</td>\n",
       "      <td>7.0</td>\n",
       "      <td>discount</td>\n",
       "      <td>discount: 2_10_7</td>\n",
       "      <td>9.0</td>\n",
       "      <td>True</td>\n",
       "      <td>True</td>\n",
       "      <td>False</td>\n",
       "      <td>True</td>\n",
       "      <td>1</td>\n",
       "    </tr>\n",
       "    <tr>\n",
       "      <th>3</th>\n",
       "      <td>8ec6ce2a7e7949b1bf142def7d0e0586</td>\n",
       "      <td>offer received</td>\n",
       "      <td>0</td>\n",
       "      <td>fafdcd668e3743c1bb461111dcafc2a4</td>\n",
       "      <td>NaN</td>\n",
       "      <td>NaN</td>\n",
       "      <td>None</td>\n",
       "      <td>118</td>\n",
       "      <td>2017-09-25</td>\n",
       "      <td>NaN</td>\n",
       "      <td>...</td>\n",
       "      <td>10.0</td>\n",
       "      <td>10.0</td>\n",
       "      <td>discount</td>\n",
       "      <td>discount: 2_10_10</td>\n",
       "      <td>6.0</td>\n",
       "      <td>True</td>\n",
       "      <td>True</td>\n",
       "      <td>True</td>\n",
       "      <td>True</td>\n",
       "      <td>0</td>\n",
       "    </tr>\n",
       "    <tr>\n",
       "      <th>4</th>\n",
       "      <td>68617ca6246f4fbc85e91a2a49552598</td>\n",
       "      <td>offer received</td>\n",
       "      <td>0</td>\n",
       "      <td>4d5c57ea9a6940dd891ad53e9dbe8da0</td>\n",
       "      <td>NaN</td>\n",
       "      <td>NaN</td>\n",
       "      <td>None</td>\n",
       "      <td>118</td>\n",
       "      <td>2017-10-02</td>\n",
       "      <td>NaN</td>\n",
       "      <td>...</td>\n",
       "      <td>10.0</td>\n",
       "      <td>5.0</td>\n",
       "      <td>bogo</td>\n",
       "      <td>bogo: 10_10_5</td>\n",
       "      <td>1.0</td>\n",
       "      <td>True</td>\n",
       "      <td>True</td>\n",
       "      <td>True</td>\n",
       "      <td>True</td>\n",
       "      <td>0</td>\n",
       "    </tr>\n",
       "  </tbody>\n",
       "</table>\n",
       "<p>5 rows × 23 columns</p>\n",
       "</div>"
      ],
      "text/plain": [
       "                        customer_id           event  time  \\\n",
       "0  78afa995795e4d85b5d9ceeca43f5fef  offer received     0   \n",
       "1  a03223e636434f42ac4c3df47e8bac43  offer received     0   \n",
       "2  e2127556f4f64592b11af22de27a7932  offer received     0   \n",
       "3  8ec6ce2a7e7949b1bf142def7d0e0586  offer received     0   \n",
       "4  68617ca6246f4fbc85e91a2a49552598  offer received     0   \n",
       "\n",
       "                           offer_id  amount_spent  reward_earned gender  age  \\\n",
       "0  9b98b8c7a33c4b65b9aebfe6a799e6d9           NaN            NaN      F   75   \n",
       "1  0b1e1539f2cc45b7b9fa7c272da2e1d7           NaN            NaN   None  118   \n",
       "2  2906b810c7d4411798c6938adc9daaa5           NaN            NaN      M   68   \n",
       "3  fafdcd668e3743c1bb461111dcafc2a4           NaN            NaN   None  118   \n",
       "4  4d5c57ea9a6940dd891ad53e9dbe8da0           NaN            NaN   None  118   \n",
       "\n",
       "  became_member_on    income  ... offer_difficulty  offer_duration  \\\n",
       "0       2017-05-09  100000.0  ...              5.0             7.0   \n",
       "1       2017-08-04       NaN  ...             20.0            10.0   \n",
       "2       2018-04-26   70000.0  ...             10.0             7.0   \n",
       "3       2017-09-25       NaN  ...             10.0            10.0   \n",
       "4       2017-10-02       NaN  ...             10.0             5.0   \n",
       "\n",
       "   offer_type         offer_desc  offer_id_num email mobile  social   web  \\\n",
       "0        bogo        bogo: 5_5_7           3.0  True   True   False  True   \n",
       "1    discount  discount: 5_20_10           4.0  True  False   False  True   \n",
       "2    discount   discount: 2_10_7           9.0  True   True   False  True   \n",
       "3    discount  discount: 2_10_10           6.0  True   True    True  True   \n",
       "4        bogo      bogo: 10_10_5           1.0  True   True    True  True   \n",
       "\n",
       "  profile_complete  \n",
       "0                1  \n",
       "1                0  \n",
       "2                1  \n",
       "3                0  \n",
       "4                0  \n",
       "\n",
       "[5 rows x 23 columns]"
      ]
     },
     "execution_count": 3486,
     "metadata": {},
     "output_type": "execute_result"
    }
   ],
   "source": [
    "full_df['profile_complete'] = np.where(full_df['age'] == 118, 0, 1)\n",
    "full_df.head() # Confirm the new field was added successfully"
   ]
  },
  {
   "cell_type": "markdown",
   "metadata": {},
   "source": [
    "### Additional Questions to Answer Prior to Modeling:"
   ]
  },
  {
   "cell_type": "markdown",
   "metadata": {},
   "source": [
    "**Question #1:** Which offer occurs the most?"
   ]
  },
  {
   "cell_type": "code",
   "execution_count": 3487,
   "metadata": {},
   "outputs": [
    {
     "data": {
      "image/png": "[encoded data removed]",
      "text/plain": [
       "<Figure size 2000x500 with 1 Axes>"
      ]
     },
     "metadata": {},
     "output_type": "display_data"
    }
   ],
   "source": [
    "offer_counts_all = full_df['offer_desc'].value_counts()\n",
    "plt.figure(figsize=(20, 5))\n",
    "plt.bar(offer_counts_all.index, offer_counts_all.values)\n",
    "plt.xlabel('Offer')\n",
    "plt.ylabel('Count')\n",
    "plt.title('Offer Occurence')\n",
    "for i in range(len(offer_counts_all.index)):\n",
    "    plt.text(i, offer_counts_all.values[i], str(offer_counts_all.values[i]), ha='center', va='bottom')"
   ]
  },
  {
   "cell_type": "markdown",
   "metadata": {},
   "source": [
    "**Question #2:** Which offer was completed the most?"
   ]
  },
  {
   "cell_type": "code",
   "execution_count": 3488,
   "metadata": {},
   "outputs": [
    {
     "data": {
      "image/png": "[encoded data removed]",
      "text/plain": [
       "<Figure size 2000x500 with 1 Axes>"
      ]
     },
     "metadata": {},
     "output_type": "display_data"
    }
   ],
   "source": [
    "completed_offers = full_df[full_df['event'] == 'offer completed']\n",
    "plt.figure(figsize=(20, 5))\n",
    "ax = sns.countplot(x = 'offer_desc', data = completed_offers, hue = 'offer_type')\n",
    "plt.xlabel('Offer')\n",
    "plt.ylabel('Completions Count')\n",
    "plt.title(\"Offer Completions by Offer Type\")\n",
    "for p in ax.patches:\n",
    "    ax.annotate(f'{p.get_height()}', (p.get_x() + p.get_width() / 2., p.get_height()),\n",
    "                ha='center', va='center', xytext=(0, 5), textcoords='offset points')"
   ]
  },
  {
   "cell_type": "markdown",
   "metadata": {},
   "source": [
    "**Comment:** Only 8 of the 10 offers were actually completed at all. This makes sense given that two of the offers were informational only.\n",
    "\n",
    "**Question 3:** What percentage of users who received informational offers actually viewed them?"
   ]
  },
  {
   "cell_type": "code",
   "execution_count": 3489,
   "metadata": {},
   "outputs": [
    {
     "name": "stdout",
     "output_type": "stream",
     "text": [
      "(26066, 23)                          customer_id           event  time  \\\n",
      "7   2eeac8d8feae4a8cad5a6af0499a211d  offer received     0   \n",
      "13  c27e0d6ab72c455a8bb66d980963de60  offer received     0   \n",
      "31  be8a5d1981a2458d90b255ddc7e0d174  offer received     0   \n",
      "44  a5a6ef2b78a04ddc9f374dd7c7f60bff  offer received     0   \n",
      "53  6e04a90a0e074496b5f229eb1f553433  offer received     0   \n",
      "\n",
      "                            offer_id  amount_spent  reward_earned gender  age  \\\n",
      "7   3f207df678b143eea3cee63160fa8bed           NaN            NaN      M   58   \n",
      "13  3f207df678b143eea3cee63160fa8bed           NaN            NaN      F   78   \n",
      "31  5a8bc65990b245e5a138643cd4eb9837           NaN            NaN      M   39   \n",
      "44  5a8bc65990b245e5a138643cd4eb9837           NaN            NaN      M   75   \n",
      "53  5a8bc65990b245e5a138643cd4eb9837           NaN            NaN      M   27   \n",
      "\n",
      "   became_member_on   income  ... offer_difficulty  offer_duration  \\\n",
      "7        2017-11-11  51000.0  ...              0.0             4.0   \n",
      "13       2017-06-16  71000.0  ...              0.0             4.0   \n",
      "31       2014-05-27  51000.0  ...              0.0             3.0   \n",
      "44       2015-11-29  52000.0  ...              0.0             3.0   \n",
      "53       2018-01-10  35000.0  ...              0.0             3.0   \n",
      "\n",
      "       offer_type            offer_desc  offer_id_num email mobile  social  \\\n",
      "7   informational  informational: 0_0_4           2.0  True   True   False   \n",
      "13  informational  informational: 0_0_4           2.0  True   True   False   \n",
      "31  informational  informational: 0_0_3           7.0  True   True    True   \n",
      "44  informational  informational: 0_0_3           7.0  True   True    True   \n",
      "53  informational  informational: 0_0_3           7.0  True   True    True   \n",
      "\n",
      "      web profile_complete  \n",
      "7    True                1  \n",
      "13   True                1  \n",
      "31  False                1  \n",
      "44  False                1  \n",
      "53  False                1  \n",
      "\n",
      "[5 rows x 23 columns]\n"
     ]
    },
    {
     "data": {
      "text/plain": [
       "np.float64(0.7109287824089268)"
      ]
     },
     "execution_count": 3489,
     "metadata": {},
     "output_type": "execute_result"
    }
   ],
   "source": [
    "informational = full_df[full_df['offer_type'] == 'informational']\n",
    "print(informational.shape, informational.head())\n",
    "\n",
    "informational_event_counts = informational['event'].value_counts()\n",
    "informational_viewed_count = informational_event_counts['offer viewed']\n",
    "informational_received_count = informational_event_counts['offer received']\n",
    "informational_viewed_ratio = informational_viewed_count / informational_received_count\n",
    "informational_viewed_ratio"
   ]
  },
  {
   "cell_type": "markdown",
   "metadata": {},
   "source": [
    "**Answer:** About 71% of the informational offers received by users were actually viewed. \n",
    "\n",
    "**Question 4:** What percentage of users who received BOGO and Discount offers actually viewed them? What percentage also completed them?"
   ]
  },
  {
   "cell_type": "code",
   "execution_count": 3490,
   "metadata": {},
   "outputs": [
    {
     "name": "stdout",
     "output_type": "stream",
     "text": [
      "(71617, 23)                          customer_id           event  time  \\\n",
      "0   78afa995795e4d85b5d9ceeca43f5fef  offer received     0   \n",
      "4   68617ca6246f4fbc85e91a2a49552598  offer received     0   \n",
      "5   389bc3fa690240e798340f5a15918d5c  offer received     0   \n",
      "12  4b0da7e80e5945209a1fdddfe813dbe0  offer received     0   \n",
      "18  ebe7ef46ea6f4963a7dd49f501b26779  offer received     0   \n",
      "\n",
      "                            offer_id  amount_spent  reward_earned gender  age  \\\n",
      "0   9b98b8c7a33c4b65b9aebfe6a799e6d9           NaN            NaN      F   75   \n",
      "4   4d5c57ea9a6940dd891ad53e9dbe8da0           NaN            NaN   None  118   \n",
      "5   f19421c1d4aa40978ebb69ca19b0e20d           NaN            NaN      M   65   \n",
      "12  ae264e3637204a6fb9bb56bc8210ddfd           NaN            NaN      M   64   \n",
      "18  9b98b8c7a33c4b65b9aebfe6a799e6d9           NaN            NaN      M   59   \n",
      "\n",
      "   became_member_on    income  ... offer_difficulty  offer_duration  \\\n",
      "0        2017-05-09  100000.0  ...              5.0             7.0   \n",
      "4        2017-10-02       NaN  ...             10.0             5.0   \n",
      "5        2018-02-09   53000.0  ...              5.0             5.0   \n",
      "12       2017-09-09  100000.0  ...             10.0             7.0   \n",
      "18       2015-01-21   41000.0  ...              5.0             7.0   \n",
      "\n",
      "    offer_type     offer_desc  offer_id_num email mobile  social    web  \\\n",
      "0         bogo    bogo: 5_5_7           3.0  True   True   False   True   \n",
      "4         bogo  bogo: 10_10_5           1.0  True   True    True   True   \n",
      "5         bogo    bogo: 5_5_5           8.0  True   True    True   True   \n",
      "12        bogo  bogo: 10_10_7           0.0  True   True    True  False   \n",
      "18        bogo    bogo: 5_5_7           3.0  True   True   False   True   \n",
      "\n",
      "   profile_complete  \n",
      "0                 1  \n",
      "4                 0  \n",
      "5                 1  \n",
      "12                1  \n",
      "18                1  \n",
      "\n",
      "[5 rows x 23 columns]\n",
      "0.8344208006819895 0.5137545493294862\n"
     ]
    }
   ],
   "source": [
    "bogo = full_df[full_df['offer_type'] == 'bogo']\n",
    "print(bogo.shape, bogo.head())\n",
    "bogo_event_counts = bogo['event'].value_counts()\n",
    "bogo_viewed_count = bogo_event_counts['offer viewed']\n",
    "bogo_received_count = bogo_event_counts['offer received']\n",
    "bogo_completed_count = bogo_event_counts['offer completed']\n",
    "bogo_viewed_ratio = bogo_viewed_count / bogo_received_count\n",
    "bogo_completed_ratio = bogo_completed_count / bogo_received_count\n",
    "print(bogo_viewed_ratio, bogo_completed_ratio)"
   ]
  },
  {
   "cell_type": "code",
   "execution_count": 3491,
   "metadata": {},
   "outputs": [
    {
     "name": "stdout",
     "output_type": "stream",
     "text": [
      "(69898, 23)                         customer_id           event  time  \\\n",
      "1  a03223e636434f42ac4c3df47e8bac43  offer received     0   \n",
      "2  e2127556f4f64592b11af22de27a7932  offer received     0   \n",
      "3  8ec6ce2a7e7949b1bf142def7d0e0586  offer received     0   \n",
      "6  c4863c7985cf408faee930f111475da3  offer received     0   \n",
      "8  aa4862eba776480b8bb9c68455b8c2e1  offer received     0   \n",
      "\n",
      "                           offer_id  amount_spent  reward_earned gender  age  \\\n",
      "1  0b1e1539f2cc45b7b9fa7c272da2e1d7           NaN            NaN   None  118   \n",
      "2  2906b810c7d4411798c6938adc9daaa5           NaN            NaN      M   68   \n",
      "3  fafdcd668e3743c1bb461111dcafc2a4           NaN            NaN   None  118   \n",
      "6  2298d6c36e964ae4a3e7e9706d1fb8c2           NaN            NaN   None  118   \n",
      "8  0b1e1539f2cc45b7b9fa7c272da2e1d7           NaN            NaN      F   61   \n",
      "\n",
      "  became_member_on   income  ... offer_difficulty  offer_duration  offer_type  \\\n",
      "1       2017-08-04      NaN  ...             20.0            10.0    discount   \n",
      "2       2018-04-26  70000.0  ...             10.0             7.0    discount   \n",
      "3       2017-09-25      NaN  ...             10.0            10.0    discount   \n",
      "6       2017-08-24      NaN  ...              7.0             7.0    discount   \n",
      "8       2017-09-11  57000.0  ...             20.0            10.0    discount   \n",
      "\n",
      "          offer_desc  offer_id_num email mobile  social   web profile_complete  \n",
      "1  discount: 5_20_10           4.0  True  False   False  True                0  \n",
      "2   discount: 2_10_7           9.0  True   True   False  True                1  \n",
      "3  discount: 2_10_10           6.0  True   True    True  True                0  \n",
      "6    discount: 3_7_7           5.0  True   True    True  True                0  \n",
      "8  discount: 5_20_10           4.0  True  False   False  True                1  \n",
      "\n",
      "[5 rows x 23 columns]\n",
      "0.702124873129686 0.5863864060504862\n"
     ]
    }
   ],
   "source": [
    "discount = full_df[full_df['offer_type'] == 'discount']\n",
    "print(discount.shape, discount.head())\n",
    "discount_event_counts = discount['event'].value_counts()\n",
    "discount_viewed_count = discount_event_counts['offer viewed']\n",
    "discount_received_count = discount_event_counts['offer received']\n",
    "discount_completed_count = discount_event_counts['offer completed']\n",
    "discount_viewed_ratio = discount_viewed_count / discount_received_count\n",
    "discount_completed_ratio = discount_completed_count / discount_received_count\n",
    "print(discount_viewed_ratio, discount_completed_ratio)"
   ]
  },
  {
   "cell_type": "markdown",
   "metadata": {},
   "source": [
    "**Answer:** 83% of bogo offers received were viewed while only about 51% were actually completed. In contrast, 70% of discount offers received were also viewed, with 58% of them being completed. \n",
    "\n",
    "**Comment:** Despite a smaller percentage of recipients viewing Discount offers, a greater percentage of users completed Discount offers as compared to BOGO offers. \n",
    "\n",
    "**Question 5:** What percentage of total events is attributable to each event and offer type?"
   ]
  },
  {
   "cell_type": "code",
   "execution_count": 3492,
   "metadata": {},
   "outputs": [
    {
     "data": {
      "image/png": "[encoded data removed]",
      "text/plain": [
       "<Figure size 1500x500 with 1 Axes>"
      ]
     },
     "metadata": {},
     "output_type": "display_data"
    }
   ],
   "source": [
    "plt.figure(figsize=(15, 5))\n",
    "ax2 = sns.countplot(x= \"event\", hue= \"offer_type\", data=full_df)\n",
    "sns.set(style=\"darkgrid\")\n",
    "plt.title('Distribution of offer types in events')\n",
    "plt.ylabel('Count')\n",
    "plt.xlabel('Event')\n",
    "plt.legend(title='Offer Type')\n",
    "for p in ax2.patches:\n",
    "    percentage = '{:.1f}%'.format(100 * p.get_height()/total)\n",
    "    x = p.get_x() + p.get_width() / 2\n",
    "    y = p.get_height() + 3  # Adjust vertical offset for label position\n",
    "    ax2.text(x, y, percentage, ha='center')"
   ]
  },
  {
   "cell_type": "markdown",
   "metadata": {},
   "source": [
    "**Answer:** More than 45% of total events are attributable to regular transactions. Only 5.1% and 5.8% are attributable to BOGO and Discount offers, respectively. The greater rate of Discount offer completion is interesting considering that a smaller percentage of Discount offers received are viewed compared to BOGO.\n",
    "\n",
    "**Question 6:** Does one gender take greater advantage of offers than another? Which type of offer is leveraged more by each gender?"
   ]
  },
  {
   "cell_type": "code",
   "execution_count": 3493,
   "metadata": {},
   "outputs": [
    {
     "data": {
      "image/png": "[encoded data removed]",
      "text/plain": [
       "<Figure size 1200x1500 with 3 Axes>"
      ]
     },
     "metadata": {},
     "output_type": "display_data"
    }
   ],
   "source": [
    "full_df['offer_type'] = full_df['offer_type'].fillna('none')\n",
    "male = full_df[full_df['gender'] == 'M']\n",
    "female = full_df[full_df['gender'] == 'F']\n",
    "other = full_df[full_df['gender'] == 'O']\n",
    "hue_order = ['bogo', 'discount', 'informational', 'none']\n",
    "\n",
    "fig, axes = plt.subplots(nrows=3, ncols=1, figsize=(12, 15))\n",
    "\n",
    "m = sns.countplot(x= \"event\", data=male, hue= \"offer_type\", ax=axes[0], hue_order=hue_order)\n",
    "sns.set(style=\"darkgrid\")\n",
    "axes[0].set_title('Male User Events')\n",
    "axes[0].set_ylabel('Count')\n",
    "axes[0].set_xlabel('')\n",
    "male_total = len(male)\n",
    "for p in m.patches:\n",
    "    percentage = '{:.1f}%'.format(100 * p.get_height()/male_total)\n",
    "    x = p.get_x() + p.get_width() / 2\n",
    "    y = p.get_height() + 3  # Adjust vertical offset for label position\n",
    "    m.text(x, y, percentage, ha='center')\n",
    "\n",
    "#plt.subplot(1, 3, 2)\n",
    "f = sns.countplot(x= \"event\", data=female, hue= \"offer_type\", ax=axes[1], hue_order=hue_order)\n",
    "sns.set(style=\"darkgrid\")\n",
    "axes[1].set_title('Female User Events')\n",
    "axes[1].set_ylabel('Count')\n",
    "axes[1].set_xlabel('')\n",
    "female_total = len(female)\n",
    "for p in f.patches:\n",
    "    percentage = '{:.1f}%'.format(100 * p.get_height()/female_total)\n",
    "    x = p.get_x() + p.get_width() / 2\n",
    "    y = p.get_height() + 3  # Adjust vertical offset for label position\n",
    "    f.text(x, y, percentage, ha='center')\n",
    "\n",
    "#plt.subplot(1, 3, 3)\n",
    "o = sns.countplot(x= \"event\", data=other, hue= \"offer_type\", ax=axes[2], hue_order=hue_order)\n",
    "sns.set(style=\"darkgrid\")\n",
    "axes[2].set_title('Other User Events')\n",
    "axes[2].set_ylabel('Count')\n",
    "axes[2].set_xlabel('')\n",
    "other_total = len(other)\n",
    "for p in o.patches:\n",
    "    percentage = '{:.1f}%'.format(100 * p.get_height()/other_total)\n",
    "    x = p.get_x() + p.get_width() / 2\n",
    "    y = p.get_height() + 3  # Adjust vertical offset for label position\n",
    "    o.text(x, y, percentage, ha='center')"
   ]
  },
  {
   "cell_type": "markdown",
   "metadata": {},
   "source": [
    "**Answer:** Across genders, offer completions make up a higher percentage of all events for female users than male and other gender users: 13.7% total compared to 10.6% and 12.6%, respectively. All gender users complete more discount than BOGO offers. \n",
    "\n",
    "**Question 7:** Does one age group take greater advantage of offers than another? Which type of offer is leveraged more by each age group?\n",
    "\n",
    "**Comment:** We'll use the census age groups, adjusting the lower age ranges into one bracket since the minimum user age is 18. We'll look only at users with complete profiles."
   ]
  },
  {
   "cell_type": "code",
   "execution_count": 3494,
   "metadata": {},
   "outputs": [
    {
     "data": {
      "text/plain": [
       "age_group\n",
       "0-19      3962\n",
       "20-34    40354\n",
       "35-49    59335\n",
       "50-64    92675\n",
       "65+      76436\n",
       "Name: count, dtype: int64"
      ]
     },
     "execution_count": 3494,
     "metadata": {},
     "output_type": "execute_result"
    }
   ],
   "source": [
    "def assign_age_group(row):\n",
    "    if row['age'] < 20:\n",
    "        return '0-19'\n",
    "    elif (row['age'] >= 20) & (row['age'] < 35):\n",
    "        return '20-34'\n",
    "    elif (row['age'] >= 35) & (row['age'] < 50):\n",
    "        return '35-49'\n",
    "    elif (row['age'] >= 50) & (row['age'] < 65):\n",
    "        return '50-64'\n",
    "    else:\n",
    "        return '65+'\n",
    "\n",
    "complete_df['age_group'] = complete_df.apply(assign_age_group, axis=1)\n",
    "\n",
    "complete_df['age_group'].value_counts().sort_index()"
   ]
  },
  {
   "cell_type": "code",
   "execution_count": 3495,
   "metadata": {},
   "outputs": [],
   "source": [
    "complete_df['offer_type'] = complete_df['offer_type'].fillna('none')\n",
    "\n",
    "under20_df = complete_df[complete_df['age_group'] == '0-19']\n",
    "age20to34_df = complete_df[complete_df['age_group'] == '20-34']\n",
    "age35to49_df = complete_df[complete_df['age_group'] == '35-49']\n",
    "age50to64_df = complete_df[complete_df['age_group'] == '50-64']\n",
    "age65up_df = complete_df[complete_df['age_group'] == '65+']"
   ]
  },
  {
   "cell_type": "code",
   "execution_count": 3496,
   "metadata": {},
   "outputs": [
    {
     "data": {
      "image/png": "[encoded data removed]",
      "text/plain": [
       "<Figure size 2000x1500 with 6 Axes>"
      ]
     },
     "metadata": {},
     "output_type": "display_data"
    }
   ],
   "source": [
    "fig, axes = plt.subplots(nrows=3, ncols=2, figsize=(20, 15))\n",
    "\n",
    "total_age = len(complete_df)\n",
    "\n",
    "under20 = sns.countplot(x= \"event\", data=under20_df, hue= \"offer_type\", ax=axes[0, 0])\n",
    "sns.set(style=\"darkgrid\")\n",
    "axes[0, 0].set_title('Under 20 Events')\n",
    "axes[0, 0].set_ylabel('Count')\n",
    "axes[0, 0].set_xlabel('')\n",
    "for p in under20.patches:\n",
    "    percentage = '{:.1f}%'.format(100 * p.get_height()/total_age)\n",
    "    x = p.get_x() + p.get_width() / 2\n",
    "    y = p.get_height() + 3  # Adjust vertical offset for label position\n",
    "    under20.text(x, y, percentage, ha='center')\n",
    "\n",
    "age20to34 = sns.countplot(x= \"event\", data=age20to34_df, hue= \"offer_type\", ax=axes[0, 1])\n",
    "sns.set(style=\"darkgrid\")\n",
    "axes[0, 1].set_title('Age 20-34 Events')\n",
    "axes[0, 1].set_ylabel('Count')\n",
    "axes[0, 1].set_xlabel('')\n",
    "for p in age20to34.patches:\n",
    "    percentage = '{:.1f}%'.format(100 * p.get_height()/total_age)\n",
    "    x = p.get_x() + p.get_width() / 2\n",
    "    y = p.get_height() + 3  # Adjust vertical offset for label position\n",
    "    age20to34.text(x, y, percentage, ha='center')\n",
    "\n",
    "age35to49 = sns.countplot(x= \"event\", data=age35to49_df, hue= \"offer_type\", ax=axes[1, 0])\n",
    "sns.set(style=\"darkgrid\")\n",
    "axes[1, 0].set_title('Age 35-49 Events')\n",
    "axes[1, 0].set_ylabel('Count')\n",
    "axes[1, 0].set_xlabel('')\n",
    "for p in age35to49.patches:\n",
    "    percentage = '{:.1f}%'.format(100 * p.get_height()/total_age)\n",
    "    x = p.get_x() + p.get_width() / 2\n",
    "    y = p.get_height() + 3  # Adjust vertical offset for label position\n",
    "    age35to49.text(x, y, percentage, ha='center')\n",
    "\n",
    "age50to64 = sns.countplot(x= \"event\", data=age50to64_df, hue= \"offer_type\", ax=axes[1, 1])\n",
    "sns.set(style=\"darkgrid\")\n",
    "axes[1, 1].set_title('Age 50-64 Events')\n",
    "axes[1, 1].set_ylabel('Count')\n",
    "axes[1, 1].set_xlabel('')\n",
    "for p in age50to64.patches:\n",
    "    percentage = '{:.1f}%'.format(100 * p.get_height()/total_age)\n",
    "    x = p.get_x() + p.get_width() / 2\n",
    "    y = p.get_height() + 3  # Adjust vertical offset for label position\n",
    "    age50to64.text(x, y, percentage, ha='center')\n",
    "\n",
    "age65up = sns.countplot(x= \"event\", data=age65up_df, hue= \"offer_type\", ax=axes[2, 0])\n",
    "sns.set(style=\"darkgrid\")\n",
    "axes[2, 0].set_title('Age 65+ Events')\n",
    "axes[2, 0].set_ylabel('Count')\n",
    "axes[2, 0].set_xlabel('')\n",
    "for p in age65up.patches:\n",
    "    percentage = '{:.1f}%'.format(100 * p.get_height()/total_age)\n",
    "    x = p.get_x() + p.get_width() / 2\n",
    "    y = p.get_height() + 3  # Adjust vertical offset for label position\n",
    "    age65up.text(x, y, percentage, ha='center')\n"
   ]
  },
  {
   "cell_type": "markdown",
   "metadata": {},
   "source": [
    "## Section 4: Data Modeling"
   ]
  },
  {
   "cell_type": "markdown",
   "metadata": {},
   "source": [
    "### **Goal:** Predict whether a customer will complete an offer or not. \n",
    "\n",
    "#### **Modeling Methods to Use:**\n",
    "\n",
    "1. K-Nearest Neighbors (KNN)\n",
    "2. Random Forest Classifier\n",
    "3. Decision Tree Classifier\n",
    "\n",
    "#### **Process:**\n",
    "\n",
    "1. Split data into train and test data sets.\n",
    "2. Train the model.\n",
    "3. Assess performance. \n",
    "4. Tune the model to improve performance."
   ]
  },
  {
   "cell_type": "markdown",
   "metadata": {},
   "source": [
    "**Step #1:** Split the data into train and test data sets.\n",
    "\n",
    "**First**, let's remove rows that don't have an offer ID since we're focusing on offer interactions. I'd like to compare model results across all three of our data cuts, so we'll do this for the full user population, users with null profiles, and users with complete profiles."
   ]
  },
  {
   "cell_type": "code",
   "execution_count": 3497,
   "metadata": {},
   "outputs": [
    {
     "name": "stdout",
     "output_type": "stream",
     "text": [
      "(306534, 23)\n",
      "(167581, 23)                         customer_id           event  time  \\\n",
      "0  78afa995795e4d85b5d9ceeca43f5fef  offer received     0   \n",
      "1  a03223e636434f42ac4c3df47e8bac43  offer received     0   \n",
      "2  e2127556f4f64592b11af22de27a7932  offer received     0   \n",
      "3  8ec6ce2a7e7949b1bf142def7d0e0586  offer received     0   \n",
      "4  68617ca6246f4fbc85e91a2a49552598  offer received     0   \n",
      "\n",
      "                           offer_id  amount_spent  reward_earned gender  age  \\\n",
      "0  9b98b8c7a33c4b65b9aebfe6a799e6d9           NaN            NaN      F   75   \n",
      "1  0b1e1539f2cc45b7b9fa7c272da2e1d7           NaN            NaN   None  118   \n",
      "2  2906b810c7d4411798c6938adc9daaa5           NaN            NaN      M   68   \n",
      "3  fafdcd668e3743c1bb461111dcafc2a4           NaN            NaN   None  118   \n",
      "4  4d5c57ea9a6940dd891ad53e9dbe8da0           NaN            NaN   None  118   \n",
      "\n",
      "  became_member_on    income  ... offer_difficulty  offer_duration  \\\n",
      "0       2017-05-09  100000.0  ...              5.0             7.0   \n",
      "1       2017-08-04       NaN  ...             20.0            10.0   \n",
      "2       2018-04-26   70000.0  ...             10.0             7.0   \n",
      "3       2017-09-25       NaN  ...             10.0            10.0   \n",
      "4       2017-10-02       NaN  ...             10.0             5.0   \n",
      "\n",
      "   offer_type         offer_desc  offer_id_num email mobile  social   web  \\\n",
      "0        bogo        bogo: 5_5_7           3.0  True   True   False  True   \n",
      "1    discount  discount: 5_20_10           4.0  True  False   False  True   \n",
      "2    discount   discount: 2_10_7           9.0  True   True   False  True   \n",
      "3    discount  discount: 2_10_10           6.0  True   True    True  True   \n",
      "4        bogo      bogo: 10_10_5           1.0  True   True    True  True   \n",
      "\n",
      "  profile_complete  \n",
      "0                1  \n",
      "1                0  \n",
      "2                1  \n",
      "3                0  \n",
      "4                0  \n",
      "\n",
      "[5 rows x 23 columns]\n"
     ]
    }
   ],
   "source": [
    "print(full_df.shape)\n",
    "full_offers_df = full_df.dropna(subset=['offer_id'])\n",
    "print(full_offers_df.shape, full_offers_df.head())"
   ]
  },
  {
   "cell_type": "code",
   "execution_count": 3498,
   "metadata": {},
   "outputs": [
    {
     "name": "stdout",
     "output_type": "stream",
     "text": [
      "(33772, 21)\n",
      "(18776, 21)   gender  age                       customer_id became_member_on  income  \\\n",
      "0   None  118  68be06ca386d4c31939f3a4f0e3dd783       2017-02-12     NaN   \n",
      "1   None  118  68be06ca386d4c31939f3a4f0e3dd783       2017-02-12     NaN   \n",
      "2   None  118  68be06ca386d4c31939f3a4f0e3dd783       2017-02-12     NaN   \n",
      "3   None  118  68be06ca386d4c31939f3a4f0e3dd783       2017-02-12     NaN   \n",
      "5   None  118  68be06ca386d4c31939f3a4f0e3dd783       2017-02-12     NaN   \n",
      "\n",
      "  member_join_year           event  time                          offer_id  \\\n",
      "0             2017  offer received   168  2906b810c7d4411798c6938adc9daaa5   \n",
      "1             2017    offer viewed   216  2906b810c7d4411798c6938adc9daaa5   \n",
      "2             2017  offer received   336  0b1e1539f2cc45b7b9fa7c272da2e1d7   \n",
      "3             2017    offer viewed   348  0b1e1539f2cc45b7b9fa7c272da2e1d7   \n",
      "5             2017  offer received   408  fafdcd668e3743c1bb461111dcafc2a4   \n",
      "\n",
      "   amount_spent  ...  offer_reward  offer_difficulty  offer_duration  \\\n",
      "0           NaN  ...           2.0              10.0             7.0   \n",
      "1           NaN  ...           2.0              10.0             7.0   \n",
      "2           NaN  ...           5.0              20.0            10.0   \n",
      "3           NaN  ...           5.0              20.0            10.0   \n",
      "5           NaN  ...           2.0              10.0            10.0   \n",
      "\n",
      "   offer_type         offer_desc offer_id_num  email mobile social   web  \n",
      "0    discount   discount: 2_10_7          9.0   True   True  False  True  \n",
      "1    discount   discount: 2_10_7          9.0   True   True  False  True  \n",
      "2    discount  discount: 5_20_10          4.0   True  False  False  True  \n",
      "3    discount  discount: 5_20_10          4.0   True  False  False  True  \n",
      "5    discount  discount: 2_10_10          6.0   True   True   True  True  \n",
      "\n",
      "[5 rows x 21 columns]\n"
     ]
    }
   ],
   "source": [
    "print(null_df.shape)\n",
    "null_offers_df = null_df.dropna(subset=['offer_id'])\n",
    "print(null_offers_df.shape, null_offers_df.head())"
   ]
  },
  {
   "cell_type": "code",
   "execution_count": 3499,
   "metadata": {},
   "outputs": [
    {
     "name": "stdout",
     "output_type": "stream",
     "text": [
      "(272762, 22)\n",
      "(148805, 22)   gender  age                       customer_id became_member_on    income  \\\n",
      "2      F   55  0610b486422d4921ae7d2bf64640c50b       2017-07-15  112000.0   \n",
      "3      F   55  0610b486422d4921ae7d2bf64640c50b       2017-07-15  112000.0   \n",
      "5      F   55  0610b486422d4921ae7d2bf64640c50b       2017-07-15  112000.0   \n",
      "6      F   75  78afa995795e4d85b5d9ceeca43f5fef       2017-05-09  100000.0   \n",
      "7      F   75  78afa995795e4d85b5d9ceeca43f5fef       2017-05-09  100000.0   \n",
      "\n",
      "  member_join_year            event  time                          offer_id  \\\n",
      "2             2017   offer received   408  9b98b8c7a33c4b65b9aebfe6a799e6d9   \n",
      "3             2017   offer received   504  3f207df678b143eea3cee63160fa8bed   \n",
      "5             2017  offer completed   528  9b98b8c7a33c4b65b9aebfe6a799e6d9   \n",
      "6             2017   offer received     0  9b98b8c7a33c4b65b9aebfe6a799e6d9   \n",
      "7             2017     offer viewed     6  9b98b8c7a33c4b65b9aebfe6a799e6d9   \n",
      "\n",
      "   amount_spent  ...  offer_difficulty  offer_duration     offer_type  \\\n",
      "2           NaN  ...               5.0             7.0           bogo   \n",
      "3           NaN  ...               0.0             4.0  informational   \n",
      "5           NaN  ...               5.0             7.0           bogo   \n",
      "6           NaN  ...               5.0             7.0           bogo   \n",
      "7           NaN  ...               5.0             7.0           bogo   \n",
      "\n",
      "             offer_desc offer_id_num email  mobile social   web age_group  \n",
      "2           bogo: 5_5_7          3.0  True    True  False  True     50-64  \n",
      "3  informational: 0_0_4          2.0  True    True  False  True     50-64  \n",
      "5           bogo: 5_5_7          3.0  True    True  False  True     50-64  \n",
      "6           bogo: 5_5_7          3.0  True    True  False  True       65+  \n",
      "7           bogo: 5_5_7          3.0  True    True  False  True       65+  \n",
      "\n",
      "[5 rows x 22 columns]\n"
     ]
    }
   ],
   "source": [
    "print(complete_df.shape)\n",
    "complete_offers_df = complete_df.dropna(subset=['offer_id'])\n",
    "print(complete_offers_df.shape, complete_offers_df.head())"
   ]
  },
  {
   "cell_type": "markdown",
   "metadata": {},
   "source": [
    "**Second**, let's fill null values in the complete user population dataset. We'll start with the categorical variable 'gender' and then address 'income' and 'age' 118. We're handling 'age' 118 as null since there are 2,175 users listed as 118. This outlier will wreak havoc on the model if not addressed.\n",
    "\n",
    "**Replace null values** with the proportion of genders. Instead of filling all 2,175 nulls with the mode, we're going to fill them with the existing proportion of M, F, and O users. "
   ]
  },
  {
   "cell_type": "code",
   "execution_count": 3500,
   "metadata": {},
   "outputs": [
    {
     "name": "stdout",
     "output_type": "stream",
     "text": [
      "gender\n",
      "M    0.557078\n",
      "F    0.428205\n",
      "O    0.014717\n",
      "Name: proportion, dtype: float64\n",
      "gender\n",
      "M    0.557199\n",
      "F    0.428062\n",
      "O    0.014739\n",
      "Name: proportion, dtype: float64\n"
     ]
    },
    {
     "name": "stderr",
     "output_type": "stream",
     "text": [
      "C:\\Users\\emma1\\AppData\\Local\\Temp\\ipykernel_9052\\1888428960.py:4: SettingWithCopyWarning: \n",
      "A value is trying to be set on a copy of a slice from a DataFrame.\n",
      "Try using .loc[row_indexer,col_indexer] = value instead\n",
      "\n",
      "See the caveats in the documentation: https://pandas.pydata.org/pandas-docs/stable/user_guide/indexing.html#returning-a-view-versus-a-copy\n",
      "  full_offers_df['gender'] = full_offers_df['gender'].apply(lambda x: np.random.choice(['M', 'F', 'O'], 1, replace=False, p=probability)[0] if pd.isna(x) else x)\n"
     ]
    },
    {
     "data": {
      "text/plain": [
       "np.int64(0)"
      ]
     },
     "execution_count": 3500,
     "metadata": {},
     "output_type": "execute_result"
    }
   ],
   "source": [
    "print(full_offers_df.gender.value_counts(normalize=True))\n",
    "\n",
    "probability = list(full_offers_df.gender.value_counts(normalize=True).values)\n",
    "full_offers_df['gender'] = full_offers_df['gender'].apply(lambda x: np.random.choice(['M', 'F', 'O'], 1, replace=False, p=probability)[0] if pd.isna(x) else x)\n",
    "\n",
    "print(full_offers_df.gender.value_counts(normalize=True))\n",
    "full_offers_df['gender'].isnull().sum()"
   ]
  },
  {
   "cell_type": "markdown",
   "metadata": {},
   "source": [
    "**Replace null values** in 'income' using the median since we know the mean has been pulled upward."
   ]
  },
  {
   "cell_type": "code",
   "execution_count": 3501,
   "metadata": {},
   "outputs": [
    {
     "name": "stdout",
     "output_type": "stream",
     "text": [
      "0    100000.0\n",
      "1         NaN\n",
      "2     70000.0\n",
      "3         NaN\n",
      "4         NaN\n",
      "Name: income, dtype: float64 18776\n",
      "0    100000.0\n",
      "1     65000.0\n",
      "2     70000.0\n",
      "3     65000.0\n",
      "4     65000.0\n",
      "Name: income, dtype: float64 0\n"
     ]
    },
    {
     "name": "stderr",
     "output_type": "stream",
     "text": [
      "C:\\Users\\emma1\\AppData\\Local\\Temp\\ipykernel_9052\\2551521764.py:2: SettingWithCopyWarning: \n",
      "A value is trying to be set on a copy of a slice from a DataFrame.\n",
      "Try using .loc[row_indexer,col_indexer] = value instead\n",
      "\n",
      "See the caveats in the documentation: https://pandas.pydata.org/pandas-docs/stable/user_guide/indexing.html#returning-a-view-versus-a-copy\n",
      "  full_offers_df['income'] = full_offers_df['income'].fillna(full_offers_df['income'].median())\n"
     ]
    }
   ],
   "source": [
    "print(full_offers_df['income'].head(), full_offers_df['income'].isnull().sum()) # Look at our starting data and number of nulls\n",
    "full_offers_df['income'] = full_offers_df['income'].fillna(full_offers_df['income'].median())\n",
    "print(full_offers_df['income'].head(), full_offers_df['income'].isnull().sum()) # Confirm nulls have been replaced with the median"
   ]
  },
  {
   "cell_type": "markdown",
   "metadata": {},
   "source": [
    "**Replace null values** with the proportion of ages. Instead of filling all 2,175 nulls with the mode, we're going to fill them with the existing proportion of ages. "
   ]
  },
  {
   "cell_type": "code",
   "execution_count": 3502,
   "metadata": {},
   "outputs": [
    {
     "name": "stderr",
     "output_type": "stream",
     "text": [
      "C:\\Users\\emma1\\AppData\\Local\\Temp\\ipykernel_9052\\1348049237.py:3: SettingWithCopyWarning: \n",
      "A value is trying to be set on a copy of a slice from a DataFrame.\n",
      "Try using .loc[row_indexer,col_indexer] = value instead\n",
      "\n",
      "See the caveats in the documentation: https://pandas.pydata.org/pandas-docs/stable/user_guide/indexing.html#returning-a-view-versus-a-copy\n",
      "  full_offers_df['age'] = full_offers_df['age'].replace(118, np.nan)\n"
     ]
    },
    {
     "name": "stdout",
     "output_type": "stream",
     "text": [
      "age\n",
      "118    0.112041\n",
      "58     0.025224\n",
      "53     0.022604\n",
      "57     0.022127\n",
      "51     0.021769\n",
      "         ...   \n",
      "100    0.000752\n",
      "96     0.000525\n",
      "99     0.000382\n",
      "101    0.000304\n",
      "98     0.000233\n",
      "Name: proportion, Length: 85, dtype: float64\n",
      "age\n",
      "58.0     0.028406\n",
      "53.0     0.025456\n",
      "57.0     0.024919\n",
      "51.0     0.024515\n",
      "59.0     0.024394\n",
      "           ...   \n",
      "100.0    0.000847\n",
      "96.0     0.000591\n",
      "99.0     0.000430\n",
      "101.0    0.000343\n",
      "98.0     0.000262\n",
      "Name: proportion, Length: 84, dtype: float64\n",
      "age\n",
      "58.0     0.028500\n",
      "53.0     0.025474\n",
      "57.0     0.024883\n",
      "51.0     0.024675\n",
      "55.0     0.024508\n",
      "           ...   \n",
      "100.0    0.000865\n",
      "96.0     0.000591\n",
      "99.0     0.000418\n",
      "101.0    0.000346\n",
      "98.0     0.000269\n",
      "Name: proportion, Length: 84, dtype: float64\n"
     ]
    },
    {
     "name": "stderr",
     "output_type": "stream",
     "text": [
      "C:\\Users\\emma1\\AppData\\Local\\Temp\\ipykernel_9052\\1348049237.py:10: SettingWithCopyWarning: \n",
      "A value is trying to be set on a copy of a slice from a DataFrame.\n",
      "Try using .loc[row_indexer,col_indexer] = value instead\n",
      "\n",
      "See the caveats in the documentation: https://pandas.pydata.org/pandas-docs/stable/user_guide/indexing.html#returning-a-view-versus-a-copy\n",
      "  full_offers_df['age'] = full_offers_df['age'].apply(lambda x: np.random.choice(age_list, 1, replace=False, p=probability)[0] if pd.isna(x) else x)\n"
     ]
    },
    {
     "data": {
      "text/plain": [
       "np.int64(0)"
      ]
     },
     "execution_count": 3502,
     "metadata": {},
     "output_type": "execute_result"
    }
   ],
   "source": [
    "print(full_offers_df.age.value_counts(normalize=True))\n",
    "\n",
    "full_offers_df['age'] = full_offers_df['age'].replace(118, np.nan)\n",
    "\n",
    "print(full_offers_df.age.value_counts(normalize=True))\n",
    "full_offers_df['age'].isnull().sum()\n",
    "\n",
    "probability = list(full_offers_df.age.value_counts(normalize=True).values)\n",
    "age_list = list(full_offers_df.age.value_counts(normalize=True).index)\n",
    "full_offers_df['age'] = full_offers_df['age'].apply(lambda x: np.random.choice(age_list, 1, replace=False, p=probability)[0] if pd.isna(x) else x)\n",
    "\n",
    "print(full_offers_df.age.value_counts(normalize=True))\n",
    "full_offers_df['age'].isnull().sum()"
   ]
  },
  {
   "cell_type": "markdown",
   "metadata": {},
   "source": [
    "**Comment:** That didn't keep the exact same proportion of ages, but it's closer to preserving the original proportions than if we had simply filled with the mean, median, or mode. \n",
    "\n",
    "**Check:** Are all of the null values handled?"
   ]
  },
  {
   "cell_type": "code",
   "execution_count": 3503,
   "metadata": {},
   "outputs": [
    {
     "name": "stdout",
     "output_type": "stream",
     "text": [
      "All Users: \n",
      " customer_id              0\n",
      "event                    0\n",
      "time                     0\n",
      "offer_id                 0\n",
      "amount_spent        167581\n",
      "reward_earned       134002\n",
      "gender                   0\n",
      "age                      0\n",
      "became_member_on         0\n",
      "income                   0\n",
      "member_join_year         0\n",
      "customer_id_num          0\n",
      "offer_reward             0\n",
      "offer_difficulty         0\n",
      "offer_duration           0\n",
      "offer_type               0\n",
      "offer_desc               0\n",
      "offer_id_num             0\n",
      "email                    0\n",
      "mobile                   0\n",
      "social                   0\n",
      "web                      0\n",
      "profile_complete         0\n",
      "dtype: int64 \n",
      "\n",
      " Users with Complete Profiles: \n",
      " gender                   0\n",
      "age                      0\n",
      "customer_id              0\n",
      "became_member_on         0\n",
      "income                   0\n",
      "member_join_year         0\n",
      "event                    0\n",
      "time                     0\n",
      "offer_id                 0\n",
      "amount_spent        148805\n",
      "reward_earned       116361\n",
      "offer_reward             0\n",
      "offer_difficulty         0\n",
      "offer_duration           0\n",
      "offer_type               0\n",
      "offer_desc               0\n",
      "offer_id_num             0\n",
      "email                    0\n",
      "mobile                   0\n",
      "social                   0\n",
      "web                      0\n",
      "age_group                0\n",
      "dtype: int64 \n",
      "\n",
      " Users with Null Profiles: \n",
      " gender              18776\n",
      "age                     0\n",
      "customer_id             0\n",
      "became_member_on        0\n",
      "income              18776\n",
      "member_join_year        0\n",
      "event                   0\n",
      "time                    0\n",
      "offer_id                0\n",
      "amount_spent        18776\n",
      "reward_earned       17641\n",
      "offer_reward            0\n",
      "offer_difficulty        0\n",
      "offer_duration          0\n",
      "offer_type              0\n",
      "offer_desc              0\n",
      "offer_id_num            0\n",
      "email                   0\n",
      "mobile                  0\n",
      "social                  0\n",
      "web                     0\n",
      "dtype: int64\n"
     ]
    }
   ],
   "source": [
    "print('All Users: \\n', \n",
    "      full_offers_df.isnull().sum(), '\\n\\n',\n",
    "      'Users with Complete Profiles: \\n', \n",
    "      complete_offers_df.isnull().sum(), '\\n\\n',\n",
    "      'Users with Null Profiles: \\n', \n",
    "      null_offers_df.isnull().sum())"
   ]
  },
  {
   "cell_type": "markdown",
   "metadata": {},
   "source": [
    "**Comment:** These are the results we expected. We can drop the 'amount_spent' column from each dataframe since it relates to transactions not involved in offer engagement. We can also convert the nulls in 'reward_earned' to 0. We'll also go ahead and drop 'gender', 'income', and 'age' from our null profiles dataset since all of the values are null. We will also add age_group into our full_offers_df now that the 118 ages have been reassigned proportionally. Finally, we'll drop 'offer_id', 'customer_id', 'offer_desc', and 'became_member_on' from all three datasets."
   ]
  },
  {
   "cell_type": "code",
   "execution_count": 3504,
   "metadata": {},
   "outputs": [],
   "source": [
    "full_offers_df = full_offers_df.drop(['amount_spent', 'offer_id', 'customer_id', 'offer_desc', 'became_member_on'], axis=1)\n",
    "complete_offers_df = complete_offers_df.drop(['amount_spent', 'offer_id', 'customer_id', 'offer_desc', 'became_member_on'], axis=1)\n",
    "null_offers_df = null_offers_df.drop(['amount_spent', 'gender', 'income', 'age', 'offer_id', 'customer_id', 'offer_desc', 'became_member_on'], axis=1)\n",
    "\n",
    "full_offers_df['reward_earned'] = full_offers_df['reward_earned'].fillna(0)\n",
    "complete_offers_df['reward_earned'] = complete_offers_df['reward_earned'].fillna(0)\n",
    "null_offers_df['reward_earned'] = null_offers_df['reward_earned'].fillna(0)\n",
    "\n",
    "full_offers_df['age_group'] = full_offers_df.apply(assign_age_group, axis=1)"
   ]
  },
  {
   "cell_type": "markdown",
   "metadata": {},
   "source": [
    "**Recheck:**"
   ]
  },
  {
   "cell_type": "code",
   "execution_count": 3505,
   "metadata": {},
   "outputs": [
    {
     "name": "stdout",
     "output_type": "stream",
     "text": [
      "All Users: \n",
      " event               0\n",
      "time                0\n",
      "reward_earned       0\n",
      "gender              0\n",
      "age                 0\n",
      "income              0\n",
      "member_join_year    0\n",
      "customer_id_num     0\n",
      "offer_reward        0\n",
      "offer_difficulty    0\n",
      "offer_duration      0\n",
      "offer_type          0\n",
      "offer_id_num        0\n",
      "email               0\n",
      "mobile              0\n",
      "social              0\n",
      "web                 0\n",
      "profile_complete    0\n",
      "age_group           0\n",
      "dtype: int64 \n",
      "\n",
      " Users with Complete Profiles: \n",
      " gender              0\n",
      "age                 0\n",
      "income              0\n",
      "member_join_year    0\n",
      "event               0\n",
      "time                0\n",
      "reward_earned       0\n",
      "offer_reward        0\n",
      "offer_difficulty    0\n",
      "offer_duration      0\n",
      "offer_type          0\n",
      "offer_id_num        0\n",
      "email               0\n",
      "mobile              0\n",
      "social              0\n",
      "web                 0\n",
      "age_group           0\n",
      "dtype: int64 \n",
      "\n",
      " Users with Null Profiles: \n",
      " member_join_year    0\n",
      "event               0\n",
      "time                0\n",
      "reward_earned       0\n",
      "offer_reward        0\n",
      "offer_difficulty    0\n",
      "offer_duration      0\n",
      "offer_type          0\n",
      "offer_id_num        0\n",
      "email               0\n",
      "mobile              0\n",
      "social              0\n",
      "web                 0\n",
      "dtype: int64\n"
     ]
    }
   ],
   "source": [
    "print('All Users: \\n', \n",
    "      full_offers_df.isnull().sum(), '\\n\\n',\n",
    "      'Users with Complete Profiles: \\n', \n",
    "      complete_offers_df.isnull().sum(), '\\n\\n',\n",
    "      'Users with Null Profiles: \\n', \n",
    "      null_offers_df.isnull().sum())"
   ]
  },
  {
   "cell_type": "markdown",
   "metadata": {},
   "source": [
    "**Finally**, let's handle the few remaining categorical variables."
   ]
  },
  {
   "cell_type": "code",
   "execution_count": 3506,
   "metadata": {},
   "outputs": [],
   "source": [
    "categorical = ['gender', 'age_group', 'offer_type']\n",
    "\n",
    "full_offers_df = pd.get_dummies(full_offers_df, columns = categorical)\n",
    "full_offers_df['event'] = full_offers_df['event'].map({'offer received': 1, 'offer viewed': 2, 'offer completed': 3})\n",
    "\n",
    "complete_offers_df = pd.get_dummies(complete_offers_df, columns = categorical)\n",
    "complete_offers_df['event'] = complete_offers_df['event'].map({'offer received': 1, 'offer viewed': 2, 'offer completed': 3})\n",
    "\n",
    "null_offers_df = pd.get_dummies(null_offers_df, columns = ['offer_type'])\n",
    "null_offers_df['event'] = null_offers_df['event'].map({'offer received': 1, 'offer viewed': 2, 'offer completed': 3})\n",
    "\n"
   ]
  },
  {
   "cell_type": "code",
   "execution_count": 3507,
   "metadata": {},
   "outputs": [
    {
     "name": "stdout",
     "output_type": "stream",
     "text": [
      "<class 'pandas.core.frame.DataFrame'>\n",
      "Index: 167581 entries, 0 to 306527\n",
      "Data columns (total 27 columns):\n",
      " #   Column                    Non-Null Count   Dtype  \n",
      "---  ------                    --------------   -----  \n",
      " 0   event                     167581 non-null  int64  \n",
      " 1   time                      167581 non-null  int64  \n",
      " 2   reward_earned             167581 non-null  float64\n",
      " 3   age                       167581 non-null  float64\n",
      " 4   income                    167581 non-null  float64\n",
      " 5   member_join_year          167581 non-null  object \n",
      " 6   customer_id_num           167581 non-null  int64  \n",
      " 7   offer_reward              167581 non-null  float64\n",
      " 8   offer_difficulty          167581 non-null  float64\n",
      " 9   offer_duration            167581 non-null  float64\n",
      " 10  offer_id_num              167581 non-null  float64\n",
      " 11  email                     167581 non-null  object \n",
      " 12  mobile                    167581 non-null  object \n",
      " 13  social                    167581 non-null  object \n",
      " 14  web                       167581 non-null  object \n",
      " 15  profile_complete          167581 non-null  int64  \n",
      " 16  gender_F                  167581 non-null  bool   \n",
      " 17  gender_M                  167581 non-null  bool   \n",
      " 18  gender_O                  167581 non-null  bool   \n",
      " 19  age_group_0-19            167581 non-null  bool   \n",
      " 20  age_group_20-34           167581 non-null  bool   \n",
      " 21  age_group_35-49           167581 non-null  bool   \n",
      " 22  age_group_50-64           167581 non-null  bool   \n",
      " 23  age_group_65+             167581 non-null  bool   \n",
      " 24  offer_type_bogo           167581 non-null  bool   \n",
      " 25  offer_type_discount       167581 non-null  bool   \n",
      " 26  offer_type_informational  167581 non-null  bool   \n",
      "dtypes: bool(11), float64(7), int64(4), object(5)\n",
      "memory usage: 23.5+ MB\n",
      "<class 'pandas.core.frame.DataFrame'>\n",
      "Index: 148805 entries, 2 to 272760\n",
      "Data columns (total 25 columns):\n",
      " #   Column                    Non-Null Count   Dtype  \n",
      "---  ------                    --------------   -----  \n",
      " 0   age                       148805 non-null  int64  \n",
      " 1   income                    148805 non-null  float64\n",
      " 2   member_join_year          148805 non-null  object \n",
      " 3   event                     148805 non-null  int64  \n",
      " 4   time                      148805 non-null  int64  \n",
      " 5   reward_earned             148805 non-null  float64\n",
      " 6   offer_reward              148805 non-null  float64\n",
      " 7   offer_difficulty          148805 non-null  float64\n",
      " 8   offer_duration            148805 non-null  float64\n",
      " 9   offer_id_num              148805 non-null  float64\n",
      " 10  email                     148805 non-null  object \n",
      " 11  mobile                    148805 non-null  object \n",
      " 12  social                    148805 non-null  object \n",
      " 13  web                       148805 non-null  object \n",
      " 14  gender_F                  148805 non-null  bool   \n",
      " 15  gender_M                  148805 non-null  bool   \n",
      " 16  gender_O                  148805 non-null  bool   \n",
      " 17  age_group_0-19            148805 non-null  bool   \n",
      " 18  age_group_20-34           148805 non-null  bool   \n",
      " 19  age_group_35-49           148805 non-null  bool   \n",
      " 20  age_group_50-64           148805 non-null  bool   \n",
      " 21  age_group_65+             148805 non-null  bool   \n",
      " 22  offer_type_bogo           148805 non-null  bool   \n",
      " 23  offer_type_discount       148805 non-null  bool   \n",
      " 24  offer_type_informational  148805 non-null  bool   \n",
      "dtypes: bool(11), float64(6), int64(3), object(5)\n",
      "memory usage: 18.6+ MB\n",
      "<class 'pandas.core.frame.DataFrame'>\n",
      "Index: 18776 entries, 0 to 33770\n",
      "Data columns (total 15 columns):\n",
      " #   Column                    Non-Null Count  Dtype  \n",
      "---  ------                    --------------  -----  \n",
      " 0   member_join_year          18776 non-null  object \n",
      " 1   event                     18776 non-null  int64  \n",
      " 2   time                      18776 non-null  int64  \n",
      " 3   reward_earned             18776 non-null  float64\n",
      " 4   offer_reward              18776 non-null  float64\n",
      " 5   offer_difficulty          18776 non-null  float64\n",
      " 6   offer_duration            18776 non-null  float64\n",
      " 7   offer_id_num              18776 non-null  float64\n",
      " 8   email                     18776 non-null  object \n",
      " 9   mobile                    18776 non-null  object \n",
      " 10  social                    18776 non-null  object \n",
      " 11  web                       18776 non-null  object \n",
      " 12  offer_type_bogo           18776 non-null  bool   \n",
      " 13  offer_type_discount       18776 non-null  bool   \n",
      " 14  offer_type_informational  18776 non-null  bool   \n",
      "dtypes: bool(3), float64(5), int64(2), object(5)\n",
      "memory usage: 1.9+ MB\n",
      "None \n",
      "\n",
      " None \n",
      "\n",
      " None\n"
     ]
    }
   ],
   "source": [
    "print(full_offers_df.info(), '\\n\\n',\n",
    "      complete_offers_df.info(), '\\n\\n',\n",
    "      null_offers_df.info())"
   ]
  },
  {
   "cell_type": "code",
   "execution_count": 3508,
   "metadata": {},
   "outputs": [],
   "source": [
    "# Feature normalization \n",
    "scaler = MinMaxScaler() # default = (0, 1)\n",
    "\n",
    "numerical = ['time', 'age', 'income', 'offer_reward', 'offer_difficulty', 'offer_duration']\n",
    "\n",
    "full_offers_df[numerical] = scaler.fit_transform(full_offers_df[numerical])\n",
    "complete_offers_df[numerical] = scaler.fit_transform(complete_offers_df[numerical])\n",
    "\n",
    "numerical_null = ['time', 'offer_reward', 'offer_difficulty', 'offer_duration']\n",
    "null_offers_df[numerical_null] = scaler.fit_transform(null_offers_df[numerical_null])"
   ]
  },
  {
   "cell_type": "markdown",
   "metadata": {},
   "source": [
    "**Train-Test Splits:**"
   ]
  },
  {
   "cell_type": "code",
   "execution_count": 3509,
   "metadata": {},
   "outputs": [],
   "source": [
    "features_full = full_offers_df.drop('event', axis=1)\n",
    "target_full = full_offers_df['event']\n",
    "\n",
    "features_complete = complete_offers_df.drop('event', axis=1)\n",
    "target_complete = complete_offers_df['event']\n",
    "\n",
    "features_null = null_offers_df.drop('event', axis=1)\n",
    "target_null = null_offers_df['event']"
   ]
  },
  {
   "cell_type": "code",
   "execution_count": 3510,
   "metadata": {},
   "outputs": [
    {
     "name": "stdout",
     "output_type": "stream",
     "text": [
      "Training set: 117306 rows\n",
      "Testing set: 50275 rows\n",
      "Training set: 104163 rows\n",
      "Testing set: 44642 rows\n",
      "Training set: 13143 rows\n",
      "Testing set: 5633 rows\n"
     ]
    }
   ],
   "source": [
    "X_train_full, X_test_full, y_train_full, y_test_full = train_test_split(features_full, target_full, test_size = 0.3, random_state = 42)\n",
    "\n",
    "print(\"Training set: {} rows\".format(X_train_full.shape[0]))\n",
    "print(\"Testing set: {} rows\".format(X_test_full.shape[0]))\n",
    "\n",
    "X_train_complete, X_test_complete, y_train_complete, y_test_complete = train_test_split(features_complete, target_complete, test_size = 0.3, random_state = 42)\n",
    "\n",
    "print(\"Training set: {} rows\".format(X_train_complete.shape[0]))\n",
    "print(\"Testing set: {} rows\".format(X_test_complete.shape[0]))\n",
    "\n",
    "X_train_null, X_test_null, y_train_null, y_test_null = train_test_split(features_null, target_null, test_size = 0.3, random_state = 42)\n",
    "\n",
    "print(\"Training set: {} rows\".format(X_train_null.shape[0]))\n",
    "print(\"Testing set: {} rows\".format(X_test_null.shape[0]))"
   ]
  },
  {
   "cell_type": "markdown",
   "metadata": {},
   "source": [
    "**Steps #2 and #3:** Train and test the model."
   ]
  },
  {
   "cell_type": "code",
   "execution_count": 3511,
   "metadata": {},
   "outputs": [],
   "source": [
    "def model_test_full(clf):\n",
    "    \"\"\"\n",
    "    Returns F1 score for train and test variables for the full user dataset\n",
    "       \n",
    "    Parameters\n",
    "    --------\n",
    "    clf: estimator instance\n",
    "    \n",
    "    Returns\n",
    "    --------\n",
    "    train_f1: F1 score for the training data \n",
    "    test_f1: F1 score for the test data\n",
    "    name: model used\n",
    "       \n",
    "    \"\"\"\n",
    "    train_pred =  (clf.fit(X_train_full, y_train_full)).predict(X_train_full)\n",
    "    test_pred = (clf.fit(X_train_full, y_train_full)).predict(X_test_full)\n",
    "    train_f1_full =  accuracy_score(y_train_full, train_pred)*100\n",
    "    test_f1_full = fbeta_score(y_test_full, test_pred, beta = 0.5, average='micro' )*100\n",
    "    name = clf.__class__.__name__\n",
    "    \n",
    "    return train_f1_full, test_f1_full, name\n",
    "\n",
    "def model_test_complete(clf):\n",
    "    \"\"\"\n",
    "    Returns F1 score for train and test variables for the dataset containing users with complete profiles\n",
    "       \n",
    "    Parameters\n",
    "    --------\n",
    "    clf: estimator instance\n",
    "    \n",
    "    Returns\n",
    "    --------\n",
    "    train_f1: F1 score for the training data \n",
    "    test_f1: F1 score for the test data\n",
    "    name: model used\n",
    "       \n",
    "    \"\"\"\n",
    "    train_pred =  (clf.fit(X_train_complete, y_train_complete)).predict(X_train_complete)\n",
    "    test_pred = (clf.fit(X_train_complete, y_train_complete)).predict(X_test_complete)\n",
    "    train_f1_complete =  accuracy_score(y_train_complete, train_pred)*100\n",
    "    test_f1_complete = fbeta_score(y_test_complete, test_pred, beta = 0.5, average='micro' )*100\n",
    "    name = clf.__class__.__name__\n",
    "    \n",
    "    return train_f1_complete, test_f1_complete, name\n",
    "\n",
    "def model_test_null(clf):\n",
    "    \"\"\"\n",
    "    Returns F1 score for train and test variables for the dataset containing users with null profiles\n",
    "       \n",
    "    Parameters\n",
    "    --------\n",
    "    clf: estimator instance\n",
    "    \n",
    "    Returns\n",
    "    --------\n",
    "    train_f1: F1 score for the training data \n",
    "    test_f1: F1 score for the test data\n",
    "    name: model used\n",
    "       \n",
    "    \"\"\"\n",
    "    train_pred =  (clf.fit(X_train_null, y_train_null)).predict(X_train_null)\n",
    "    test_pred = (clf.fit(X_train_null, y_train_null)).predict(X_test_null)\n",
    "    train_f1_null =  accuracy_score(y_train_null, train_pred)*100\n",
    "    test_f1_null = fbeta_score(y_test_null, test_pred, beta = 0.5, average='micro' )*100\n",
    "    name = clf.__class__.__name__\n",
    "    \n",
    "    return train_f1_null, test_f1_null, name"
   ]
  },
  {
   "cell_type": "markdown",
   "metadata": {},
   "source": [
    "**KNeighbors Classifier:**"
   ]
  },
  {
   "cell_type": "code",
   "execution_count": 3512,
   "metadata": {},
   "outputs": [],
   "source": [
    "clf1 = KNeighborsClassifier(n_neighbors = 5)\n",
    "\n",
    "a_train_full, a_test_full, a_model_full = model_test_full(clf1)\n",
    "a_train_complete, a_test_complete, a_model_complete = model_test_complete(clf1)\n",
    "a_train_null, a_test_null, a_model_null = model_test_null(clf1)"
   ]
  },
  {
   "cell_type": "code",
   "execution_count": 3513,
   "metadata": {},
   "outputs": [],
   "source": [
    "knn_full = pd.DataFrame({'Dataset': 'All Users', 'Benchmark Model': [a_model_full], 'train F1 score':[a_train_full], 'test F1 score': [a_test_full]})\n",
    "knn_complete = pd.DataFrame({'Dataset': 'Users with Complete Profiles', 'Benchmark Model': [a_model_complete], 'train F1 score':[a_train_complete], 'test F1 score': [a_test_complete]})\n",
    "knn_null = pd.DataFrame({'Dataset': 'Users with Null Profiles', 'Benchmark Model': [a_model_null], 'train F1 score':[a_train_null], 'test F1 score': [a_test_null]})"
   ]
  },
  {
   "cell_type": "markdown",
   "metadata": {},
   "source": [
    "**Random Forest Classifier:**"
   ]
  },
  {
   "cell_type": "code",
   "execution_count": 3514,
   "metadata": {},
   "outputs": [],
   "source": [
    "clf2 = RandomForestClassifier(random_state = 10)\n",
    "\n",
    "b_train_full, b_test_full, b_model_full = model_test_full(clf2)\n",
    "b_train_complete, b_test_complete, b_model_complete = model_test_complete(clf2)\n",
    "b_train_null, b_test_null, b_model_null = model_test_null(clf2)"
   ]
  },
  {
   "cell_type": "code",
   "execution_count": 3515,
   "metadata": {},
   "outputs": [],
   "source": [
    "rfc_full = pd.DataFrame({'Dataset': 'All Users', 'Benchmark Model': [b_model_full], 'train F1 score':[b_train_full], 'test F1 score': [b_test_full]})\n",
    "rfc_complete = pd.DataFrame({'Dataset': 'Users with Complete Profiles', 'Benchmark Model': [b_model_complete], 'train F1 score':[b_train_complete], 'test F1 score': [b_test_complete]})\n",
    "rfc_null = pd.DataFrame({'Dataset': 'Users with Null Profiles', 'Benchmark Model': [b_model_null], 'train F1 score':[b_train_null], 'test F1 score': [b_test_null]})"
   ]
  },
  {
   "cell_type": "markdown",
   "metadata": {},
   "source": [
    "**Decision Tree Classifier:**"
   ]
  },
  {
   "cell_type": "code",
   "execution_count": 3516,
   "metadata": {},
   "outputs": [],
   "source": [
    "clf3 = DecisionTreeClassifier(random_state = 10)\n",
    "\n",
    "c_train_full, c_test_full, c_model_full = model_test_full(clf3)\n",
    "c_train_complete, c_test_complete, c_model_complete = model_test_complete(clf3)\n",
    "c_train_null, c_test_null, c_model_null = model_test_null(clf3)"
   ]
  },
  {
   "cell_type": "code",
   "execution_count": 3517,
   "metadata": {},
   "outputs": [],
   "source": [
    "dtc_full = pd.DataFrame({'Dataset': 'All Users', 'Benchmark Model': [c_model_full], 'train F1 score':[c_train_full], 'test F1 score': [c_test_full]})\n",
    "dtc_complete = pd.DataFrame({'Dataset': 'Users with Complete Profiles', 'Benchmark Model': [c_model_complete], 'train F1 score':[c_train_complete], 'test F1 score': [c_test_complete]})\n",
    "dtc_null = pd.DataFrame({'Dataset': 'Users with Null Profiles', 'Benchmark Model': [c_model_null], 'train F1 score':[c_train_null], 'test F1 score': [c_test_null]})"
   ]
  },
  {
   "cell_type": "markdown",
   "metadata": {},
   "source": [
    "**Compare** model results in a dataframe:"
   ]
  },
  {
   "cell_type": "code",
   "execution_count": 3518,
   "metadata": {},
   "outputs": [
    {
     "data": {
      "text/html": [
       "<div>\n",
       "<style scoped>\n",
       "    .dataframe tbody tr th:only-of-type {\n",
       "        vertical-align: middle;\n",
       "    }\n",
       "\n",
       "    .dataframe tbody tr th {\n",
       "        vertical-align: top;\n",
       "    }\n",
       "\n",
       "    .dataframe thead th {\n",
       "        text-align: right;\n",
       "    }\n",
       "</style>\n",
       "<table border=\"1\" class=\"dataframe\">\n",
       "  <thead>\n",
       "    <tr style=\"text-align: right;\">\n",
       "      <th></th>\n",
       "      <th>Dataset</th>\n",
       "      <th>Benchmark Model</th>\n",
       "      <th>train F1 score</th>\n",
       "      <th>test F1 score</th>\n",
       "    </tr>\n",
       "  </thead>\n",
       "  <tbody>\n",
       "    <tr>\n",
       "      <th>0</th>\n",
       "      <td>All Users</td>\n",
       "      <td>KNeighborsClassifier</td>\n",
       "      <td>65.834655</td>\n",
       "      <td>43.484833</td>\n",
       "    </tr>\n",
       "    <tr>\n",
       "      <th>0</th>\n",
       "      <td>Users with Complete Profiles</td>\n",
       "      <td>KNeighborsClassifier</td>\n",
       "      <td>76.011636</td>\n",
       "      <td>59.612025</td>\n",
       "    </tr>\n",
       "    <tr>\n",
       "      <th>0</th>\n",
       "      <td>Users with Null Profiles</td>\n",
       "      <td>KNeighborsClassifier</td>\n",
       "      <td>86.471886</td>\n",
       "      <td>85.496183</td>\n",
       "    </tr>\n",
       "    <tr>\n",
       "      <th>0</th>\n",
       "      <td>All Users</td>\n",
       "      <td>RandomForestClassifier</td>\n",
       "      <td>95.494689</td>\n",
       "      <td>68.972650</td>\n",
       "    </tr>\n",
       "    <tr>\n",
       "      <th>0</th>\n",
       "      <td>Users with Complete Profiles</td>\n",
       "      <td>RandomForestClassifier</td>\n",
       "      <td>94.835978</td>\n",
       "      <td>69.593656</td>\n",
       "    </tr>\n",
       "    <tr>\n",
       "      <th>0</th>\n",
       "      <td>Users with Null Profiles</td>\n",
       "      <td>RandomForestClassifier</td>\n",
       "      <td>89.576200</td>\n",
       "      <td>88.904669</td>\n",
       "    </tr>\n",
       "    <tr>\n",
       "      <th>0</th>\n",
       "      <td>All Users</td>\n",
       "      <td>DecisionTreeClassifier</td>\n",
       "      <td>95.494689</td>\n",
       "      <td>85.034311</td>\n",
       "    </tr>\n",
       "    <tr>\n",
       "      <th>0</th>\n",
       "      <td>Users with Complete Profiles</td>\n",
       "      <td>DecisionTreeClassifier</td>\n",
       "      <td>94.837898</td>\n",
       "      <td>85.657005</td>\n",
       "    </tr>\n",
       "    <tr>\n",
       "      <th>0</th>\n",
       "      <td>Users with Null Profiles</td>\n",
       "      <td>DecisionTreeClassifier</td>\n",
       "      <td>89.576200</td>\n",
       "      <td>89.881058</td>\n",
       "    </tr>\n",
       "  </tbody>\n",
       "</table>\n",
       "</div>"
      ],
      "text/plain": [
       "                        Dataset         Benchmark Model  train F1 score  \\\n",
       "0                     All Users    KNeighborsClassifier       65.834655   \n",
       "0  Users with Complete Profiles    KNeighborsClassifier       76.011636   \n",
       "0      Users with Null Profiles    KNeighborsClassifier       86.471886   \n",
       "0                     All Users  RandomForestClassifier       95.494689   \n",
       "0  Users with Complete Profiles  RandomForestClassifier       94.835978   \n",
       "0      Users with Null Profiles  RandomForestClassifier       89.576200   \n",
       "0                     All Users  DecisionTreeClassifier       95.494689   \n",
       "0  Users with Complete Profiles  DecisionTreeClassifier       94.837898   \n",
       "0      Users with Null Profiles  DecisionTreeClassifier       89.576200   \n",
       "\n",
       "   test F1 score  \n",
       "0      43.484833  \n",
       "0      59.612025  \n",
       "0      85.496183  \n",
       "0      68.972650  \n",
       "0      69.593656  \n",
       "0      88.904669  \n",
       "0      85.034311  \n",
       "0      85.657005  \n",
       "0      89.881058  "
      ]
     },
     "execution_count": 3518,
     "metadata": {},
     "output_type": "execute_result"
    }
   ],
   "source": [
    "comparison_df = pd.concat([knn_full, knn_complete, knn_null, rfc_full, rfc_complete, rfc_null, dtc_full, dtc_complete, dtc_null])\n",
    "comparison_df"
   ]
  },
  {
   "cell_type": "markdown",
   "metadata": {},
   "source": [
    "## Section 5: Evaluate the Results\n",
    "\n",
    "* All three models performed better when splitting out complete profiles vs. null profiles. Starbucks should consider how profile completion correlates with a user's proclivity to complete offers. Users with null profiles completed far fewer offers than users with completed profiles.\n",
    "* Given the lower ratio of offer completions for null profiles compared to complete profiles, Starbucks may consider only sending promotions to users with completed profiles.\n",
    "* Women also showed a greater ratio of offer completions than men and other genders, so it may be beneficial to send more offers to women than men.\n",
    "* Another consideration is that all gender groups showed a slight preference and higher offer completion rates on discounts than BOGO offers.\n",
    "\n",
    "In the future, it may be interesting to further explore differences in engagement across demographic groups, incorporating age and income. Average spend could also be incorporated to gain a better understanding of a customer’s purchasing behavior outside the context of promotional offers.\n",
    "\n",
    "The transcripts dataset could be bolstered with information on the products each customer purchased. Location data may also be an important consideration when analyzing customer behavior and preferences."
   ]
  }
 ],
 "metadata": {
  "kernelspec": {
   "display_name": ".venv",
   "language": "python",
   "name": "python3"
  },
  "language_info": {
   "codemirror_mode": {
    "name": "ipython",
    "version": 3
   },
   "file_extension": ".py",
   "mimetype": "text/x-python",
   "name": "python",
   "nbconvert_exporter": "python",
   "pygments_lexer": "ipython3",
   "version": "3.13.2"
  }
 },
 "nbformat": 4,
 "nbformat_minor": 2
}
